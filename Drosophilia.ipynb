{
 "cells": [
  {
   "cell_type": "markdown",
   "metadata": {},
   "source": [
    "# Drosophilia Data\n",
    "\n",
    "This notebook will compute mutual information on the drosophilia data.\n"
   ]
  },
  {
   "cell_type": "code",
   "execution_count": 2,
   "metadata": {},
   "outputs": [],
   "source": [
    "import pandas as pd\n",
    "from matplotlib import pyplot as plt\n",
    "%matplotlib inline\n",
    "import seaborn as sns\n",
    "import numpy as np"
   ]
  },
  {
   "cell_type": "code",
   "execution_count": 3,
   "metadata": {},
   "outputs": [
    {
     "name": "stdout",
     "output_type": "stream",
     "text": [
      "                                                     v type  claw  \\\n",
      "0     Thermo KC A_Right - Mushroom Body  Left #4229950   KC   2.0   \n",
      "1                                        KC12 #4230061   KC   1.0   \n",
      "2                                        KC10 #4227304   KC   1.0   \n",
      "3                                        KC42 #8066542   KC   1.0   \n",
      "4                                        KC16 #4415241   KC   2.0   \n",
      "5                                      KC100 #11813287   KC   2.0   \n",
      "6                                LON KC right #8068173   KC   4.0   \n",
      "7                                        KC21 #5051342   KC   1.0   \n",
      "8                                         KC2 #3347708   KC   1.0   \n",
      "9                                        KC13 #4230739   KC   1.0   \n",
      "10                                       KC90 #9796812   KC   1.0   \n",
      "11         Thermo KC B_right - mbi2 - unknown #3664102   KC   4.0   \n",
      "12                                      KC96 #10056280   KC   2.0   \n",
      "13                                       KC34 #7786053   KC   1.0   \n",
      "14                                       KC78 #9556700   KC   2.0   \n",
      "15                                       KC25 #5836163   KC   1.0   \n",
      "16                                       KC28 #5836206   KC   2.0   \n",
      "17                                       KC20 #5019924   KC   1.0   \n",
      "18                            KC65;_42a right #8850802   KC   1.0   \n",
      "19                                       KC22 #5835799   KC   1.0   \n",
      "20                                       KC49 #8413663   KC   2.0   \n",
      "21                                KC unpaired #4241192   KC   1.0   \n",
      "22                                      KC73 #16850888   KC   1.0   \n",
      "23                                       KC17 #4444354   KC   1.0   \n",
      "24                                       KC27 #5836197   KC   1.0   \n",
      "25                                       KC66 #8891315   KC   2.0   \n",
      "26                                       KC86 #9766793   KC   4.0   \n",
      "27                                           KC #0 #29   KC   4.0   \n",
      "28                                       KC82 #9609048   KC   1.0   \n",
      "29                                       KC50 #8419602   KC   6.0   \n",
      "..                                                 ...  ...   ...   \n",
      "183                        a PN Right (Missing Branch)   PN   NaN   \n",
      "184          Lower Looping PN Right - AVM004 (BAla1/2)   PN   NaN   \n",
      "185                                  mPN iACT C2 right   PN   NaN   \n",
      "186                                       82a PN right   PN   NaN   \n",
      "187                                   handlebar neuron   PN   NaN   \n",
      "188                             AF13: PVL005 - 3 Right   PN   NaN   \n",
      "189                                       AVL011 Right   PN   NaN   \n",
      "190  BAmd2 r neuron 4983939 crosses midline cb - right   PN   NaN   \n",
      "191  MBON ML III. Baso-Anterior target neuron #2 MB...   PN   NaN   \n",
      "192                                   PVL005 - 2 Right   PN   NaN   \n",
      "193                                       33a PN right   PN   NaN   \n",
      "194               handlebar-like neuron [missing soma]   PN   NaN   \n",
      "195   PN in Olfactory Bundle (maybe not odor...) Right   PN   NaN   \n",
      "196                from upper looping PN - peptidergic   PN   NaN   \n",
      "197                                  T: PPLV - 1 Right   PN   NaN   \n",
      "198                                   mPN BAmd1-g left   PN   NaN   \n",
      "199                                         pOLP;right   PN   NaN   \n",
      "200                PN Only Connects To Togethers Right   PN   NaN   \n",
      "201                                   CPLd interneuron   PN   NaN   \n",
      "202                     mPN iACT bilateral LOWER right   PN   NaN   \n",
      "203                      mPN iACT bilateral LOWER left   PN   NaN   \n",
      "204                                  mPN iACT A1 right   PN   NaN   \n",
      "205                                Suckerfish PN right   PN   NaN   \n",
      "206                                          nc2;right   PN   NaN   \n",
      "207                                    Looks like a PN   PN   NaN   \n",
      "208                                         mPN D left   PN   NaN   \n",
      "209                                     mPN iACT VUM L   PN   NaN   \n",
      "210       1+2 #1 MB PN - putative - double check again   PN   NaN   \n",
      "211                                    mPN cobra right   PN   NaN   \n",
      "212          Upper Looping PN Right - AVM004 (BAla1/2)   PN   NaN   \n",
      "\n",
      "            dist     age  cluster  \n",
      "0     337.638010  mature        1  \n",
      "1       0.000000  mature        1  \n",
      "2    1291.203570  mature        1  \n",
      "3     252.633470  mature        1  \n",
      "4    1822.295250  mature        1  \n",
      "5    1031.646020  mature        1  \n",
      "6    3928.179840  mature        1  \n",
      "7    5966.114650  mature        1  \n",
      "8    7994.829270  mature        1  \n",
      "9     946.986460  mature        1  \n",
      "10   4249.320010  mature        1  \n",
      "11      0.000000  mature        1  \n",
      "12   4249.320010  mature        1  \n",
      "13   3042.089030  mature        1  \n",
      "14   8278.148080  mature        1  \n",
      "15   4249.320010  mature        1  \n",
      "16   2497.301090  mature        1  \n",
      "17   5966.114650  mature        1  \n",
      "18   2721.851950  mature        1  \n",
      "19   7878.687810  mature        1  \n",
      "20   8278.148080  mature        1  \n",
      "21     86.580820  mature        1  \n",
      "22    252.633470  mature        1  \n",
      "23   6297.959970  mature        1  \n",
      "24    922.741380  mature        2  \n",
      "25   3823.458474  mature        2  \n",
      "26   3036.661990  mature        1  \n",
      "27   7784.901670  mature        2  \n",
      "28    325.740790  mature        2  \n",
      "29   6297.959970  mature        2  \n",
      "..           ...     ...      ...  \n",
      "183          NaN     NaN        6  \n",
      "184          NaN     NaN        6  \n",
      "185          NaN     NaN        6  \n",
      "186          NaN     NaN        6  \n",
      "187          NaN     NaN        6  \n",
      "188          NaN     NaN        6  \n",
      "189          NaN     NaN        6  \n",
      "190          NaN     NaN        6  \n",
      "191          NaN     NaN        6  \n",
      "192          NaN     NaN        6  \n",
      "193          NaN     NaN        6  \n",
      "194          NaN     NaN        6  \n",
      "195          NaN     NaN        6  \n",
      "196          NaN     NaN        6  \n",
      "197          NaN     NaN        6  \n",
      "198          NaN     NaN        6  \n",
      "199          NaN     NaN        6  \n",
      "200          NaN     NaN        6  \n",
      "201          NaN     NaN        6  \n",
      "202          NaN     NaN        6  \n",
      "203          NaN     NaN        6  \n",
      "204          NaN     NaN        6  \n",
      "205          NaN     NaN        6  \n",
      "206          NaN     NaN        6  \n",
      "207          NaN     NaN        6  \n",
      "208          NaN     NaN        6  \n",
      "209          NaN     NaN        6  \n",
      "210          NaN     NaN        6  \n",
      "211          NaN     NaN        6  \n",
      "212          NaN     NaN        6  \n",
      "\n",
      "[213 rows x 6 columns]\n"
     ]
    }
   ],
   "source": [
    "data = pd.read_csv(\"data/vdf.csv\")\n",
    "print(data)"
   ]
  },
  {
   "cell_type": "code",
   "execution_count": 4,
   "metadata": {},
   "outputs": [],
   "source": [
    "data.type = pd.factorize(data.type)[0]\n",
    "data.age =pd.factorize(data.age)[0]\n",
    "data.v =pd.factorize(data.v)[0]\n",
    "data = data.fillna(0)"
   ]
  },
  {
   "cell_type": "code",
   "execution_count": 5,
   "metadata": {},
   "outputs": [
    {
     "name": "stdout",
     "output_type": "stream",
     "text": [
      "       v  type  claw         dist  age  cluster\n",
      "0      0     0   2.0   337.638010    0        1\n",
      "1      1     0   1.0     0.000000    0        1\n",
      "2      2     0   1.0  1291.203570    0        1\n",
      "3      3     0   1.0   252.633470    0        1\n",
      "4      4     0   2.0  1822.295250    0        1\n",
      "5      5     0   2.0  1031.646020    0        1\n",
      "6      6     0   4.0  3928.179840    0        1\n",
      "7      7     0   1.0  5966.114650    0        1\n",
      "8      8     0   1.0  7994.829270    0        1\n",
      "9      9     0   1.0   946.986460    0        1\n",
      "10    10     0   1.0  4249.320010    0        1\n",
      "11    11     0   4.0     0.000000    0        1\n",
      "12    12     0   2.0  4249.320010    0        1\n",
      "13    13     0   1.0  3042.089030    0        1\n",
      "14    14     0   2.0  8278.148080    0        1\n",
      "15    15     0   1.0  4249.320010    0        1\n",
      "16    16     0   2.0  2497.301090    0        1\n",
      "17    17     0   1.0  5966.114650    0        1\n",
      "18    18     0   1.0  2721.851950    0        1\n",
      "19    19     0   1.0  7878.687810    0        1\n",
      "20    20     0   2.0  8278.148080    0        1\n",
      "21    21     0   1.0    86.580820    0        1\n",
      "22    22     0   1.0   252.633470    0        1\n",
      "23    23     0   1.0  6297.959970    0        1\n",
      "24    24     0   1.0   922.741380    0        2\n",
      "25    25     0   2.0  3823.458474    0        2\n",
      "26    26     0   4.0  3036.661990    0        1\n",
      "27    27     0   4.0  7784.901670    0        2\n",
      "28    28     0   1.0   325.740790    0        2\n",
      "29    29     0   6.0  6297.959970    0        2\n",
      "..   ...   ...   ...          ...  ...      ...\n",
      "183  183     3   0.0     0.000000   -1        6\n",
      "184  184     3   0.0     0.000000   -1        6\n",
      "185  185     3   0.0     0.000000   -1        6\n",
      "186  186     3   0.0     0.000000   -1        6\n",
      "187  187     3   0.0     0.000000   -1        6\n",
      "188  188     3   0.0     0.000000   -1        6\n",
      "189  189     3   0.0     0.000000   -1        6\n",
      "190  190     3   0.0     0.000000   -1        6\n",
      "191  191     3   0.0     0.000000   -1        6\n",
      "192  192     3   0.0     0.000000   -1        6\n",
      "193  193     3   0.0     0.000000   -1        6\n",
      "194  194     3   0.0     0.000000   -1        6\n",
      "195  195     3   0.0     0.000000   -1        6\n",
      "196  196     3   0.0     0.000000   -1        6\n",
      "197  197     3   0.0     0.000000   -1        6\n",
      "198  198     3   0.0     0.000000   -1        6\n",
      "199  199     3   0.0     0.000000   -1        6\n",
      "200  200     3   0.0     0.000000   -1        6\n",
      "201  201     3   0.0     0.000000   -1        6\n",
      "202  202     3   0.0     0.000000   -1        6\n",
      "203  203     3   0.0     0.000000   -1        6\n",
      "204  204     3   0.0     0.000000   -1        6\n",
      "205  205     3   0.0     0.000000   -1        6\n",
      "206  206     3   0.0     0.000000   -1        6\n",
      "207  207     3   0.0     0.000000   -1        6\n",
      "208  208     3   0.0     0.000000   -1        6\n",
      "209  209     3   0.0     0.000000   -1        6\n",
      "210  210     3   0.0     0.000000   -1        6\n",
      "211  211     3   0.0     0.000000   -1        6\n",
      "212  212     3   0.0     0.000000   -1        6\n",
      "\n",
      "[213 rows x 6 columns]\n"
     ]
    }
   ],
   "source": [
    "print(data)"
   ]
  },
  {
   "cell_type": "code",
   "execution_count": 6,
   "metadata": {},
   "outputs": [],
   "source": [
    "y = data[\"type\"].tolist()"
   ]
  },
  {
   "cell_type": "code",
   "execution_count": 7,
   "metadata": {},
   "outputs": [
    {
     "data": {
      "text/plain": [
       "[0, 0, 0, 0, 0]"
      ]
     },
     "execution_count": 7,
     "metadata": {},
     "output_type": "execute_result"
    }
   ],
   "source": [
    "y[:5]"
   ]
  },
  {
   "cell_type": "code",
   "execution_count": 8,
   "metadata": {},
   "outputs": [],
   "source": [
    "data = data.drop(columns=[\"type\"])"
   ]
  },
  {
   "cell_type": "code",
   "execution_count": 9,
   "metadata": {},
   "outputs": [
    {
     "name": "stderr",
     "output_type": "stream",
     "text": [
      "/usr/local/Cellar/jupyter/1.0.0_5/libexec/lib/python3.7/site-packages/ipykernel_launcher.py:1: FutureWarning: Method .as_matrix will be removed in a future version. Use .values instead.\n",
      "  \"\"\"Entry point for launching an IPython kernel.\n"
     ]
    }
   ],
   "source": [
    "X = data.as_matrix()"
   ]
  },
  {
   "cell_type": "code",
   "execution_count": 10,
   "metadata": {},
   "outputs": [
    {
     "name": "stdout",
     "output_type": "stream",
     "text": [
      "(213, 5)\n"
     ]
    }
   ],
   "source": [
    "print(X.shape)"
   ]
  },
  {
   "cell_type": "code",
   "execution_count": 11,
   "metadata": {},
   "outputs": [],
   "source": [
    "import sys\n",
    "sys.path.insert(0, \"code\")\n",
    "import entropy_estimators as ee\n",
    "import mixed"
   ]
  },
  {
   "cell_type": "code",
   "execution_count": 12,
   "metadata": {},
   "outputs": [],
   "source": [
    "from sklearn.preprocessing import OneHotEncoder"
   ]
  },
  {
   "cell_type": "code",
   "execution_count": 13,
   "metadata": {},
   "outputs": [
    {
     "name": "stdout",
     "output_type": "stream",
     "text": [
      "[0, 0, 0, 0, 0, 0, 0, 0, 0, 0, 0, 0, 0, 0, 0, 0, 0, 0, 0, 0, 0, 0, 0, 0, 0, 0, 0, 0, 0, 0, 0, 0, 0, 0, 0, 0, 0, 0, 0, 0, 0, 0, 0, 0, 0, 0, 0, 0, 0, 0, 0, 0, 0, 0, 0, 0, 0, 0, 0, 0, 0, 0, 0, 0, 0, 0, 0, 0, 0, 0, 0, 0, 0, 0, 0, 0, 0, 0, 0, 0, 0, 0, 0, 0, 0, 0, 0, 0, 0, 0, 0, 0, 0, 0, 0, 0, 0, 0, 0, 0, 1, 1, 1, 1, 1, 1, 1, 1, 1, 1, 1, 1, 1, 1, 1, 1, 1, 1, 1, 1, 1, 2, 2, 2, 2, 2, 2, 2, 2, 2, 2, 2, 2, 2, 2, 2, 2, 2, 2, 2, 2, 2, 2, 2, 2, 2, 2, 2, 2, 2, 3, 3, 3, 3, 3, 3, 3, 3, 3, 3, 3, 3, 3, 3, 3, 3, 3, 3, 3, 3, 3, 3, 3, 3, 3, 3, 3, 3, 3, 3, 3, 3, 3, 3, 3, 3, 3, 3, 3, 3, 3, 3, 3, 3, 3, 3, 3, 3, 3, 3, 3, 3, 3, 3, 3, 3, 3, 3, 3, 3, 3, 3, 3]\n"
     ]
    }
   ],
   "source": [
    "print(y)"
   ]
  },
  {
   "cell_type": "code",
   "execution_count": 16,
   "metadata": {},
   "outputs": [
    {
     "name": "stderr",
     "output_type": "stream",
     "text": [
      "/usr/local/lib/python3.7/site-packages/sklearn/ensemble/weight_boosting.py:29: DeprecationWarning: numpy.core.umath_tests is an internal NumPy module and should not be imported. It will be removed in a future NumPy release.\n",
      "  from numpy.core.umath_tests import inner1d\n"
     ]
    }
   ],
   "source": [
    "from sklearn.ensemble.forest import _generate_unsampled_indices\n",
    "from sklearn.ensemble import BaggingClassifier\n",
    "from sklearn.tree import DecisionTreeClassifier\n",
    "import math\n",
    "\n",
    "\n",
    "def rf_entropy_estimate_bagging(X, y, n_estimators = 200, max_samples = .32, bootstrap = True, depth = 30, min_samples_leaf = 1, max_features = 1.):\n",
    "    model = BaggingClassifier(DecisionTreeClassifier(max_depth = depth, min_samples_leaf = min_samples_leaf, max_features = math.ceil(int(math.sqrt(X.shape[1])))), \n",
    "                              n_estimators = n_estimators, \n",
    "                              max_samples= max_samples, \n",
    "                              bootstrap = bootstrap)\n",
    "    model.fit(X, y)\n",
    "    class_counts = np.zeros((X.shape[0], model.n_classes_))\n",
    "    for tree in model:\n",
    "        # get out of bag indicies\n",
    "        unsampled_indices = _generate_unsampled_indices(tree.random_state, len(X))\n",
    "        \n",
    "        total_unsampled = len(unsampled_indices)\n",
    "        np.random.shuffle(unsampled_indices)\n",
    "        prob_indices, eval_indices = unsampled_indices[:total_unsampled//2], unsampled_indices[total_unsampled//2:]\n",
    "        # get all node counts\n",
    "        node_counts = tree.tree_.n_node_samples\n",
    "        # get probs for eval samples\n",
    "        posterior_class_counts = np.zeros((len(node_counts), model.n_classes_))\n",
    "        for prob_index in prob_indices:\n",
    "            posterior_class_counts[tree.apply(X[prob_index].reshape(1, -1)).item(), y[prob_index]] += 1\n",
    "        row_sums = posterior_class_counts.sum(axis=1)\n",
    "        row_sums[row_sums == 0] = 1\n",
    "        class_probs = (posterior_class_counts/row_sums[:, None])\n",
    "        \n",
    "        where_0 = np.argwhere(class_probs == 0)\n",
    "        for elem in where_0:\n",
    "            class_probs[elem[0], elem[1]] = 1/(model.n_classes_*row_sums[elem[0], None])\n",
    "        where_1 = np.argwhere(class_probs == 1)\n",
    "        for elem in where_1:\n",
    "            class_probs[elem[0], elem[1]] = 1 - (model.n_classes_ - 1)/(model.n_classes_*row_sums[elem[0], None])\n",
    "        \n",
    "        class_probs.tolist()\n",
    "        partition_counts = np.asarray([node_counts[x] for x in tree.apply(X[eval_indices])])\n",
    "        # get probability for out of bag samples\n",
    "        eval_class_probs = [class_probs[x] for x in tree.apply(X[eval_indices])]\n",
    "        eval_class_probs = np.array(eval_class_probs)\n",
    "        # find total elements for out of bag samples\n",
    "        elems = np.multiply(eval_class_probs, partition_counts[:, np.newaxis])\n",
    "        # store counts for each x (repeat fhis for each tree)\n",
    "        class_counts[eval_indices] += elems\n",
    "    # calculate p(y|X = x) for all x's\n",
    "    probs = class_counts/class_counts.sum(axis = 1, keepdims = True)\n",
    "    entropies = -np.sum(np.log(probs)*probs, axis = 1)\n",
    "    # convert nan to 0\n",
    "    entropies = np.nan_to_num(entropies)\n",
    "    return np.mean(entropies)\n",
    "\n",
    "np.warnings.filterwarnings('ignore')\n"
   ]
  },
  {
   "cell_type": "code",
   "execution_count": 17,
   "metadata": {},
   "outputs": [],
   "source": [
    "ce = rf_entropy_estimate_bagging(X, y)"
   ]
  },
  {
   "cell_type": "code",
   "execution_count": 23,
   "metadata": {},
   "outputs": [
    {
     "data": {
      "text/plain": [
       "0.04683911099354165"
      ]
     },
     "execution_count": 23,
     "metadata": {},
     "output_type": "execute_result"
    }
   ],
   "source": [
    "mixed.Mixed_KSG(X, np.array(y).reshape(-1, 1))/entropy_y"
   ]
  },
  {
   "cell_type": "code",
   "execution_count": 19,
   "metadata": {},
   "outputs": [],
   "source": [
    "import numpy as np\n",
    "from scipy.stats import entropy\n",
    "from math import log, e\n",
    "import pandas as pd"
   ]
  },
  {
   "cell_type": "code",
   "execution_count": 20,
   "metadata": {},
   "outputs": [
    {
     "name": "stdout",
     "output_type": "stream",
     "text": [
      "1.2151839186517945\n"
     ]
    }
   ],
   "source": [
    "\n",
    "\n",
    "import numpy as np\n",
    "from scipy.stats import entropy\n",
    "from math import log, e\n",
    "import pandas as pd\n",
    "\n",
    "def entropy1(labels, base=None):\n",
    "    values,counts = np.unique(labels, return_counts=True)\n",
    "    return entropy(counts, base=base)\n",
    "\n",
    "entropy_y = entropy1(y)\n",
    "print(entropy_y)"
   ]
  },
  {
   "cell_type": "code",
   "execution_count": 22,
   "metadata": {},
   "outputs": [
    {
     "data": {
      "text/plain": [
       "0.648557756924189"
      ]
     },
     "execution_count": 22,
     "metadata": {},
     "output_type": "execute_result"
    }
   ],
   "source": [
    "(entropy_y - ce)/entropy_y"
   ]
  },
  {
   "cell_type": "code",
   "execution_count": 15,
   "metadata": {},
   "outputs": [
    {
     "data": {
      "text/plain": [
       "0.2434463844308495"
      ]
     },
     "execution_count": 15,
     "metadata": {},
     "output_type": "execute_result"
    }
   ],
   "source": [
    "ee.mi(X, np.array(y).reshape(-1, 1))"
   ]
  },
  {
   "cell_type": "code",
   "execution_count": null,
   "metadata": {},
   "outputs": [],
   "source": []
  }
 ],
 "metadata": {
  "kernelspec": {
   "display_name": "Python 3",
   "language": "python",
   "name": "python3"
  },
  "language_info": {
   "codemirror_mode": {
    "name": "ipython",
    "version": 3
   },
   "file_extension": ".py",
   "mimetype": "text/x-python",
   "name": "python",
   "nbconvert_exporter": "python",
   "pygments_lexer": "ipython3",
   "version": "3.7.0"
  }
 },
 "nbformat": 4,
 "nbformat_minor": 2
}
