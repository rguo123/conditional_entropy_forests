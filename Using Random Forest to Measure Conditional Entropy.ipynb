{
 "cells": [
  {
   "cell_type": "markdown",
   "metadata": {},
   "source": [
    "# Using Random Forest to Measure Conditional Entropy\n",
    "\n",
    "For reasoning behind such an algorithm read here: https://www.overleaf.com/read/hjdnbwbrnbvt\n",
    "\n",
    "We will first construct a dataset that we can hand calculate conditional entropy for."
   ]
  },
  {
   "cell_type": "code",
   "execution_count": 96,
   "metadata": {},
   "outputs": [
    {
     "data": {
      "text/plain": [
       "([0, 0, 0, 0, 0, 1, 1, 1, 1, 1, 1, 2, 2, 2, 2, 2, 3, 3, 3, 3, 3, 3],\n",
       " [0, 0, 0, 0, 0, 0, 0, 0, 0, 0, 0, 1, 1, 1, 1, 1, 1, 1, 1, 1, 1, 1])"
      ]
     },
     "execution_count": 96,
     "metadata": {},
     "output_type": "execute_result"
    }
   ],
   "source": [
    "x = [0]*5 + [1]*6 + [2]*5 + [3]*6\n",
    "y = [0]*11 + [1]*11\n",
    "x_test = [0]*2 + [1]*3 + [2]*2 + [3]*3\n",
    "y_test = [0]*5 + [1]*5\n",
    "x, y"
   ]
  },
  {
   "cell_type": "markdown",
   "metadata": {},
   "source": [
    "H(X) = 1.38215  \n",
    "H(Y) = .69314  \n",
    "H(Y, X) = 1.38215  \n",
    "H(Y|X) = 0  \n",
    "I(X, Y) = .69314  "
   ]
  },
  {
   "cell_type": "markdown",
   "metadata": {},
   "source": [
    "Note that this case is very trivial. If random forest can correctly spearate when Y = 1 and when Y = 0, then each parition will always have only one unique element (either y = 1 or y = 0), so entropy should equal 0.\n",
    "\n",
    "## Algorithm implementation"
   ]
  },
  {
   "cell_type": "code",
   "execution_count": 20,
   "metadata": {},
   "outputs": [],
   "source": [
    "import numpy as np\n",
    "from sklearn.ensemble import RandomForestClassifier\n",
    "from sklearn import tree\n"
   ]
  },
  {
   "cell_type": "code",
   "execution_count": 27,
   "metadata": {},
   "outputs": [
    {
     "data": {
      "text/plain": [
       "RandomForestClassifier(bootstrap=True, class_weight=None, criterion='gini',\n",
       "            max_depth=2, max_features='auto', max_leaf_nodes=None,\n",
       "            min_impurity_decrease=0.0, min_impurity_split=None,\n",
       "            min_samples_leaf=1, min_samples_split=2,\n",
       "            min_weight_fraction_leaf=0.0, n_estimators=2, n_jobs=1,\n",
       "            oob_score=False, random_state=0, verbose=0, warm_start=False)"
      ]
     },
     "execution_count": 27,
     "metadata": {},
     "output_type": "execute_result"
    }
   ],
   "source": [
    "# 1 run random forest\n",
    "model = RandomForestClassifier(n_estimators = 2, max_depth = 2, random_state = 0)\n",
    "X = np.array(x).reshape(-1, 1)\n",
    "y = np.array(y)\n",
    "X_test = np.array(x_test).reshape(-1, 1)\n",
    "model.fit(X, y)"
   ]
  },
  {
   "cell_type": "code",
   "execution_count": 75,
   "metadata": {},
   "outputs": [
    {
     "name": "stderr",
     "output_type": "stream",
     "text": [
      "/usr/local/Cellar/jupyter/1.0.0_5/libexec/lib/python3.7/site-packages/ipykernel_launcher.py:13: RuntimeWarning: divide by zero encountered in log\n",
      "  del sys.path[0]\n",
      "/usr/local/Cellar/jupyter/1.0.0_5/libexec/lib/python3.7/site-packages/ipykernel_launcher.py:13: RuntimeWarning: invalid value encountered in multiply\n",
      "  del sys.path[0]\n"
     ]
    },
    {
     "data": {
      "text/plain": [
       "0.0"
      ]
     },
     "execution_count": 75,
     "metadata": {},
     "output_type": "execute_result"
    }
   ],
   "source": [
    "# now store leaf counts\n",
    "tree_entropies = []\n",
    "n_trees = 0\n",
    "for tree_in_forest in model:\n",
    "    n_trees += 1\n",
    "    unique, counts = np.unique(tree_in_forest.apply(X), return_counts = True)\n",
    "    n = counts.sum()\n",
    "    # get count of number of elements in each leaf partition\n",
    "    binCount = dict(zip(unique, counts))\n",
    "    # get probabilities\n",
    "    probs = tree_in_forest.predict_proba(X_test)\n",
    "    # get entropies in each leaf\n",
    "    entropies = np.nan_to_num(-np.sum(np.log(probs)*probs, axis = 1))\n",
    "    # get leaf assignment in order to pair up with leaf count\n",
    "    leaf_counts = np.vectorize(binCount.get)(tree_in_forest.apply(X_test))\n",
    "    tree_entropies.append(entropies*leaf_counts)\n",
    "cond_entropies = sum(tree_entropies)\n",
    "average_conditional_entropy = np.sum(cond_entropies) / len(cond_entropies)\n",
    "average_conditional_entropy"
   ]
  },
  {
   "cell_type": "markdown",
   "metadata": {},
   "source": [
    "Cleanedup algorithm   \n",
    "TODO: Probably a faster way of doing the above with more numpy stuff"
   ]
  },
  {
   "cell_type": "code",
   "execution_count": 91,
   "metadata": {},
   "outputs": [],
   "source": [
    "# have it so it splits training for you\n",
    "from sklearn.model_selection import train_test_split\n",
    "#TODO: clean up code better\n",
    "#TODO: modularize and other stuff\n",
    "\n",
    "def estimate_conditional_entropy(X, y, n_trees, max_depth):\n",
    "    X_train, X_test, y_train, y_test = train_test_split(X, y, test_size=0.3, random_state=42)\n",
    "    model = RandomForestClassifier(n_estimators =n_trees, max_depth = max_depth, random_state = 0)\n",
    "    model.fit(X_train, y_train)\n",
    "    tree_entropies = []\n",
    "    x_counts = []\n",
    "    n_trees = 0\n",
    "    for tree_in_forest in model:\n",
    "        n_trees += 1\n",
    "        unique, counts = np.unique(tree_in_forest.apply(X), return_counts = True)\n",
    "        n = counts.sum()\n",
    "        # get count of number of elements in each leaf partition\n",
    "        binCount = dict(zip(unique, counts))\n",
    "        # get probabilities\n",
    "        probs = tree_in_forest.predict_proba(X_test)\n",
    "        # get entropies in each leaf\n",
    "        entropies = np.nan_to_num(-np.sum(np.log(probs)*probs, axis = 1))\n",
    "        # get leaf assignment in order to pair up with leaf count\n",
    "        leaf_counts = np.vectorize(binCount.get)(tree_in_forest.apply(X_test))\n",
    "        x_counts.append(leaf_counts)\n",
    "        tree_entropies.append(entropies*leaf_counts)\n",
    "    cond_entropies = sum(tree_entropies) / sum(x_counts)\n",
    "    # take average\n",
    "    return np.sum(cond_entropies) / len(cond_entropies)\n",
    "    "
   ]
  },
  {
   "cell_type": "markdown",
   "metadata": {},
   "source": [
    "Let's try on slightly harder data (not clearly dependent)"
   ]
  },
  {
   "cell_type": "code",
   "execution_count": 83,
   "metadata": {},
   "outputs": [],
   "source": [
    "x = [0]*20 + [1]*20 + [2]*20 + [3]*20\n",
    "y = [0, 1, 0, 1, 0]*4 + [ 1, 1, 1, 1, 0]*4 + [1, 0, 1, 0, 1]*4 + [0, 0, 0, 0, 1]*4\n",
    "X = np.array(x).reshape(-1, 1)\n",
    "y = np.array(y)"
   ]
  },
  {
   "cell_type": "markdown",
   "metadata": {},
   "source": [
    "Hand calculations  \n",
    "H(X) = 1.386294  \n",
    "H(Y) = 0.693147  \n",
    "H(X, Y) = 1.97300  \n",
    "H(Y|X) = .5867  "
   ]
  },
  {
   "cell_type": "code",
   "execution_count": 92,
   "metadata": {},
   "outputs": [
    {
     "data": {
      "text/plain": [
       "0.5741372126070781"
      ]
     },
     "execution_count": 92,
     "metadata": {},
     "output_type": "execute_result"
    }
   ],
   "source": [
    "estimate_conditional_entropy(X, y, 10, 4)"
   ]
  },
  {
   "cell_type": "markdown",
   "metadata": {},
   "source": [
    "For completeness, let's try completely independent dataset."
   ]
  },
  {
   "cell_type": "code",
   "execution_count": 94,
   "metadata": {},
   "outputs": [],
   "source": [
    "x = [0, 1]*40\n",
    "y = [0]*40 + [1]*40\n",
    "X = np.array(x).reshape(-1, 1)\n",
    "y = np.array(y)"
   ]
  },
  {
   "cell_type": "markdown",
   "metadata": {},
   "source": [
    "H(X) = 0.6931471805599453  \n",
    "H(Y) = 0.6931451805599453  \n",
    "H(X, Y) = 1.3862943611198906  \n",
    "H(Y|X) = 0.6931451805599453  "
   ]
  },
  {
   "cell_type": "code",
   "execution_count": 95,
   "metadata": {},
   "outputs": [
    {
     "data": {
      "text/plain": [
       "0.6723345286587842"
      ]
     },
     "execution_count": 95,
     "metadata": {},
     "output_type": "execute_result"
    }
   ],
   "source": [
    "estimate_conditional_entropy(X, y, 10, 4)"
   ]
  },
  {
   "cell_type": "markdown",
   "metadata": {},
   "source": [
    "## Test on iris dataset"
   ]
  },
  {
   "cell_type": "code",
   "execution_count": 106,
   "metadata": {},
   "outputs": [],
   "source": [
    "from sklearn import datasets\n",
    "import pandas as pd\n",
    "\n",
    "iris = datasets.load_iris()\n",
    "# take first 2 features\n",
    "X = iris.data[:100, :2]\n",
    "# take first 100 (only two classes)\n",
    "y = iris.target[:100]"
   ]
  },
  {
   "cell_type": "code",
   "execution_count": 107,
   "metadata": {},
   "outputs": [
    {
     "data": {
      "text/plain": [
       "(100, 2)"
      ]
     },
     "execution_count": 107,
     "metadata": {},
     "output_type": "execute_result"
    }
   ],
   "source": [
    "X.shape"
   ]
  },
  {
   "cell_type": "code",
   "execution_count": 109,
   "metadata": {},
   "outputs": [
    {
     "data": {
      "text/plain": [
       "Text(0.5,1,'Iris Dataset Scatter Plot')"
      ]
     },
     "execution_count": 109,
     "metadata": {},
     "output_type": "execute_result"
    },
    {
     "data": {
      "image/png": "[encoded data removed]",
      "text/plain": [
       "<Figure size 432x288 with 1 Axes>"
      ]
     },
     "metadata": {},
     "output_type": "display_data"
    }
   ],
   "source": [
    "import matplotlib.pyplot as plt\n",
    "plt.scatter(X[:, 1], X[:, 0], c = y)\n",
    "plt.title('Iris Dataset Scatter Plot')"
   ]
  },
  {
   "cell_type": "code",
   "execution_count": 118,
   "metadata": {},
   "outputs": [
    {
     "name": "stdout",
     "output_type": "stream",
     "text": [
      "Conditional Entropy 0.004285278281264995\n"
     ]
    },
    {
     "name": "stderr",
     "output_type": "stream",
     "text": [
      "/usr/local/Cellar/jupyter/1.0.0_5/libexec/lib/python3.7/site-packages/ipykernel_launcher.py:23: RuntimeWarning: divide by zero encountered in log\n",
      "/usr/local/Cellar/jupyter/1.0.0_5/libexec/lib/python3.7/site-packages/ipykernel_launcher.py:23: RuntimeWarning: invalid value encountered in multiply\n"
     ]
    }
   ],
   "source": [
    "import scipy\n",
    "\n",
    "def calculate_entropy(X):\n",
    "    probs = np.bincount(X)/len(X)\n",
    "    return scipy.stats.entropy(probs)\n",
    "\n",
    "calculate_entropy(y)\n",
    "print(\"Conditional Entropy\", estimate_conditional_entropy(X, y, 10, 4))"
   ]
  },
  {
   "cell_type": "code",
   "execution_count": null,
   "metadata": {},
   "outputs": [],
   "source": []
  }
 ],
 "metadata": {
  "kernelspec": {
   "display_name": "Python 3",
   "language": "python",
   "name": "python3"
  },
  "language_info": {
   "codemirror_mode": {
    "name": "ipython",
    "version": 3
   },
   "file_extension": ".py",
   "mimetype": "text/x-python",
   "name": "python",
   "nbconvert_exporter": "python",
   "pygments_lexer": "ipython3",
   "version": "3.7.0"
  }
 },
 "nbformat": 4,
 "nbformat_minor": 2
}
