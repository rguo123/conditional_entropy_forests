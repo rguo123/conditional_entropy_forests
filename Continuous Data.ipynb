{
 "cells": [
  {
   "cell_type": "markdown",
   "metadata": {},
   "source": [
    "# Conditional Entropy estimate for continuous Y\n",
    "In this notebook, we repeat our algorithm (see Honest Sampling notebook) on continuous Y data.\n",
    "\n",
    "## Sampling Code"
   ]
  },
  {
   "cell_type": "code",
   "execution_count": 1,
   "metadata": {},
   "outputs": [
    {
     "data": {
      "image/png": "[encoded data removed]",
      "text/plain": [
       "<Figure size 432x288 with 1 Axes>"
      ]
     },
     "metadata": {},
     "output_type": "display_data"
    },
    {
     "data": {
      "image/png": "[encoded data removed]",
      "text/plain": [
       "<Figure size 432x288 with 1 Axes>"
      ]
     },
     "metadata": {},
     "output_type": "display_data"
    }
   ],
   "source": [
    "import numpy as np\n",
    "import seaborn as sns\n",
    "import matplotlib.pyplot as plt\n",
    "sns.set(font_scale=1.3)\n",
    "%matplotlib inline\n",
    "\n",
    "def get_cont_sample(n,  rho):\n",
    "    x_sample = []\n",
    "    y_sample = []\n",
    "    means = np.zeros(2)\n",
    "    cov = np.array(((1, rho), (rho, 1)))\n",
    "    for i in range(n):\n",
    "        x = np.random.multivariate_normal(means, cov)\n",
    "        x_sample.append(x[0])\n",
    "        y_sample.append(x[1])\n",
    "    return x_sample, y_sample\n",
    "\n",
    "\n",
    "\n",
    "X, y = get_cont_sample(100, 1)\n",
    "plt.scatter(X, y, c = 'b')\n",
    "plt.title(\"Distribution Plot with rho = 1\")\n",
    "plt.xlabel(\"x\")\n",
    "plt.ylabel(\"y\")\n",
    "plt.show()\n",
    "\n",
    "X, y = get_cont_sample(100, 0)\n",
    "plt.scatter(X, y, c = 'b')\n",
    "plt.title(\"Distribution Plot with rho = 0\")\n",
    "plt.xlabel(\"x\")\n",
    "plt.ylabel(\"y\")\n",
    "plt.show()\n"
   ]
  },
  {
   "cell_type": "markdown",
   "metadata": {},
   "source": [
    "## Algorithm Development\n",
    "Since our Y is continous not categorical, we can not use class probabilities as our posterior distribution. Instead, we will construct an empircal cdf from the elements in each leaf node as our conditional distribution of Y given X"
   ]
  },
  {
   "cell_type": "code",
   "execution_count": 2,
   "metadata": {},
   "outputs": [
    {
     "name": "stderr",
     "output_type": "stream",
     "text": [
      "/usr/local/lib/python3.7/site-packages/sklearn/ensemble/weight_boosting.py:29: DeprecationWarning: numpy.core.umath_tests is an internal NumPy module and should not be imported. It will be removed in a future NumPy release.\n",
      "  from numpy.core.umath_tests import inner1d\n"
     ]
    }
   ],
   "source": [
    "from sklearn.ensemble.forest import _generate_unsampled_indices\n",
    "from sklearn.ensemble import BaggingRegressor\n",
    "from sklearn.tree import DecisionTreeRegressor\n",
    "\n",
    "\n",
    "\n",
    "def inspect_leaf_elems(leaf_elems):\n",
    "    count = 0\n",
    "    for leaf in leaf_elems:\n",
    "        if len(leaf) > 1:\n",
    "            print(leaf)\n",
    "            count += 1\n",
    "        if count == 5:\n",
    "            return\n",
    "\n",
    "def rf_entropy_estimate_bagging(X, y, n_estimators = 200, max_samples = .32, bootstrap = True, depth = 30, min_samples_leaf = 1):\n",
    "    model = BaggingRegressor(DecisionTreeRegressor(max_depth = depth, min_samples_leaf = min_samples_leaf), \n",
    "                              n_estimators = n_estimators, \n",
    "                              max_samples= max_samples, \n",
    "                              bootstrap = bootstrap)\n",
    "    model.fit(X, y)\n",
    "    for tree_idx in range(n_estimators):\n",
    "        tree = model[tree_idx]\n",
    "        unsampled_indices = np.where(model.estimators_samples_[tree_idx] == False)[0]\n",
    "        total_unsampled = len(unsampled_indices)\n",
    "        np.random.shuffle(unsampled_indices)\n",
    "        prob_indices, eval_indices = unsampled_indices[:total_unsampled//2], unsampled_indices[total_unsampled//2:]\n",
    "        node_counts = tree.tree_.n_node_samples\n",
    "        leaf_elems = [[] for _ in range(len(node_counts))]\n",
    "        for prob_index in prob_indices:\n",
    "            leaf_elems[tree.apply(X[prob_index].item()).item()].append(y[prob_index])\n",
    "        inspect_leaf_elems(leaf_elems)\n",
    "        break\n",
    "    return\n",
    "np.warnings.filterwarnings('ignore')"
   ]
  },
  {
   "cell_type": "markdown",
   "metadata": {},
   "source": [
    "## Uncorrelated Data"
   ]
  },
  {
   "cell_type": "code",
   "execution_count": 3,
   "metadata": {},
   "outputs": [
    {
     "name": "stdout",
     "output_type": "stream",
     "text": [
      "[0.3559413130263994, 1.405495190503484, -0.24470657454558095, 0.7722321441068001, 1.5009770593022713, 0.6177844194743711]\n",
      "[-1.8712544366796038, -0.5512401135668393]\n",
      "[-0.19689721881623795, 1.0079572633421596, 0.2331783996288172, -1.3648627778511195]\n",
      "[-1.549920168354814, 1.3111341370956717, -1.2889255748407322]\n",
      "[-0.032736246961415603, -0.3637414802901848, 0.14951755114315762, -1.6859393975613761, -0.6531065350761486]\n"
     ]
    }
   ],
   "source": [
    "X, y = get_cont_sample(1000, 0)\n",
    "X = np.array(X).reshape(-1, 1)\n",
    "rf_entropy_estimate_bagging(X, y, 200, .32)"
   ]
  },
  {
   "cell_type": "markdown",
   "metadata": {},
   "source": [
    "## Correlated Data"
   ]
  },
  {
   "cell_type": "code",
   "execution_count": 4,
   "metadata": {},
   "outputs": [
    {
     "name": "stdout",
     "output_type": "stream",
     "text": [
      "[-2.608851205814766, -2.8825627388964863]\n",
      "[-2.178386292596117, -2.298259266365737]\n",
      "[-2.014289414481022, -2.058416557052858]\n",
      "[-1.8380066057205722, -1.8818389030884974, -1.8454481679155337]\n",
      "[-1.7282984233872503, -1.753704026004879, -1.7297206613308247, -1.754563190395719]\n"
     ]
    }
   ],
   "source": [
    "X, y = get_cont_sample(1000, 1)\n",
    "X = np.array(X).reshape(-1, 1)\n",
    "rf_entropy_estimate_bagging(X, y, 200, .32)"
   ]
  },
  {
   "cell_type": "markdown",
   "metadata": {},
   "source": [
    "When our data is very correlated ($\\rho$ = 1), we see that the elements in our leaf elements actually make sense and are close together. However, when our data is uncorrelated ($\\rho$ = 0), we see that our elements are very widespread. This is exactly what we expect.\n",
    "\n",
    "However, the count of the elements in our leaf nodes are all pretty similar. So, a naive binning strategy to create an empirical cdf will result in the same probability distribution (just 1/n for each sample point, where n is number of elements in leaf node). Thus, we need a way of incorporating the spread of our data.\n",
    "\n",
    "We can do this by assigning a \"uniform distribution\" between every 2 adjacent order statistics. However, if the samples are close together, we get negaive entropy which doesn't make sense. So the overarching problem is given this blocky posterior distribution, how do I approximate the entropy?"
   ]
  },
  {
   "cell_type": "markdown",
   "metadata": {},
   "source": [
    "https://en.wikipedia.org/wiki/Entropy_estimation"
   ]
  },
  {
   "cell_type": "markdown",
   "metadata": {},
   "source": [
    "From the wikipedia article, since we do not know the true distribution, the way to go seems to be the histogram approimator! If we get negative entropy value, this means that our bins were too close together (very little entropoy!). Thus, I will just set that particular f(x)log(f(x)) to 0 whenever we run into this case. \n"
   ]
  },
  {
   "cell_type": "code",
   "execution_count": 11,
   "metadata": {},
   "outputs": [
    {
     "data": {
      "text/plain": [
       "0.018769821246940165"
      ]
     },
     "execution_count": 11,
     "metadata": {},
     "output_type": "execute_result"
    }
   ],
   "source": [
    "from sklearn.ensemble.forest import _generate_unsampled_indices\n",
    "from sklearn.ensemble import BaggingRegressor\n",
    "from sklearn.tree import DecisionTreeRegressor\n",
    "\n",
    "def inspect_leaf_elems(leaf_elems):\n",
    "    count = 0\n",
    "    for leaf in leaf_elems:\n",
    "        if len(leaf) > 1:\n",
    "            print(leaf)\n",
    "            count += 1\n",
    "        if count == 5:\n",
    "            return\n",
    "\n",
    "def rf_entropy_estimate_bagging(X, y, n_estimators = 200, max_samples = .32, bootstrap = True, depth = 30, min_samples_leaf = 1):\n",
    "    model = BaggingRegressor(DecisionTreeRegressor(max_depth = depth, min_samples_leaf = min_samples_leaf), \n",
    "                              n_estimators = n_estimators, \n",
    "                              max_samples= max_samples, \n",
    "                              bootstrap = bootstrap)\n",
    "    model.fit(X, y)\n",
    "    posterior_counts = [[] for _ in range(len(X))]\n",
    "    for tree_idx in range(n_estimators):\n",
    "        tree = model[tree_idx]\n",
    "        unsampled_indices = np.where(model.estimators_samples_[tree_idx] == False)[0]\n",
    "        total_unsampled = len(unsampled_indices)\n",
    "        np.random.shuffle(unsampled_indices)\n",
    "        prob_indices, eval_indices = unsampled_indices[:total_unsampled//2], unsampled_indices[total_unsampled//2:]\n",
    "        node_counts = tree.tree_.n_node_samples\n",
    "        leaf_elems = [[] for _ in range(len(node_counts))]\n",
    "        for prob_index in prob_indices:\n",
    "            leaf_elems[tree.apply(X[prob_index].item()).item()].append(y[prob_index])\n",
    "        for eval_index in eval_indices:\n",
    "            # for every x, collect all y samples in the leaf nodes x fell into (for entire forest)\n",
    "            posterior_counts[eval_index].extend(leaf_elems[tree.apply(X[eval_index].item()).item()])\n",
    "    # for every x, approximate histogram entropy\n",
    "    entropy_estimates = []\n",
    "    for elem in posterior_counts:\n",
    "        elem.sort()\n",
    "        # initialize at 0\n",
    "        entropy = 0.\n",
    "        n = len(elem)\n",
    "        for i in range(1, n):\n",
    "            incr = (-1/n)*np.log((1/n)/(elem[i] - elem[i - 1]))\n",
    "            # if valid, add probability\n",
    "            if incr > 0:\n",
    "                entropy += incr\n",
    "        entropy_estimates.append(entropy)\n",
    "    return np.mean(entropy_estimates)\n",
    "np.warnings.filterwarnings('ignore')\n",
    "\n",
    "X, y = get_cont_sample(1000, 1)\n",
    "X = np.array(X).reshape(-1, 1)\n",
    "rf_entropy_estimate_bagging(X, y, 200, .32)"
   ]
  },
  {
   "cell_type": "markdown",
   "metadata": {},
   "source": [
    "We now do some tests.\n",
    "When the correlation is 0, our posterior distribution is just a normal with variance 1. We have calculated this before as .356.\n",
    "\n",
    "When the correlation is 1, there is no entropy after you know X, so the conditional entropy is 0."
   ]
  },
  {
   "cell_type": "code",
   "execution_count": 12,
   "metadata": {},
   "outputs": [
    {
     "name": "stdout",
     "output_type": "stream",
     "text": [
      "Estimated Value 0.7290828017021426\n",
      "True Value 1.41\n"
     ]
    }
   ],
   "source": [
    "X, y = get_cont_sample(20000, 0)\n",
    "X = np.array(X).reshape(-1, 1)\n",
    "print(\"Estimated Value\", rf_entropy_estimate_bagging(X, y, 200, .32))\n",
    "print(\"True Value\", 1.41)"
   ]
  },
  {
   "cell_type": "code",
   "execution_count": 52,
   "metadata": {},
   "outputs": [
    {
     "name": "stdout",
     "output_type": "stream",
     "text": [
      "Estimated Value 0.004029886639795274\n",
      "True Value 0\n"
     ]
    }
   ],
   "source": [
    "X, y = get_cont_sample(5000, 1)\n",
    "X = np.array(X).reshape(-1, 1)\n",
    "print(\"Estimated Value\", rf_entropy_estimate_bagging(X, y, 500, .32))\n",
    "print(\"True Value\", 0)"
   ]
  },
  {
   "cell_type": "markdown",
   "metadata": {},
   "source": [
    "## Problem with Algorithm\n",
    "Todo: create actual plots\n",
    "In lieu of plots, I have just been running the algorithm a bunch of times. Here are the following good properties:\n",
    "1. When X and Y are dependent, the conditional entropy is close to 0!\n",
    "2. As we increase rho (make X and Y more dependent), the conditional entropy drops to 0!  \n",
    "\n",
    "However, one major problem is that when I make the data completely independent (rho is 0), our conditional entropy value is no where close. I believe this is because it takes a lot of samples for it to converge correctly (the conditional entropy grows larger as you increase samples). Below I will investigate what exactly the conditional distirbution of Y given X looks like."
   ]
  },
  {
   "cell_type": "code",
   "execution_count": 22,
   "metadata": {},
   "outputs": [
    {
     "data": {
      "image/png": "[encoded data removed]",
      "text/plain": [
       "<Figure size 432x288 with 1 Axes>"
      ]
     },
     "metadata": {},
     "output_type": "display_data"
    }
   ],
   "source": [
    "from sklearn.ensemble.forest import _generate_unsampled_indices\n",
    "from sklearn.ensemble import BaggingRegressor\n",
    "from sklearn.tree import DecisionTreeRegressor\n",
    "\n",
    "def inspect_leaf_elems(leaf_elems):\n",
    "    count = 0\n",
    "    for leaf in leaf_elems:\n",
    "        if len(leaf) > 1:\n",
    "            print(leaf)\n",
    "            count += 1\n",
    "        if count == 5:\n",
    "            return\n",
    "\n",
    "def rf_entropy_estimate_bagging(X, y, n_estimators = 200, max_samples = .32, bootstrap = True, depth = 30, min_samples_leaf = 1):\n",
    "    model = BaggingRegressor(DecisionTreeRegressor(max_depth = depth, min_samples_leaf = min_samples_leaf), \n",
    "                              n_estimators = n_estimators, \n",
    "                              max_samples= max_samples, \n",
    "                              bootstrap = bootstrap)\n",
    "    model.fit(X, y)\n",
    "    posterior_counts = [[] for _ in range(len(X))]\n",
    "    for tree_idx in range(n_estimators):\n",
    "        tree = model[tree_idx]\n",
    "        unsampled_indices = np.where(model.estimators_samples_[tree_idx] == False)[0]\n",
    "        total_unsampled = len(unsampled_indices)\n",
    "        np.random.shuffle(unsampled_indices)\n",
    "        prob_indices, eval_indices = unsampled_indices[:total_unsampled//2], unsampled_indices[total_unsampled//2:]\n",
    "        node_counts = tree.tree_.n_node_samples\n",
    "        leaf_elems = [[] for _ in range(len(node_counts))]\n",
    "        for prob_index in prob_indices:\n",
    "            leaf_elems[tree.apply(X[prob_index].item()).item()].append(y[prob_index])\n",
    "        for eval_index in eval_indices:\n",
    "            # for every x, collect all y samples in the leaf nodes x fell into (for entire forest)\n",
    "            posterior_counts[eval_index].extend(leaf_elems[tree.apply(X[eval_index].item()).item()])\n",
    "    # for every x, approximate histogram entropy\n",
    "    \n",
    "    test = posterior_counts[0]\n",
    "    plt.hist(test, normed=True, bins=30)\n",
    "    plt.show()\n",
    "    \n",
    "    \"\"\"\n",
    "    entropy_estimates = []\n",
    "    for elem in posterior_counts:\n",
    "        elem.sort()\n",
    "        # initialize at 0\n",
    "        entropy = 0.\n",
    "        n = len(elem)\n",
    "        for i in range(1, n):\n",
    "            incr = (-1/n)*np.log((1/n)/(elem[i] - elem[i - 1]))\n",
    "            # if valid, add probability\n",
    "            if incr > 0:\n",
    "                entropy += incr\n",
    "        entropy_estimates.append(entropy)\n",
    "    return np.mean(entropy_estimates)\"\"\"\n",
    "np.warnings.filterwarnings('ignore')\n",
    "\n",
    "X, y = get_cont_sample(20000, 0)\n",
    "X = np.array(X).reshape(-1, 1)\n",
    "rf_entropy_estimate_bagging(X, y, 200, .32)"
   ]
  },
  {
   "cell_type": "markdown",
   "metadata": {},
   "source": [
    "This is very cool! when our data is independent, our posterior distribution of Y given X is just the distribution of Y ( a normal with 0 mean)."
   ]
  },
  {
   "cell_type": "code",
   "execution_count": 2,
   "metadata": {},
   "outputs": [
    {
     "name": "stderr",
     "output_type": "stream",
     "text": [
      "/usr/local/lib/python3.7/site-packages/sklearn/ensemble/weight_boosting.py:29: DeprecationWarning: numpy.core.umath_tests is an internal NumPy module and should not be imported. It will be removed in a future NumPy release.\n",
      "  from numpy.core.umath_tests import inner1d\n"
     ]
    },
    {
     "data": {
      "image/png": "[encoded data removed]",
      "text/plain": [
       "<Figure size 432x288 with 1 Axes>"
      ]
     },
     "metadata": {},
     "output_type": "display_data"
    }
   ],
   "source": [
    "from sklearn.ensemble.forest import _generate_unsampled_indices\n",
    "from sklearn.ensemble import BaggingRegressor\n",
    "from sklearn.tree import DecisionTreeRegressor\n",
    "\n",
    "def inspect_leaf_elems(leaf_elems):\n",
    "    count = 0\n",
    "    for leaf in leaf_elems:\n",
    "        if len(leaf) > 1:\n",
    "            print(leaf)\n",
    "            count += 1\n",
    "        if count == 5:\n",
    "            return\n",
    "\n",
    "def rf_entropy_estimate_bagging(X, y, n_estimators = 200, max_samples = .32, bootstrap = True, depth = 30, min_samples_leaf = 1):\n",
    "    model = BaggingRegressor(DecisionTreeRegressor(max_depth = depth, min_samples_leaf = min_samples_leaf), \n",
    "                              n_estimators = n_estimators, \n",
    "                              max_samples= max_samples, \n",
    "                              bootstrap = bootstrap)\n",
    "    model.fit(X, y)\n",
    "    posterior_counts = [[] for _ in range(len(X))]\n",
    "    for tree_idx in range(n_estimators):\n",
    "        tree = model[tree_idx]\n",
    "        unsampled_indices = np.where(model.estimators_samples_[tree_idx] == False)[0]\n",
    "        total_unsampled = len(unsampled_indices)\n",
    "        np.random.shuffle(unsampled_indices)\n",
    "        prob_indices, eval_indices = unsampled_indices[:total_unsampled//2], unsampled_indices[total_unsampled//2:]\n",
    "        node_counts = tree.tree_.n_node_samples\n",
    "        leaf_elems = [[] for _ in range(len(node_counts))]\n",
    "        for prob_index in prob_indices:\n",
    "            leaf_elems[tree.apply(X[prob_index].item()).item()].append(y[prob_index])\n",
    "        for eval_index in eval_indices:\n",
    "            # for every x, collect all y samples in the leaf nodes x fell into (for entire forest)\n",
    "            posterior_counts[eval_index].extend(leaf_elems[tree.apply(X[eval_index].item()).item()])\n",
    "    # for every x, approximate histogram entropy\n",
    "    \n",
    "    test = posterior_counts[0]\n",
    "    plt.hist(test, normed=True, bins=30)\n",
    "    plt.show()\n",
    "    \n",
    "    \"\"\"\n",
    "    entropy_estimates = []\n",
    "    for elem in posterior_counts:\n",
    "        elem.sort()\n",
    "        # initialize at 0\n",
    "        entropy = 0.\n",
    "        n = len(elem)\n",
    "        for i in range(1, n):\n",
    "            incr = (-1/n)*np.log((1/n)/(elem[i] - elem[i - 1]))\n",
    "            # if valid, add probability\n",
    "            if incr > 0:\n",
    "                entropy += incr\n",
    "        entropy_estimates.append(entropy)\n",
    "    return np.mean(entropy_estimates)\"\"\"\n",
    "np.warnings.filterwarnings('ignore')\n",
    "\n",
    "X, y = get_cont_sample(20000, 1)\n",
    "X = np.array(X).reshape(-1, 1)\n",
    "rf_entropy_estimate_bagging(X, y, 200, .32)"
   ]
  },
  {
   "cell_type": "markdown",
   "metadata": {},
   "source": [
    "This is also good. We get a spike around certain values that are very close together when X and Y are dependent. That is, there is very little entropy."
   ]
  },
  {
   "cell_type": "markdown",
   "metadata": {},
   "source": [
    "The problem with our algorithm is that our histogram approximation loses a lot of entropy when the elements are close together.\n",
    "We will try fixed sizes."
   ]
  },
  {
   "cell_type": "code",
   "execution_count": 21,
   "metadata": {},
   "outputs": [
    {
     "data": {
      "text/plain": [
       "0.0021716381022395437"
      ]
     },
     "execution_count": 21,
     "metadata": {},
     "output_type": "execute_result"
    }
   ],
   "source": [
    "from sklearn.ensemble.forest import _generate_unsampled_indices\n",
    "from sklearn.ensemble import BaggingRegressor\n",
    "from sklearn.tree import DecisionTreeRegressor\n",
    "\n",
    "def inspect_leaf_elems(leaf_elems):\n",
    "    count = 0\n",
    "    for leaf in leaf_elems:\n",
    "        if len(leaf) > 1:\n",
    "            print(leaf)\n",
    "            count += 1\n",
    "        if count == 5:\n",
    "            return\n",
    "\n",
    "def rf_entropy_estimate_bagging(X, y, n_estimators = 200, max_samples = .32, bootstrap = True, depth = 30, min_samples_leaf = 1):\n",
    "    model = BaggingRegressor(DecisionTreeRegressor(max_depth = depth, min_samples_leaf = min_samples_leaf), \n",
    "                              n_estimators = n_estimators, \n",
    "                              max_samples= max_samples, \n",
    "                              bootstrap = bootstrap)\n",
    "    model.fit(X, y)\n",
    "    posterior_counts = [[] for _ in range(len(X))]\n",
    "    for tree_idx in range(n_estimators):\n",
    "        tree = model[tree_idx]\n",
    "        unsampled_indices = np.where(model.estimators_samples_[tree_idx] == False)[0]\n",
    "        total_unsampled = len(unsampled_indices)\n",
    "        np.random.shuffle(unsampled_indices)\n",
    "        prob_indices, eval_indices = unsampled_indices[:total_unsampled//2], unsampled_indices[total_unsampled//2:]\n",
    "        node_counts = tree.tree_.n_node_samples\n",
    "        leaf_elems = [[] for _ in range(len(node_counts))]\n",
    "        for prob_index in prob_indices:\n",
    "            leaf_elems[tree.apply(X[prob_index].item()).item()].append(y[prob_index])\n",
    "        for eval_index in eval_indices:\n",
    "            # for every x, collect all y samples in the leaf nodes x fell into (for entire forest)\n",
    "            posterior_counts[eval_index].extend(leaf_elems[tree.apply(X[eval_index].item()).item()])\n",
    "    # for every x, approximate histogram entropy\n",
    "    entropy_estimates = []\n",
    "    for elem in posterior_counts:\n",
    "        elem.sort()\n",
    "        entropy = 0.\n",
    "        hist = np.histogram(elem, bins = \"auto\")\n",
    "        pdf = hist[0]/len(elem)\n",
    "        for i in range(len(pdf)):\n",
    "            incr = -pdf[i]*np.log(pdf[i]/(hist[1][i + 1] - hist[1][i]))\n",
    "            if not np.isnan(incr) and incr >= 0:\n",
    "                entropy += incr\n",
    "        entropy_estimates.append(entropy)\n",
    "    return np.mean(entropy_estimates)\n",
    "np.warnings.filterwarnings('ignore')\n",
    "\n",
    "X, y = get_cont_sample(2000, 1)\n",
    "X = np.array(X).reshape(-1, 1)\n",
    "rf_entropy_estimate_bagging(X, y, 200, .32)"
   ]
  },
  {
   "cell_type": "code",
   "execution_count": null,
   "metadata": {},
   "outputs": [],
   "source": []
  }
 ],
 "metadata": {
  "kernelspec": {
   "display_name": "Python 3",
   "language": "python",
   "name": "python3"
  },
  "language_info": {
   "codemirror_mode": {
    "name": "ipython",
    "version": 3
   },
   "file_extension": ".py",
   "mimetype": "text/x-python",
   "name": "python",
   "nbconvert_exporter": "python",
   "pygments_lexer": "ipython3",
   "version": "3.7.0"
  }
 },
 "nbformat": 4,
 "nbformat_minor": 2
}
