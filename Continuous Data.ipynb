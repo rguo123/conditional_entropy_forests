{
 "cells": [
  {
   "cell_type": "markdown",
   "metadata": {},
   "source": [
    "# Conditional Entropy estimate for continuous Y\n",
    "In this notebook, we repeat our algorithm (see Honest Sampling notebook) on continuous Y data.\n",
    "\n",
    "## Sampling Code"
   ]
  },
  {
   "cell_type": "code",
   "execution_count": 1,
   "metadata": {},
   "outputs": [
    {
     "data": {
      "image/png": "[encoded data removed]",
      "text/plain": [
       "<Figure size 432x288 with 1 Axes>"
      ]
     },
     "metadata": {},
     "output_type": "display_data"
    },
    {
     "data": {
      "image/png": "[encoded data removed]",
      "text/plain": [
       "<Figure size 432x288 with 1 Axes>"
      ]
     },
     "metadata": {},
     "output_type": "display_data"
    }
   ],
   "source": [
    "import numpy as np\n",
    "import seaborn as sns\n",
    "import matplotlib.pyplot as plt\n",
    "sns.set(font_scale=1.2)\n",
    "%matplotlib inline\n",
    "\n",
    "def get_cont_sample(n,  rho):\n",
    "    x_sample = []\n",
    "    y_sample = []\n",
    "    means = np.zeros(2)\n",
    "    cov = np.array(((1, rho), (rho, 1)))\n",
    "    for i in range(n):\n",
    "        x = np.random.multivariate_normal(means, cov)\n",
    "        x_sample.append(x[0])\n",
    "        y_sample.append(x[1])\n",
    "    return np.array(x_sample), np.array(y_sample)\n",
    "\n",
    "\n",
    "\n",
    "X, y = get_cont_sample(100, 1)\n",
    "plt.scatter(X, y, c = 'b')\n",
    "plt.title(\"Distribution Plot with rho = 1\")\n",
    "plt.xlabel(\"x\")\n",
    "plt.ylabel(\"y\")\n",
    "plt.show()\n",
    "\n",
    "X, y = get_cont_sample(100, 0)\n",
    "plt.scatter(X, y, c = 'b')\n",
    "plt.title(\"Distribution Plot with rho = 0\")\n",
    "plt.xlabel(\"x\")\n",
    "plt.ylabel(\"y\")\n",
    "plt.show()\n"
   ]
  },
  {
   "cell_type": "markdown",
   "metadata": {},
   "source": [
    "## Algorithm Development\n",
    "Since our Y is continous not categorical, we can not use class probabilities as our posterior distribution. Instead, we will construct an empircal cdf from the elements in each leaf node as our conditional distribution of Y given X"
   ]
  },
  {
   "cell_type": "code",
   "execution_count": 2,
   "metadata": {},
   "outputs": [
    {
     "name": "stderr",
     "output_type": "stream",
     "text": [
      "/usr/local/lib/python3.7/site-packages/sklearn/ensemble/weight_boosting.py:29: DeprecationWarning: numpy.core.umath_tests is an internal NumPy module and should not be imported. It will be removed in a future NumPy release.\n",
      "  from numpy.core.umath_tests import inner1d\n"
     ]
    }
   ],
   "source": [
    "from sklearn.ensemble.forest import _generate_unsampled_indices\n",
    "from sklearn.ensemble import BaggingRegressor\n",
    "from sklearn.tree import DecisionTreeRegressor\n",
    "\n",
    "\n",
    "\n",
    "def inspect_leaf_elems(leaf_elems):\n",
    "    count = 0\n",
    "    for leaf in leaf_elems:\n",
    "        if len(leaf) > 1:\n",
    "            print(leaf)\n",
    "            count += 1\n",
    "        if count == 5:\n",
    "            return\n",
    "\n",
    "def rf_entropy_estimate_bagging(X, y, n_estimators = 200, max_samples = .32, bootstrap = True, depth = 30, min_samples_leaf = 1):\n",
    "    model = BaggingRegressor(DecisionTreeRegressor(max_depth = depth, min_samples_leaf = min_samples_leaf), \n",
    "                              n_estimators = n_estimators, \n",
    "                              max_samples= max_samples, \n",
    "                              bootstrap = bootstrap)\n",
    "    model.fit(X, y)\n",
    "    for tree_idx in range(n_estimators):\n",
    "        tree = model[tree_idx]\n",
    "        unsampled_indices = np.where(model.estimators_samples_[tree_idx] == False)[0]\n",
    "        total_unsampled = len(unsampled_indices)\n",
    "        np.random.shuffle(unsampled_indices)\n",
    "        prob_indices, eval_indices = unsampled_indices[:total_unsampled//2], unsampled_indices[total_unsampled//2:]\n",
    "        node_counts = tree.tree_.n_node_samples\n",
    "        leaf_elems = [[] for _ in range(len(node_counts))]\n",
    "        for prob_index in prob_indices:\n",
    "            leaf_elems[tree.apply(X[prob_index].item()).item()].append(y[prob_index])\n",
    "        inspect_leaf_elems(leaf_elems)\n",
    "        break\n",
    "    return\n",
    "np.warnings.filterwarnings('ignore')"
   ]
  },
  {
   "cell_type": "markdown",
   "metadata": {},
   "source": [
    "## Uncorrelated Data"
   ]
  },
  {
   "cell_type": "code",
   "execution_count": 4,
   "metadata": {},
   "outputs": [
    {
     "name": "stdout",
     "output_type": "stream",
     "text": [
      "[1.4092930372599775, 0.6276251040639907, 1.1769886192910388]\n",
      "[0.2657743518490584, 0.005670499847074233, -1.0028620149765068]\n",
      "[-0.30598584226862446, 0.5209670627707994, -0.07426198074209005]\n",
      "[-1.1498255492381144, -0.5743467197990109, 1.4192699884919597, 0.8513542559563927]\n",
      "[-0.18930893852920644, 1.222973788978089, 2.767250407153513]\n"
     ]
    }
   ],
   "source": [
    "X, y = get_cont_sample(1000, 0)\n",
    "X = np.array(X).reshape(-1, 1)\n",
    "rf_entropy_estimate_bagging(X, y, 200, .32)"
   ]
  },
  {
   "cell_type": "markdown",
   "metadata": {},
   "source": [
    "## Correlated Data"
   ]
  },
  {
   "cell_type": "code",
   "execution_count": 5,
   "metadata": {},
   "outputs": [
    {
     "name": "stdout",
     "output_type": "stream",
     "text": [
      "[-2.6640162855689775, -2.5437450827195494]\n",
      "[-2.012155341210433, -1.9895633045281393, -1.9886843332915243, -2.008300583390162]\n",
      "[-1.7670903093675046, -1.7697767646191862]\n",
      "[-1.7020925188614304, -1.696681975539723]\n",
      "[-1.5480791892117949, -1.523999569112268]\n"
     ]
    }
   ],
   "source": [
    "X, y = get_cont_sample(1000, 1)\n",
    "X = np.array(X).reshape(-1, 1)\n",
    "rf_entropy_estimate_bagging(X, y, 200, .32)"
   ]
  },
  {
   "cell_type": "markdown",
   "metadata": {},
   "source": [
    "When our data is very correlated ($\\rho$ = 1), we see that the elements in our leaf elements actually make sense and are close together. However, when our data is uncorrelated ($\\rho$ = 0), we see that our elements are very widespread. This is exactly what we expect.\n",
    "\n",
    "However, the count of the elements in our leaf nodes are all pretty similar. So, a naive binning strategy to create an empirical cdf will result in the same probability distribution (just 1/n for each sample point, where n is number of elements in leaf node). Thus, we need a way of incorporating the spread of our data.\n",
    "\n",
    "We can do this by assigning a \"uniform distribution\" between every 2 adjacent order statistics. However, if the samples are close together, we get negaive entropy which doesn't make sense. So the overarching problem is given this blocky posterior distribution, how do I approximate the entropy?"
   ]
  },
  {
   "cell_type": "markdown",
   "metadata": {},
   "source": [
    "https://en.wikipedia.org/wiki/Entropy_estimation"
   ]
  },
  {
   "cell_type": "markdown",
   "metadata": {},
   "source": [
    "From the wikipedia article, since we do not know the true distribution, the way to go seems to be the histogram approimator! If we get negative entropy value, this means that our bins were too close together (very little entropoy!). Thus, I will just set that particular f(x)log(f(x)) to 0 whenever we run into this case. \n"
   ]
  },
  {
   "cell_type": "code",
   "execution_count": 4,
   "metadata": {},
   "outputs": [
    {
     "data": {
      "text/plain": [
       "0.018313483994129156"
      ]
     },
     "execution_count": 4,
     "metadata": {},
     "output_type": "execute_result"
    }
   ],
   "source": [
    "from sklearn.ensemble.forest import _generate_unsampled_indices\n",
    "from sklearn.ensemble import BaggingRegressor\n",
    "from sklearn.tree import DecisionTreeRegressor\n",
    "\n",
    "def inspect_leaf_elems(leaf_elems):\n",
    "    count = 0\n",
    "    for leaf in leaf_elems:\n",
    "        if len(leaf) > 1:\n",
    "            print(leaf)\n",
    "            count += 1\n",
    "        if count == 5:\n",
    "            return\n",
    "\n",
    "def rf_entropy_estimate_bagging(X, y, n_estimators = 200, max_samples = .32, bootstrap = True, depth = 30, min_samples_leaf = 1):\n",
    "    model = BaggingRegressor(DecisionTreeRegressor(max_depth = depth, min_samples_leaf = min_samples_leaf), \n",
    "                              n_estimators = n_estimators, \n",
    "                              max_samples= max_samples, \n",
    "                              bootstrap = bootstrap)\n",
    "    model.fit(X, y)\n",
    "    posterior_counts = [[] for _ in range(len(X))]\n",
    "    for tree_idx in range(n_estimators):\n",
    "        tree = model[tree_idx]\n",
    "        unsampled_indices = np.where(model.estimators_samples_[tree_idx] == False)[0]\n",
    "        total_unsampled = len(unsampled_indices)\n",
    "        np.random.shuffle(unsampled_indices)\n",
    "        prob_indices, eval_indices = unsampled_indices[:total_unsampled//2], unsampled_indices[total_unsampled//2:]\n",
    "        node_counts = tree.tree_.n_node_samples\n",
    "        leaf_elems = [[] for _ in range(len(node_counts))]\n",
    "        for prob_index in prob_indices:\n",
    "            leaf_elems[tree.apply(X[prob_index].item()).item()].append(y[prob_index])\n",
    "        for eval_index in eval_indices:\n",
    "            # for every x, collect all y samples in the leaf nodes x fell into (for entire forest)\n",
    "            posterior_counts[eval_index].extend(leaf_elems[tree.apply(X[eval_index].item()).item()])\n",
    "    # for every x, approximate histogram entropy\n",
    "    entropy_estimates = []\n",
    "    for elem in posterior_counts:\n",
    "        elem.sort()\n",
    "        # initialize at 0\n",
    "        entropy = 0.\n",
    "        n = len(elem)\n",
    "        for i in range(1, n):\n",
    "            incr = (-1/n)*np.log((1/n)/(elem[i] - elem[i - 1]))\n",
    "            # if valid, add probability\n",
    "            if incr > 0:\n",
    "                entropy += incr\n",
    "        entropy_estimates.append(entropy)\n",
    "    return np.mean(entropy_estimates)\n",
    "np.warnings.filterwarnings('ignore')\n",
    "\n",
    "X, y = get_cont_sample(1000, 1)\n",
    "X = np.array(X).reshape(-1, 1)\n",
    "rf_entropy_estimate_bagging(X, y, 200, .32)"
   ]
  },
  {
   "cell_type": "markdown",
   "metadata": {},
   "source": [
    "We now do some tests.\n",
    "When the correlation is 0, our posterior distribution is just a normal with variance 1. We have calculated this before as .356.\n",
    "\n",
    "When the correlation is 1, there is no entropy after you know X, so the conditional entropy is 0."
   ]
  },
  {
   "cell_type": "code",
   "execution_count": 8,
   "metadata": {},
   "outputs": [
    {
     "name": "stdout",
     "output_type": "stream",
     "text": [
      "Estimated Value 0.6414487574125532\n",
      "True Value 1.41\n"
     ]
    }
   ],
   "source": [
    "X, y = get_cont_sample(2000, 0)\n",
    "X = np.array(X).reshape(-1, 1)\n",
    "print(\"Estimated Value\", rf_entropy_estimate_bagging(X, y, 200, .32))\n",
    "print(\"True Value\", 1.41)"
   ]
  },
  {
   "cell_type": "code",
   "execution_count": 9,
   "metadata": {},
   "outputs": [
    {
     "name": "stdout",
     "output_type": "stream",
     "text": [
      "Estimated Value 0.003769416473261647\n",
      "True Value 0\n"
     ]
    }
   ],
   "source": [
    "X, y = get_cont_sample(5000, 1)\n",
    "X = np.array(X).reshape(-1, 1)\n",
    "print(\"Estimated Value\", rf_entropy_estimate_bagging(X, y, 500, .32))\n",
    "print(\"True Value\", 0)"
   ]
  },
  {
   "cell_type": "markdown",
   "metadata": {},
   "source": [
    "## Problem with Algorithm\n",
    "Todo: create actual plots\n",
    "In lieu of plots, I have just been running the algorithm a bunch of times. Here are the following good properties:\n",
    "1. When X and Y are dependent, the conditional entropy is close to 0!\n",
    "2. As we increase rho (make X and Y more dependent), the conditional entropy drops to 0!  \n",
    "\n",
    "However, one major problem is that when I make the data completely independent (rho is 0), our conditional entropy value is no where close. I believe this is because it takes a lot of samples for it to converge correctly (the conditional entropy grows larger as you increase samples). Below I will investigate what exactly the conditional distirbution of Y given X looks like."
   ]
  },
  {
   "cell_type": "code",
   "execution_count": 3,
   "metadata": {},
   "outputs": [
    {
     "data": {
      "image/png": "[encoded data removed]",
      "text/plain": [
       "<Figure size 432x288 with 1 Axes>"
      ]
     },
     "metadata": {},
     "output_type": "display_data"
    }
   ],
   "source": [
    "from sklearn.ensemble.forest import _generate_unsampled_indices\n",
    "from sklearn.ensemble import BaggingRegressor\n",
    "from sklearn.tree import DecisionTreeRegressor\n",
    "\n",
    "def inspect_leaf_elems(leaf_elems):\n",
    "    count = 0\n",
    "    for leaf in leaf_elems:\n",
    "        if len(leaf) > 1:\n",
    "            print(leaf)\n",
    "            count += 1\n",
    "        if count == 5:\n",
    "            return\n",
    "\n",
    "def rf_entropy_estimate_bagging(X, y, n_estimators = 200, max_samples = .32, bootstrap = True, depth = 30, min_samples_leaf = 1):\n",
    "    model = BaggingRegressor(DecisionTreeRegressor(max_depth = depth, min_samples_leaf = min_samples_leaf), \n",
    "                              n_estimators = n_estimators, \n",
    "                              max_samples= max_samples, \n",
    "                              bootstrap = bootstrap)\n",
    "    model.fit(X, y)\n",
    "    posterior_counts = [[] for _ in range(len(X))]\n",
    "    for tree_idx in range(n_estimators):\n",
    "        tree = model[tree_idx]\n",
    "        unsampled_indices = np.where(model.estimators_samples_[tree_idx] == False)[0]\n",
    "        total_unsampled = len(unsampled_indices)\n",
    "        np.random.shuffle(unsampled_indices)\n",
    "        prob_indices, eval_indices = unsampled_indices[:total_unsampled//2], unsampled_indices[total_unsampled//2:]\n",
    "        node_counts = tree.tree_.n_node_samples\n",
    "        leaf_elems = [[] for _ in range(len(node_counts))]\n",
    "        for prob_index in prob_indices:\n",
    "            leaf_elems[tree.apply(X[prob_index].item()).item()].append(y[prob_index])\n",
    "        for eval_index in eval_indices:\n",
    "            # for every x, collect all y samples in the leaf nodes x fell into (for entire forest)\n",
    "            posterior_counts[eval_index].extend(leaf_elems[tree.apply(X[eval_index].item()).item()])\n",
    "    # for every x, approximate histogram entropy\n",
    "    \n",
    "    test = posterior_counts[0]\n",
    "    plt.hist(test, normed=True, bins=30)\n",
    "    plt.show()\n",
    "    \n",
    "    \"\"\"\n",
    "    entropy_estimates = []\n",
    "    for elem in posterior_counts:\n",
    "        elem.sort()\n",
    "        # initialize at 0\n",
    "        entropy = 0.\n",
    "        n = len(elem)\n",
    "        for i in range(1, n):\n",
    "            incr = (-1/n)*np.log((1/n)/(elem[i] - elem[i - 1]))\n",
    "            # if valid, add probability\n",
    "            if incr > 0:\n",
    "                entropy += incr\n",
    "        entropy_estimates.append(entropy)\n",
    "    return np.mean(entropy_estimates)\"\"\"\n",
    "np.warnings.filterwarnings('ignore')\n",
    "\n",
    "X, y = get_cont_sample(20000, 0)\n",
    "X = np.array(X).reshape(-1, 1)\n",
    "rf_entropy_estimate_bagging(X, y, 200, .32)"
   ]
  },
  {
   "cell_type": "markdown",
   "metadata": {},
   "source": [
    "This is very cool! when our data is independent, our posterior distribution of Y given X is just the distribution of Y ( a normal with 0 mean)."
   ]
  },
  {
   "cell_type": "code",
   "execution_count": 4,
   "metadata": {},
   "outputs": [
    {
     "data": {
      "image/png": "[encoded data removed]",
      "text/plain": [
       "<Figure size 432x288 with 1 Axes>"
      ]
     },
     "metadata": {},
     "output_type": "display_data"
    }
   ],
   "source": [
    "from sklearn.ensemble.forest import _generate_unsampled_indices\n",
    "from sklearn.ensemble import BaggingRegressor\n",
    "from sklearn.tree import DecisionTreeRegressor\n",
    "\n",
    "def inspect_leaf_elems(leaf_elems):\n",
    "    count = 0\n",
    "    for leaf in leaf_elems:\n",
    "        if len(leaf) > 1:\n",
    "            print(leaf)\n",
    "            count += 1\n",
    "        if count == 5:\n",
    "            return\n",
    "\n",
    "def rf_entropy_estimate_bagging(X, y, n_estimators = 200, max_samples = .32, bootstrap = True, depth = 30, min_samples_leaf = 1):\n",
    "    model = BaggingRegressor(DecisionTreeRegressor(max_depth = depth, min_samples_leaf = min_samples_leaf), \n",
    "                              n_estimators = n_estimators, \n",
    "                              max_samples= max_samples, \n",
    "                              bootstrap = bootstrap)\n",
    "    model.fit(X, y)\n",
    "    posterior_counts = [[] for _ in range(len(X))]\n",
    "    for tree_idx in range(n_estimators):\n",
    "        tree = model[tree_idx]\n",
    "        unsampled_indices = np.where(model.estimators_samples_[tree_idx] == False)[0]\n",
    "        total_unsampled = len(unsampled_indices)\n",
    "        np.random.shuffle(unsampled_indices)\n",
    "        prob_indices, eval_indices = unsampled_indices[:total_unsampled//2], unsampled_indices[total_unsampled//2:]\n",
    "        node_counts = tree.tree_.n_node_samples\n",
    "        leaf_elems = [[] for _ in range(len(node_counts))]\n",
    "        for prob_index in prob_indices:\n",
    "            leaf_elems[tree.apply(X[prob_index].item()).item()].append(y[prob_index])\n",
    "        for eval_index in eval_indices:\n",
    "            # for every x, collect all y samples in the leaf nodes x fell into (for entire forest)\n",
    "            posterior_counts[eval_index].extend(leaf_elems[tree.apply(X[eval_index].item()).item()])\n",
    "    # for every x, approximate histogram entropy\n",
    "    \n",
    "    test = posterior_counts[0]\n",
    "    plt.hist(test, normed=True, bins=30)\n",
    "    plt.show()\n",
    "    \n",
    "    \"\"\"\n",
    "    entropy_estimates = []\n",
    "    for elem in posterior_counts:\n",
    "        elem.sort()\n",
    "        # initialize at 0\n",
    "        entropy = 0.\n",
    "        n = len(elem)\n",
    "        for i in range(1, n):\n",
    "            incr = (-1/n)*np.log((1/n)/(elem[i] - elem[i - 1]))\n",
    "            # if valid, add probability\n",
    "            if incr > 0:\n",
    "                entropy += incr\n",
    "        entropy_estimates.append(entropy)\n",
    "    return np.mean(entropy_estimates)\"\"\"\n",
    "np.warnings.filterwarnings('ignore')\n",
    "\n",
    "X, y = get_cont_sample(5000, 1)\n",
    "X = np.array(X).reshape(-1, 1)\n",
    "rf_entropy_estimate_bagging(X, y, 200, .32)"
   ]
  },
  {
   "cell_type": "markdown",
   "metadata": {},
   "source": [
    "This is also good. We get a spike around certain values that are very close together when X and Y are dependent. That is, there is very little entropy."
   ]
  },
  {
   "cell_type": "markdown",
   "metadata": {},
   "source": [
    "The problem with our algorithm is that our histogram approximation loses a lot of entropy when the elements are close together.\n",
    "We will try fixed sizes."
   ]
  },
  {
   "cell_type": "code",
   "execution_count": 5,
   "metadata": {},
   "outputs": [
    {
     "data": {
      "text/plain": [
       "0.020286196904828777"
      ]
     },
     "execution_count": 5,
     "metadata": {},
     "output_type": "execute_result"
    }
   ],
   "source": [
    "from sklearn.ensemble.forest import _generate_unsampled_indices\n",
    "from sklearn.ensemble import BaggingRegressor\n",
    "from sklearn.tree import DecisionTreeRegressor\n",
    "\n",
    "def inspect_leaf_elems(leaf_elems):\n",
    "    count = 0\n",
    "    for leaf in leaf_elems:\n",
    "        if len(leaf) > 1:\n",
    "            print(leaf)\n",
    "            count += 1\n",
    "        if count == 5:\n",
    "            return\n",
    "\n",
    "def rf_entropy_estimate_bagging(X, y, n_estimators = 500, max_samples = .32, bootstrap = True, depth = 30, min_samples_leaf = 5):\n",
    "    model = BaggingRegressor(DecisionTreeRegressor(max_depth = depth, min_samples_leaf = min_samples_leaf, max_features = int(math.ceil(X.shape[1]/3))), \n",
    "                              n_estimators = n_estimators, \n",
    "                              max_samples= max_samples, \n",
    "                              bootstrap = bootstrap)\n",
    "    model.fit(X, y)\n",
    "    posterior_counts = [[] for _ in range(len(X))]\n",
    "    for tree_idx in range(n_estimators):\n",
    "        tree = model[tree_idx]\n",
    "        unsampled_indices = np.where(model.estimators_samples_[tree_idx] == False)[0]\n",
    "        total_unsampled = len(unsampled_indices)\n",
    "        np.random.shuffle(unsampled_indices)\n",
    "        prob_indices, eval_indices = unsampled_indices[:total_unsampled//2], unsampled_indices[total_unsampled//2:]\n",
    "        node_counts = tree.tree_.n_node_samples\n",
    "        leaf_elems = [[] for _ in range(len(node_counts))]\n",
    "        for prob_index in prob_indices:\n",
    "            leaf_elems[tree.apply(X[prob_index].reshape(1, -1)).item()].append(y[prob_index])\n",
    "        for eval_index in eval_indices:\n",
    "            # for every x, collect all y samples in the leaf nodes x fell into (for entire forest)\n",
    "            posterior_counts[eval_index].extend(leaf_elems[tree.apply(X[eval_index].reshape(1, -1)).item()])\n",
    "    # for every x, approximate histogram entropy\n",
    "    entropy_estimates = []\n",
    "    for elem in posterior_counts:\n",
    "        elem.sort()\n",
    "        entropy = 0.\n",
    "        hist = np.histogram(elem, bins = \"auto\")\n",
    "        pdf = hist[0]/len(elem)\n",
    "        for i in range(len(pdf)):\n",
    "            incr = -pdf[i]*np.log(pdf[i]/(hist[1][i + 1] - hist[1][i]))\n",
    "            if not np.isnan(incr) and incr >= 0:\n",
    "                entropy += incr\n",
    "        entropy_estimates.append(entropy)\n",
    "    return np.mean(entropy_estimates)\n",
    "np.warnings.filterwarnings('ignore')\n",
    "\n",
    "X, y = get_cont_sample(2000, 1)\n",
    "X = np.array(X).reshape(-1, 1)\n",
    "rf_entropy_estimate_bagging(X, y, 500, .32)"
   ]
  },
  {
   "cell_type": "code",
   "execution_count": 36,
   "metadata": {},
   "outputs": [
    {
     "data": {
      "image/png": "[encoded data removed]",
      "text/plain": [
       "<Figure size 432x288 with 1 Axes>"
      ]
     },
     "metadata": {},
     "output_type": "display_data"
    }
   ],
   "source": [
    "def get_cond_entropy_vs_n(rho):\n",
    "    conditional_entropy = []\n",
    "    sample_sizes = [i*100 for i in range(1, 31)]\n",
    "    for elem in tqdm_notebook(sample_sizes):\n",
    "        X, y = get_cont_sample(elem, rho)\n",
    "        conditional_entropy.append(rf_entropy_estimate_bagging(np.array(X).reshape(-1, 1), y, 300, .32, depth = 30))\n",
    "    return sample_sizes, conditional_entropy\n",
    "\n",
    "#sample_sizes, cond_entropy = get_cond_entropy_vs_n(1)\n",
    "plt.scatter(sample_sizes, cond_entropy, marker = \"None\",)\n",
    "line_est, = plt.plot(sample_sizes, cond_entropy, label = \"estimate\", linewidth = 3)\n",
    "line_true = plt.axhline(y=0, color='r', linestyle='-', label = \"true\")\n",
    "plt.xlabel(\"n\")\n",
    "plt.ylabel(\"H(Y|X) estimate\")\n",
    "plt.ylim(ymax = .1)\n",
    "plt.legend(handles=[line_est, line_true])\n",
    "plt.title(\"H(Y|X) Estimate vs Sample Size with Rho = 1\")\n",
    "plt.show()"
   ]
  },
  {
   "cell_type": "markdown",
   "metadata": {},
   "source": [
    "## Multidimensonal Case"
   ]
  },
  {
   "cell_type": "code",
   "execution_count": 6,
   "metadata": {},
   "outputs": [
    {
     "data": {
      "image/png": "[encoded data removed]",
      "text/plain": [
       "<Figure size 432x288 with 1 Axes>"
      ]
     },
     "metadata": {},
     "output_type": "display_data"
    },
    {
     "data": {
      "image/png": "[encoded data removed]",
      "text/plain": [
       "<Figure size 432x288 with 1 Axes>"
      ]
     },
     "metadata": {},
     "output_type": "display_data"
    }
   ],
   "source": [
    "import numpy as np\n",
    "import seaborn as sns\n",
    "import matplotlib.pyplot as plt\n",
    "sns.set(font_scale=1.2)\n",
    "%matplotlib inline\n",
    "\n",
    "def get_cont_sample_multi(n,  rho, d):\n",
    "    x_sample = []\n",
    "    y_sample = []\n",
    "    means = np.zeros(d)\n",
    "    cov = np.identity(d)\n",
    "    cov[0, 1] = rho\n",
    "    cov[1, 0] = rho\n",
    "    for i in range(n):\n",
    "        x = np.random.multivariate_normal(means, cov)\n",
    "        y_sample.append(x[0])\n",
    "        x_sample.append(x[1:])\n",
    "    return np.array(x_sample), np.array(y_sample)\n",
    "\n",
    "\n",
    "X, y = get_cont_sample_multi(100, 1, 5)\n",
    "X_2 = [x[0] for x in X]\n",
    "plt.scatter(X_2, y, c = 'b')\n",
    "plt.title(\"Distribution Plot with rho = 1\")\n",
    "plt.xlabel(\"x\")\n",
    "plt.ylabel(\"y\")\n",
    "plt.show()\n",
    "X_3 = [x[1] for x in X]\n",
    "plt.scatter(X_3, y, c = 'b')\n",
    "plt.title(\"Distribution Plot with rho = 1\")\n",
    "plt.xlabel(\"x\")\n",
    "plt.ylabel(\"y\")\n",
    "plt.show()\n"
   ]
  },
  {
   "cell_type": "code",
   "execution_count": 4,
   "metadata": {},
   "outputs": [
    {
     "data": {
      "text/plain": [
       "0.09401879455171078"
      ]
     },
     "execution_count": 4,
     "metadata": {},
     "output_type": "execute_result"
    }
   ],
   "source": [
    "from sklearn.ensemble.forest import _generate_unsampled_indices\n",
    "from sklearn.ensemble import BaggingRegressor\n",
    "from sklearn.tree import DecisionTreeRegressor\n",
    "import math\n",
    "\n",
    "def inspect_leaf_elems(leaf_elems):\n",
    "    count = 0\n",
    "    for leaf in leaf_elems:\n",
    "        if len(leaf) > 1:\n",
    "            print(leaf)\n",
    "            count += 1\n",
    "        if count == 5:\n",
    "            return\n",
    "\n",
    "def rf_entropy_estimate_bagging(X, y, n_estimators = 500, max_samples = .32, bootstrap = True, depth = 30, min_samples_leaf = 5):\n",
    "    model = BaggingRegressor(DecisionTreeRegressor(max_depth = depth, min_samples_leaf = min_samples_leaf, max_features = int(math.ceil(X.shape[1]/3))), \n",
    "                              n_estimators = n_estimators, \n",
    "                              max_samples= max_samples, \n",
    "                              bootstrap = bootstrap)\n",
    "    model.fit(X, y)\n",
    "    posterior_counts = [[] for _ in range(len(X))]\n",
    "    for tree_idx in range(n_estimators):\n",
    "        tree = model[tree_idx]\n",
    "        unsampled_indices = np.where(model.estimators_samples_[tree_idx] == False)[0]\n",
    "        total_unsampled = len(unsampled_indices)\n",
    "        np.random.shuffle(unsampled_indices)\n",
    "        prob_indices, eval_indices = unsampled_indices[:total_unsampled//2], unsampled_indices[total_unsampled//2:]\n",
    "        node_counts = tree.tree_.n_node_samples\n",
    "        leaf_elems = [[] for _ in range(len(node_counts))]\n",
    "        for prob_index in prob_indices:\n",
    "            leaf_elems[tree.apply(X[prob_index].reshape(1, -1)).item()].append(y[prob_index])\n",
    "        for eval_index in eval_indices:\n",
    "            # for every x, collect all y samples in the leaf nodes x fell into (for entire forest)\n",
    "            posterior_counts[eval_index].extend(leaf_elems[tree.apply(X[eval_index].reshape(1, -1)).item()])\n",
    "    # for every x, approximate histogram entropy\n",
    "    entropy_estimates = []\n",
    "    for elem in posterior_counts:\n",
    "        elem.sort()\n",
    "        entropy = 0.\n",
    "        hist = np.histogram(elem, bins = \"auto\")\n",
    "        pdf = hist[0]/len(elem)\n",
    "        for i in range(len(pdf)):\n",
    "            incr = -pdf[i]*np.log(pdf[i]/(hist[1][i + 1] - hist[1][i]))\n",
    "            if not np.isnan(incr) and incr >= 0:\n",
    "                entropy += incr\n",
    "        entropy_estimates.append(entropy)\n",
    "    return np.mean(entropy_estimates)\n",
    "np.warnings.filterwarnings('ignore')\n",
    "\n",
    "X, y = get_cont_sample(500, 1)\n",
    "rf_entropy_estimate_bagging(np.array(X).reshape(-1, 1), y, 500, .32)\n",
    "\n"
   ]
  },
  {
   "cell_type": "code",
   "execution_count": 9,
   "metadata": {},
   "outputs": [
    {
     "name": "stdout",
     "output_type": "stream",
     "text": [
      "[[1. 1. 0. 0.]\n",
      " [1. 1. 0. 0.]\n",
      " [0. 0. 1. 0.]\n",
      " [0. 0. 0. 1.]]\n"
     ]
    },
    {
     "data": {
      "text/plain": [
       "0.0016494742259919506"
      ]
     },
     "execution_count": 9,
     "metadata": {},
     "output_type": "execute_result"
    }
   ],
   "source": [
    "X, y = get_cont_sample(5000, 1, 4)\n",
    "rf_entropy_estimate_bagging(X, y, 500, .32)"
   ]
  },
  {
   "cell_type": "code",
   "execution_count": 60,
   "metadata": {},
   "outputs": [
    {
     "data": {
      "application/vnd.jupyter.widget-view+json": {
       "model_id": "c8ea022edd2048498b9bdf5474859096",
       "version_major": 2,
       "version_minor": 0
      },
      "text/plain": [
       "HBox(children=(IntProgress(value=0, max=25), HTML(value='')))"
      ]
     },
     "metadata": {},
     "output_type": "display_data"
    },
    {
     "name": "stdout",
     "output_type": "stream",
     "text": [
      "[0.03403421316900803, 0.01669774951903922, 0.007428723932783427, 0.004792162709913499, 0.00448526140804572, 0.003238970018269909, 0.0021417045604021742, 0.0024833895491357064, 0.0017059361820577791, 0.0016176961376958854, 0.0015496954105250448, 0.0011291048904697582, 0.0012318271985536909, 0.001151787160620944, 0.0013441029010683569, 0.0008552522430173271, 0.0008375444179101459, 0.0007755605063637254, 0.0007912917842041256, 0.0008611282134989849, 0.0007188767640261513, 0.0006738749695725652, 0.0005975172273460223, 0.0005623497786595438, 0.0005336325068420895]\n"
     ]
    },
    {
     "data": {
      "image/png": "[encoded data removed]",
      "text/plain": [
       "<Figure size 432x288 with 1 Axes>"
      ]
     },
     "metadata": {},
     "output_type": "display_data"
    }
   ],
   "source": [
    "from tqdm import tqdm_notebook\n",
    "def get_cond_entropy_vs_n(rho, d):\n",
    "    conditional_entropy = []\n",
    "    sample_sizes = [i*500 for i in range(1, 26)]\n",
    "    for elem in tqdm_notebook(sample_sizes):\n",
    "        X, y = get_cont_sample(elem, rho, d)\n",
    "        conditional_entropy.append(rf_entropy_estimate_bagging(X, y, 300, .32, depth = 30))\n",
    "    return sample_sizes, conditional_entropy\n",
    "\n",
    "sample_sizes, cond_entropy = get_cond_entropy_vs_n(1, 4)\n",
    "print(cond_entropy)\n",
    "line_est, = plt.plot(sample_sizes, cond_entropy, label = \"estimate\", linewidth = 3)\n",
    "line_true = plt.axhline(y=0, color='r', linestyle='-', label = \"true\")\n",
    "plt.xlabel(\"n\")\n",
    "plt.ylabel(\"H(Y|X) estimate\")\n",
    "plt.legend(handles=[line_est, line_true])\n",
    "plt.title(\"H(Y|X) Estimate vs Sample Size with Rho = 1\")\n",
    "plt.show()"
   ]
  },
  {
   "cell_type": "code",
   "execution_count": 7,
   "metadata": {},
   "outputs": [
    {
     "name": "stdout",
     "output_type": "stream",
     "text": [
      "1.405043734932601\n",
      "1.4189385332046727\n"
     ]
    }
   ],
   "source": [
    "from scipy.stats import multivariate_normal\n",
    "\n",
    "\n",
    "def estimate_multivariate_entropy(X):\n",
    "    mean = np.mean(X, axis = 0)\n",
    "    covar = np.cov(X, rowvar = False)\n",
    "    return multivariate_normal.entropy(mean, covar)\n",
    "\n",
    "def plugin_estimate_continuous(X, y):\n",
    "    joint = np.concatenate((y.reshape(-1, 1), X), axis = 1)\n",
    "    joint_entropy = estimate_multivariate_entropy(joint)\n",
    "    h_x = estimate_multivariate_entropy(X)\n",
    "    cond_entr =  joint_entropy - h_x\n",
    "    if cond_entr < 0:\n",
    "        return 0\n",
    "    return cond_entr\n",
    "\n",
    "def truth_1d(rho):\n",
    "    return multivariate_normal.entropy([0, 0], np.array([[1, rho], [rho, 1]])) - multivariate_normal.entropy([0], [1]) \n",
    "\n",
    "X, y = get_cont_sample_multi(5000, 0, 10)\n",
    "print(plugin_estimate_continuous(X, y))\n",
    "print(truth_1d(0))"
   ]
  },
  {
   "cell_type": "code",
   "execution_count": 32,
   "metadata": {},
   "outputs": [
    {
     "data": {
      "application/vnd.jupyter.widget-view+json": {
       "model_id": "5bbff92aaacc4fae9897b36023f5efeb",
       "version_major": 2,
       "version_minor": 0
      },
      "text/plain": [
       "HBox(children=(IntProgress(value=0, max=25), HTML(value='')))"
      ]
     },
     "metadata": {},
     "output_type": "display_data"
    },
    {
     "data": {
      "image/png": "[encoded data removed]",
      "text/plain": [
       "<Figure size 432x288 with 1 Axes>"
      ]
     },
     "metadata": {},
     "output_type": "display_data"
    }
   ],
   "source": [
    "def get_cond_entropy_vs_n(rho, d):\n",
    "    conditional_entropy = []\n",
    "    plugin_estimate = []\n",
    "    sample_sizes = [i*300 for i in range(1, 26)]\n",
    "    for elem in tqdm_notebook(sample_sizes):\n",
    "        X, y = get_cont_sample_multi(elem, rho, d)\n",
    "        conditional_entropy.append(rf_entropy_estimate_bagging(X, y, 300, .32, depth = 30))\n",
    "        plugin_estimate.append(plugin_estimate_continuous(X, y))\n",
    "    return sample_sizes, conditional_entropy, plugin_estimate\n",
    "\n",
    "sample_sizes, cond_entropy, plugin_estimate = get_cond_entropy_vs_n(0, 40)\n",
    "sns.set(font_scale = 1.3)\n",
    "sns.set_style(\"ticks\")\n",
    "plt.rcParams[\"font.family\"] = \"Times New Roman\"\n",
    "line_plugin, = plt.plot(sample_sizes, plugin_estimate, label = \"Plugin\", linewidth = 4, color = \"#87C6CC\")\n",
    "line_est, = plt.plot(sample_sizes, cond_entropy, label = \"CEF\", linewidth = 2, color = \"red\")\n",
    "line_true = plt.axhline(y=1.41, color='#020202', linestyle='-', linewidth = 2, label = \"Truth\")\n",
    "plt.xlabel(\"n\")\n",
    "plt.ylabel(\"H(Y|X)\")\n",
    "plt.legend(handles=[line_est, line_true, line_plugin])\n",
    "plt.ylim(ymax = 1.7)\n",
    "plt.ylim(ymin = 0)\n",
    "plt.tight_layout()\n",
    "plt.savefig(\"cont_40d_rho0_lessn.png\")\n",
    "plt.show()"
   ]
  },
  {
   "cell_type": "code",
   "execution_count": 7,
   "metadata": {},
   "outputs": [
    {
     "data": {
      "application/vnd.jupyter.widget-view+json": {
       "model_id": "6b40d61390fe4421a1168184b2e5a536",
       "version_major": 2,
       "version_minor": 0
      },
      "text/plain": [
       "HBox(children=(IntProgress(value=0, max=25), HTML(value='')))"
      ]
     },
     "metadata": {},
     "output_type": "display_data"
    },
    {
     "name": "stdout",
     "output_type": "stream",
     "text": [
      "\n"
     ]
    },
    {
     "data": {
      "image/png": "[encoded data removed]",
      "text/plain": [
       "<Figure size 432x288 with 1 Axes>"
      ]
     },
     "metadata": {},
     "output_type": "display_data"
    }
   ],
   "source": [
    "\n",
    "\n",
    "def get_cond_entropy_vs_mu(n, d):\n",
    "    conditional_entropy = []\n",
    "    plugin_estimate = []\n",
    "    rho = [i*.04 for i in range(0, 25)]\n",
    "    for elem in tqdm_notebook(rho):\n",
    "        X, y = get_cont_sample_multi(n, elem, d)\n",
    "        plugin_estimate.append(plugin_estimate_continuous(X, y))\n",
    "        conditional_entropy.append(rf_entropy_estimate_bagging(X, y, 300, .32, depth = 30))\n",
    "    return rho, conditional_entropy, plugin_estimate\n",
    "\n",
    "rhos, cond_entropy, plugin_estimate = get_cond_entropy_vs_mu(20000, 40)\n",
    "\n",
    "sns.set(font_scale = 1.3)\n",
    "sns.set_style(\"ticks\")\n",
    "plt.rcParams[\"font.family\"] = \"Times New Roman\"\n",
    "line_est, = plt.plot(rhos, cond_entropy, label = \"Random Forest Estimate\", linewidth = 2, color = \"blue\")\n",
    "line_plugin, = plt.plot(rhos, plugin_estimate, label = \"Plugin Estimate\", linewidth = 2, color = \"green\")\n",
    "plt.ylim(ymin = -.05)\n",
    "plt.ylim(ymax = 1.6)\n",
    "plt.legend(handles=[line_est, line_plugin])\n",
    "plt.xlabel(u\"\\u03C1\")\n",
    "plt.ylabel(\"H(Y|X) estimate\")\n",
    "plt.tight_layout()\n",
    "plt.savefig(\"cont_40d_n20000_conv0.png\")\n",
    "plt.show()"
   ]
  },
  {
   "cell_type": "code",
   "execution_count": 31,
   "metadata": {},
   "outputs": [
    {
     "data": {
      "application/vnd.jupyter.widget-view+json": {
       "model_id": "6b7bbd7a76ca40abaeaf2a6f317eac99",
       "version_major": 2,
       "version_minor": 0
      },
      "text/plain": [
       "HBox(children=(IntProgress(value=0, max=25), HTML(value='')))"
      ]
     },
     "metadata": {},
     "output_type": "display_data"
    },
    {
     "ename": "KeyboardInterrupt",
     "evalue": "",
     "output_type": "error",
     "traceback": [
      "\u001b[0;31m---------------------------------------------------------------------------\u001b[0m",
      "\u001b[0;31mKeyboardInterrupt\u001b[0m                         Traceback (most recent call last)",
      "\u001b[0;32m<ipython-input-31-a63c0ea4a02f>\u001b[0m in \u001b[0;36m<module>\u001b[0;34m()\u001b[0m\n\u001b[1;32m     11\u001b[0m     \u001b[0;32mreturn\u001b[0m \u001b[0msample_sizes\u001b[0m\u001b[0;34m,\u001b[0m \u001b[0mconditional_entropy\u001b[0m\u001b[0;34m,\u001b[0m \u001b[0mplugin_estimate\u001b[0m\u001b[0;34m\u001b[0m\u001b[0m\n\u001b[1;32m     12\u001b[0m \u001b[0;34m\u001b[0m\u001b[0m\n\u001b[0;32m---> 13\u001b[0;31m \u001b[0msample_sizes\u001b[0m\u001b[0;34m,\u001b[0m \u001b[0mcond_entropy\u001b[0m\u001b[0;34m,\u001b[0m \u001b[0mplugin_estimate\u001b[0m \u001b[0;34m=\u001b[0m \u001b[0mget_cond_entropy_vs_n\u001b[0m\u001b[0;34m(\u001b[0m\u001b[0;36m0\u001b[0m\u001b[0;34m)\u001b[0m\u001b[0;34m\u001b[0m\u001b[0m\n\u001b[0m\u001b[1;32m     14\u001b[0m \u001b[0msns\u001b[0m\u001b[0;34m.\u001b[0m\u001b[0mset\u001b[0m\u001b[0;34m(\u001b[0m\u001b[0mfont_scale\u001b[0m \u001b[0;34m=\u001b[0m \u001b[0;36m1.3\u001b[0m\u001b[0;34m)\u001b[0m\u001b[0;34m\u001b[0m\u001b[0m\n\u001b[1;32m     15\u001b[0m \u001b[0msns\u001b[0m\u001b[0;34m.\u001b[0m\u001b[0mset_style\u001b[0m\u001b[0;34m(\u001b[0m\u001b[0;34m\"ticks\"\u001b[0m\u001b[0;34m)\u001b[0m\u001b[0;34m\u001b[0m\u001b[0m\n",
      "\u001b[0;32m<ipython-input-31-a63c0ea4a02f>\u001b[0m in \u001b[0;36mget_cond_entropy_vs_n\u001b[0;34m(rho)\u001b[0m\n\u001b[1;32m      8\u001b[0m         \u001b[0mX\u001b[0m\u001b[0;34m,\u001b[0m \u001b[0my\u001b[0m \u001b[0;34m=\u001b[0m \u001b[0mget_cont_sample\u001b[0m\u001b[0;34m(\u001b[0m\u001b[0melem\u001b[0m\u001b[0;34m,\u001b[0m \u001b[0mrho\u001b[0m\u001b[0;34m)\u001b[0m\u001b[0;34m\u001b[0m\u001b[0m\n\u001b[1;32m      9\u001b[0m         \u001b[0mplugin_estimate\u001b[0m\u001b[0;34m.\u001b[0m\u001b[0mappend\u001b[0m\u001b[0;34m(\u001b[0m\u001b[0mplugin_estimate_continuous\u001b[0m\u001b[0;34m(\u001b[0m\u001b[0mX\u001b[0m\u001b[0;34m.\u001b[0m\u001b[0mreshape\u001b[0m\u001b[0;34m(\u001b[0m\u001b[0;34m-\u001b[0m\u001b[0;36m1\u001b[0m\u001b[0;34m,\u001b[0m \u001b[0;36m1\u001b[0m\u001b[0;34m)\u001b[0m\u001b[0;34m,\u001b[0m \u001b[0my\u001b[0m\u001b[0;34m)\u001b[0m\u001b[0;34m)\u001b[0m\u001b[0;34m\u001b[0m\u001b[0m\n\u001b[0;32m---> 10\u001b[0;31m         \u001b[0mconditional_entropy\u001b[0m\u001b[0;34m.\u001b[0m\u001b[0mappend\u001b[0m\u001b[0;34m(\u001b[0m\u001b[0mrf_entropy_estimate_bagging\u001b[0m\u001b[0;34m(\u001b[0m\u001b[0mX\u001b[0m\u001b[0;34m.\u001b[0m\u001b[0mreshape\u001b[0m\u001b[0;34m(\u001b[0m\u001b[0;34m-\u001b[0m\u001b[0;36m1\u001b[0m\u001b[0;34m,\u001b[0m \u001b[0;36m1\u001b[0m\u001b[0;34m)\u001b[0m\u001b[0;34m,\u001b[0m \u001b[0my\u001b[0m\u001b[0;34m,\u001b[0m \u001b[0;36m300\u001b[0m\u001b[0;34m,\u001b[0m \u001b[0;36m.32\u001b[0m\u001b[0;34m,\u001b[0m \u001b[0mdepth\u001b[0m \u001b[0;34m=\u001b[0m \u001b[0;36m30\u001b[0m\u001b[0;34m)\u001b[0m\u001b[0;34m)\u001b[0m\u001b[0;34m\u001b[0m\u001b[0m\n\u001b[0m\u001b[1;32m     11\u001b[0m     \u001b[0;32mreturn\u001b[0m \u001b[0msample_sizes\u001b[0m\u001b[0;34m,\u001b[0m \u001b[0mconditional_entropy\u001b[0m\u001b[0;34m,\u001b[0m \u001b[0mplugin_estimate\u001b[0m\u001b[0;34m\u001b[0m\u001b[0m\n\u001b[1;32m     12\u001b[0m \u001b[0;34m\u001b[0m\u001b[0m\n",
      "\u001b[0;32m<ipython-input-4-949275aea5c1>\u001b[0m in \u001b[0;36mrf_entropy_estimate_bagging\u001b[0;34m(X, y, n_estimators, max_samples, bootstrap, depth, min_samples_leaf)\u001b[0m\n\u001b[1;32m     32\u001b[0m         \u001b[0;32mfor\u001b[0m \u001b[0meval_index\u001b[0m \u001b[0;32min\u001b[0m \u001b[0meval_indices\u001b[0m\u001b[0;34m:\u001b[0m\u001b[0;34m\u001b[0m\u001b[0m\n\u001b[1;32m     33\u001b[0m             \u001b[0;31m# for every x, collect all y samples in the leaf nodes x fell into (for entire forest)\u001b[0m\u001b[0;34m\u001b[0m\u001b[0;34m\u001b[0m\u001b[0m\n\u001b[0;32m---> 34\u001b[0;31m             \u001b[0mposterior_counts\u001b[0m\u001b[0;34m[\u001b[0m\u001b[0meval_index\u001b[0m\u001b[0;34m]\u001b[0m\u001b[0;34m.\u001b[0m\u001b[0mextend\u001b[0m\u001b[0;34m(\u001b[0m\u001b[0mleaf_elems\u001b[0m\u001b[0;34m[\u001b[0m\u001b[0mtree\u001b[0m\u001b[0;34m.\u001b[0m\u001b[0mapply\u001b[0m\u001b[0;34m(\u001b[0m\u001b[0mX\u001b[0m\u001b[0;34m[\u001b[0m\u001b[0meval_index\u001b[0m\u001b[0;34m]\u001b[0m\u001b[0;34m.\u001b[0m\u001b[0mreshape\u001b[0m\u001b[0;34m(\u001b[0m\u001b[0;36m1\u001b[0m\u001b[0;34m,\u001b[0m \u001b[0;34m-\u001b[0m\u001b[0;36m1\u001b[0m\u001b[0;34m)\u001b[0m\u001b[0;34m)\u001b[0m\u001b[0;34m.\u001b[0m\u001b[0mitem\u001b[0m\u001b[0;34m(\u001b[0m\u001b[0;34m)\u001b[0m\u001b[0;34m]\u001b[0m\u001b[0;34m)\u001b[0m\u001b[0;34m\u001b[0m\u001b[0m\n\u001b[0m\u001b[1;32m     35\u001b[0m     \u001b[0;31m# for every x, approximate histogram entropy\u001b[0m\u001b[0;34m\u001b[0m\u001b[0;34m\u001b[0m\u001b[0m\n\u001b[1;32m     36\u001b[0m     \u001b[0mentropy_estimates\u001b[0m \u001b[0;34m=\u001b[0m \u001b[0;34m[\u001b[0m\u001b[0;34m]\u001b[0m\u001b[0;34m\u001b[0m\u001b[0m\n",
      "\u001b[0;32m/usr/local/lib/python3.7/site-packages/sklearn/tree/tree.py\u001b[0m in \u001b[0;36mapply\u001b[0;34m(self, X, check_input)\u001b[0m\n\u001b[1;32m    463\u001b[0m         \"\"\"\n\u001b[1;32m    464\u001b[0m         \u001b[0mcheck_is_fitted\u001b[0m\u001b[0;34m(\u001b[0m\u001b[0mself\u001b[0m\u001b[0;34m,\u001b[0m \u001b[0;34m'tree_'\u001b[0m\u001b[0;34m)\u001b[0m\u001b[0;34m\u001b[0m\u001b[0m\n\u001b[0;32m--> 465\u001b[0;31m         \u001b[0mX\u001b[0m \u001b[0;34m=\u001b[0m \u001b[0mself\u001b[0m\u001b[0;34m.\u001b[0m\u001b[0m_validate_X_predict\u001b[0m\u001b[0;34m(\u001b[0m\u001b[0mX\u001b[0m\u001b[0;34m,\u001b[0m \u001b[0mcheck_input\u001b[0m\u001b[0;34m)\u001b[0m\u001b[0;34m\u001b[0m\u001b[0m\n\u001b[0m\u001b[1;32m    466\u001b[0m         \u001b[0;32mreturn\u001b[0m \u001b[0mself\u001b[0m\u001b[0;34m.\u001b[0m\u001b[0mtree_\u001b[0m\u001b[0;34m.\u001b[0m\u001b[0mapply\u001b[0m\u001b[0;34m(\u001b[0m\u001b[0mX\u001b[0m\u001b[0;34m)\u001b[0m\u001b[0;34m\u001b[0m\u001b[0m\n\u001b[1;32m    467\u001b[0m \u001b[0;34m\u001b[0m\u001b[0m\n",
      "\u001b[0;32m/usr/local/lib/python3.7/site-packages/sklearn/tree/tree.py\u001b[0m in \u001b[0;36m_validate_X_predict\u001b[0;34m(self, X, check_input)\u001b[0m\n\u001b[1;32m    371\u001b[0m         \u001b[0;34m\"\"\"Validate X whenever one tries to predict, apply, predict_proba\"\"\"\u001b[0m\u001b[0;34m\u001b[0m\u001b[0m\n\u001b[1;32m    372\u001b[0m         \u001b[0;32mif\u001b[0m \u001b[0mcheck_input\u001b[0m\u001b[0;34m:\u001b[0m\u001b[0;34m\u001b[0m\u001b[0m\n\u001b[0;32m--> 373\u001b[0;31m             \u001b[0mX\u001b[0m \u001b[0;34m=\u001b[0m \u001b[0mcheck_array\u001b[0m\u001b[0;34m(\u001b[0m\u001b[0mX\u001b[0m\u001b[0;34m,\u001b[0m \u001b[0mdtype\u001b[0m\u001b[0;34m=\u001b[0m\u001b[0mDTYPE\u001b[0m\u001b[0;34m,\u001b[0m \u001b[0maccept_sparse\u001b[0m\u001b[0;34m=\u001b[0m\u001b[0;34m\"csr\"\u001b[0m\u001b[0;34m)\u001b[0m\u001b[0;34m\u001b[0m\u001b[0m\n\u001b[0m\u001b[1;32m    374\u001b[0m             if issparse(X) and (X.indices.dtype != np.intc or\n\u001b[1;32m    375\u001b[0m                                 X.indptr.dtype != np.intc):\n",
      "\u001b[0;32m/usr/local/lib/python3.7/site-packages/sklearn/utils/validation.py\u001b[0m in \u001b[0;36mcheck_array\u001b[0;34m(array, accept_sparse, dtype, order, copy, force_all_finite, ensure_2d, allow_nd, ensure_min_samples, ensure_min_features, warn_on_dtype, estimator)\u001b[0m\n\u001b[1;32m    455\u001b[0m     \u001b[0mshape_repr\u001b[0m \u001b[0;34m=\u001b[0m \u001b[0m_shape_repr\u001b[0m\u001b[0;34m(\u001b[0m\u001b[0marray\u001b[0m\u001b[0;34m.\u001b[0m\u001b[0mshape\u001b[0m\u001b[0;34m)\u001b[0m\u001b[0;34m\u001b[0m\u001b[0m\n\u001b[1;32m    456\u001b[0m     \u001b[0;32mif\u001b[0m \u001b[0mensure_min_samples\u001b[0m \u001b[0;34m>\u001b[0m \u001b[0;36m0\u001b[0m\u001b[0;34m:\u001b[0m\u001b[0;34m\u001b[0m\u001b[0m\n\u001b[0;32m--> 457\u001b[0;31m         \u001b[0mn_samples\u001b[0m \u001b[0;34m=\u001b[0m \u001b[0m_num_samples\u001b[0m\u001b[0;34m(\u001b[0m\u001b[0marray\u001b[0m\u001b[0;34m)\u001b[0m\u001b[0;34m\u001b[0m\u001b[0m\n\u001b[0m\u001b[1;32m    458\u001b[0m         \u001b[0;32mif\u001b[0m \u001b[0mn_samples\u001b[0m \u001b[0;34m<\u001b[0m \u001b[0mensure_min_samples\u001b[0m\u001b[0;34m:\u001b[0m\u001b[0;34m\u001b[0m\u001b[0m\n\u001b[1;32m    459\u001b[0m             raise ValueError(\"Found array with %d sample(s) (shape=%s) while a\"\n",
      "\u001b[0;32m/usr/local/lib/python3.7/site-packages/sklearn/utils/validation.py\u001b[0m in \u001b[0;36m_num_samples\u001b[0;34m(x)\u001b[0m\n\u001b[1;32m    104\u001b[0m \u001b[0;32mdef\u001b[0m \u001b[0m_num_samples\u001b[0m\u001b[0;34m(\u001b[0m\u001b[0mx\u001b[0m\u001b[0;34m)\u001b[0m\u001b[0;34m:\u001b[0m\u001b[0;34m\u001b[0m\u001b[0m\n\u001b[1;32m    105\u001b[0m     \u001b[0;34m\"\"\"Return number of samples in array-like x.\"\"\"\u001b[0m\u001b[0;34m\u001b[0m\u001b[0m\n\u001b[0;32m--> 106\u001b[0;31m     \u001b[0;32mif\u001b[0m \u001b[0mhasattr\u001b[0m\u001b[0;34m(\u001b[0m\u001b[0mx\u001b[0m\u001b[0;34m,\u001b[0m \u001b[0;34m'fit'\u001b[0m\u001b[0;34m)\u001b[0m \u001b[0;32mand\u001b[0m \u001b[0mcallable\u001b[0m\u001b[0;34m(\u001b[0m\u001b[0mx\u001b[0m\u001b[0;34m.\u001b[0m\u001b[0mfit\u001b[0m\u001b[0;34m)\u001b[0m\u001b[0;34m:\u001b[0m\u001b[0;34m\u001b[0m\u001b[0m\n\u001b[0m\u001b[1;32m    107\u001b[0m         \u001b[0;31m# Don't get num_samples from an ensembles length!\u001b[0m\u001b[0;34m\u001b[0m\u001b[0;34m\u001b[0m\u001b[0m\n\u001b[1;32m    108\u001b[0m         raise TypeError('Expected sequence or array-like, got '\n",
      "\u001b[0;31mKeyboardInterrupt\u001b[0m: "
     ]
    }
   ],
   "source": [
    "from tqdm import tqdm_notebook\n",
    "\n",
    "def get_cond_entropy_vs_n(rho):\n",
    "    conditional_entropy = []\n",
    "    plugin_estimate = []\n",
    "    sample_sizes = [i*400 for i in range(1, 26)]\n",
    "    for elem in tqdm_notebook(sample_sizes):\n",
    "        X, y = get_cont_sample(elem, rho)\n",
    "        plugin_estimate.append(plugin_estimate_continuous(X.reshape(-1, 1), y))\n",
    "        conditional_entropy.append(rf_entropy_estimate_bagging(X.reshape(-1, 1), y, 300, .32, depth = 30))\n",
    "    return sample_sizes, conditional_entropy, plugin_estimate\n",
    "\n",
    "sample_sizes, cond_entropy, plugin_estimate = get_cond_entropy_vs_n(0)\n",
    "sns.set(font_scale = 1.3)\n",
    "sns.set_style(\"ticks\")\n",
    "plt.rcParams[\"font.family\"] = \"Times New Roman\"\n",
    "line_plugin, = plt.plot(sample_sizes, plugin_estimate, label = \"Plugin\", linewidth = 2, color = \"#94D6C9\")\n",
    "line_est, = plt.plot(sample_sizes, cond_entropy, label = \"CEF\", linewidth = 2, color = \"red\")\n",
    "line_true = plt.axhline(y=1.41, color='#4a484c', linestyle='-', label = \"Truth\")\n",
    "plt.xlabel(\"n\")\n",
    "plt.ylabel(\"H(Y|X)\")\n",
    "plt.legend(handles=[line_est, line_true, line_plugin])\n",
    "plt.ylim(ymax = 1.6)\n",
    "plt.ylim(ymin = 0)\n",
    "plt.tight_layout()\n",
    "plt.savefig(\"cont_1d_rho0_more_n.png\")\n",
    "plt.show()"
   ]
  },
  {
   "cell_type": "code",
   "execution_count": 30,
   "metadata": {},
   "outputs": [
    {
     "data": {
      "image/png": "[encoded data removed]",
      "text/plain": [
       "<Figure size 432x288 with 1 Axes>"
      ]
     },
     "metadata": {},
     "output_type": "display_data"
    }
   ],
   "source": [
    "from tqdm import tqdm_notebook\n",
    "\n",
    "\n",
    "def get_cond_entropy_vs_mu(n):\n",
    "    conditional_entropy = []\n",
    "    plugin_estimate = []\n",
    "    truth = []\n",
    "    rho = [i*.04 for i in range(0, 25)]\n",
    "    for elem in tqdm_notebook(rho):\n",
    "        X, y = get_cont_sample(n, elem)\n",
    "        plugin_estimate.append(plugin_estimate_continuous(X.reshape(-1, 1), y))\n",
    "        conditional_entropy.append(rf_entropy_estimate_bagging(X.reshape(-1, 1), y, 300, .32, depth = 30))\n",
    "        truth.append(truth_1d(elem))\n",
    "    return rho, conditional_entropy, plugin_estimate, truth\n",
    "\n",
    "#rhos, cond_entropy, plugin_estimate, truth = get_cond_entropy_vs_mu(10000)\n",
    "\n",
    "sns.set(font_scale = 1.3)\n",
    "sns.set_style(\"ticks\")\n",
    "plt.rcParams[\"font.family\"] = \"Times New Roman\"\n",
    "line_est, = plt.plot(rhos, cond_entropy, label = \"CEF\", linewidth = 2, color = \"red\")\n",
    "line_plugin, = plt.plot(rhos, plugin_estimate, label = \"Plugin\", linewidth = 3, color = \"#94D6C9\")\n",
    "line_truth, = plt.plot(rhos, truth, label = \"Truth\", linewidth = 2, color = \"#4a484c\")\n",
    "\n",
    "plt.ylim(ymin = -.05)\n",
    "plt.ylim(ymax = 1.6)\n",
    "plt.legend(handles=[line_est, line_truth, line_plugin])\n",
    "plt.xlabel(u\"\\u03C1\")\n",
    "plt.ylabel(\"H(Y|X)\")\n",
    "plt.tight_layout()\n",
    "plt.savefig(\"cont_1d_n10000_conv0.png\")\n",
    "plt.show()"
   ]
  },
  {
   "cell_type": "code",
   "execution_count": null,
   "metadata": {},
   "outputs": [],
   "source": []
  }
 ],
 "metadata": {
  "kernelspec": {
   "display_name": "Python 3",
   "language": "python",
   "name": "python3"
  },
  "language_info": {
   "codemirror_mode": {
    "name": "ipython",
    "version": 3
   },
   "file_extension": ".py",
   "mimetype": "text/x-python",
   "name": "python",
   "nbconvert_exporter": "python",
   "pygments_lexer": "ipython3",
   "version": "3.7.0"
  }
 },
 "nbformat": 4,
 "nbformat_minor": 2
}
