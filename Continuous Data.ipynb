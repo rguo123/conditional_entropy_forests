{
 "cells": [
  {
   "cell_type": "markdown",
   "metadata": {},
   "source": [
    "# Conditional Entropy estimate for continuous Y\n",
    "In this notebook, we repeat our algorithm (see Honest Sampling notebook) on continuous Y data.\n",
    "\n",
    "## Sampling Code"
   ]
  },
  {
   "cell_type": "code",
   "execution_count": 1,
   "metadata": {},
   "outputs": [
    {
     "data": {
      "image/png": "[encoded data removed]",
      "text/plain": [
       "<Figure size 432x288 with 1 Axes>"
      ]
     },
     "metadata": {},
     "output_type": "display_data"
    },
    {
     "data": {
      "image/png": "[encoded data removed]",
      "text/plain": [
       "<Figure size 432x288 with 1 Axes>"
      ]
     },
     "metadata": {},
     "output_type": "display_data"
    }
   ],
   "source": [
    "import numpy as np\n",
    "import seaborn as sns\n",
    "import matplotlib.pyplot as plt\n",
    "sns.set(font_scale=1.3)\n",
    "%matplotlib inline\n",
    "\n",
    "def get_cont_sample(n,  rho):\n",
    "    x_sample = []\n",
    "    y_sample = []\n",
    "    means = np.zeros(2)\n",
    "    cov = np.array(((1, rho), (rho, 1)))\n",
    "    for i in range(n):\n",
    "        x = np.random.multivariate_normal(means, cov)\n",
    "        x_sample.append(x[0])\n",
    "        y_sample.append(x[1])\n",
    "    return x_sample, y_sample\n",
    "\n",
    "\n",
    "\n",
    "X, y = get_cont_sample(100, 1)\n",
    "plt.scatter(X, y, c = 'b')\n",
    "plt.title(\"Distribution Plot with rho = 1\")\n",
    "plt.xlabel(\"x\")\n",
    "plt.ylabel(\"y\")\n",
    "plt.show()\n",
    "\n",
    "X, y = get_cont_sample(100, 0)\n",
    "plt.scatter(X, y, c = 'b')\n",
    "plt.title(\"Distribution Plot with rho = 0\")\n",
    "plt.xlabel(\"x\")\n",
    "plt.ylabel(\"y\")\n",
    "plt.show()\n"
   ]
  },
  {
   "cell_type": "markdown",
   "metadata": {},
   "source": [
    "## Algorithm Development\n",
    "Since our Y is continous not categorical, we can not use class probabilities as our posterior distribution. Instead, we will construct an empircal cdf from the elements in each leaf node as our conditional distribution of Y given X"
   ]
  },
  {
   "cell_type": "code",
   "execution_count": 16,
   "metadata": {},
   "outputs": [],
   "source": [
    "from sklearn.ensemble.forest import _generate_unsampled_indices\n",
    "from sklearn.ensemble import BaggingRegressor\n",
    "from sklearn.tree import DecisionTreeRegressor\n",
    "\n",
    "\n",
    "\n",
    "def inspect_leaf_elems(leaf_elems):\n",
    "    count = 0\n",
    "    for leaf in leaf_elems:\n",
    "        if len(leaf) > 1:\n",
    "            print(leaf)\n",
    "            count += 1\n",
    "        if count == 5:\n",
    "            return\n",
    "\n",
    "def rf_entropy_estimate_bagging(X, y, n_estimators = 200, max_samples = .32, bootstrap = True, depth = 30, min_samples_leaf = 1):\n",
    "    model = BaggingRegressor(DecisionTreeRegressor(max_depth = depth, min_samples_leaf = min_samples_leaf), \n",
    "                              n_estimators = n_estimators, \n",
    "                              max_samples= max_samples, \n",
    "                              bootstrap = bootstrap)\n",
    "    model.fit(X, y)\n",
    "    for tree_idx in range(n_estimators):\n",
    "        tree = model[tree_idx]\n",
    "        unsampled_indices = np.where(model.estimators_samples_[tree_idx] == False)[0]\n",
    "        total_unsampled = len(unsampled_indices)\n",
    "        np.random.shuffle(unsampled_indices)\n",
    "        prob_indices, eval_indices = unsampled_indices[:total_unsampled//2], unsampled_indices[total_unsampled//2:]\n",
    "        node_counts = tree.tree_.n_node_samples\n",
    "        leaf_elems = [[] for _ in range(len(node_counts))]\n",
    "        for prob_index in prob_indices:\n",
    "            leaf_elems[tree.apply(X[prob_index].item()).item()].append(y[prob_index])\n",
    "        inspect_leaf_elems(leaf_elems)\n",
    "        break\n",
    "    return\n",
    "np.warnings.filterwarnings('ignore')"
   ]
  },
  {
   "cell_type": "markdown",
   "metadata": {},
   "source": [
    "## Uncorrelated Data"
   ]
  },
  {
   "cell_type": "code",
   "execution_count": 18,
   "metadata": {},
   "outputs": [
    {
     "name": "stdout",
     "output_type": "stream",
     "text": [
      "[-1.1990068503223081, 2.284642575832161, -0.05869991193606456]\n",
      "[1.54278746416022, -0.33857781655906094]\n",
      "[1.3909209597499081, 0.31249268055822077]\n",
      "[0.9288522274551916, -2.0583351839807267, 0.5298798009814748]\n",
      "[-0.750931151366302, 0.8328629833140786]\n"
     ]
    }
   ],
   "source": [
    "X, y = get_cont_sample(1000, 0)\n",
    "X = np.array(X).reshape(-1, 1)\n",
    "rf_entropy_estimate_bagging(X, y, 200, .32)"
   ]
  },
  {
   "cell_type": "markdown",
   "metadata": {},
   "source": [
    "## Correlated Data"
   ]
  },
  {
   "cell_type": "code",
   "execution_count": 24,
   "metadata": {},
   "outputs": [
    {
     "name": "stdout",
     "output_type": "stream",
     "text": [
      "[-2.2092156508113963, -2.2497065799451925]\n",
      "[-1.8378391287125122, -1.8501839279413508, -1.8477815942090396, -1.846778081082956]\n",
      "[-1.7280686635846751, -1.6698459295122132, -1.6628688271718093]\n",
      "[-1.4667487535854065, -1.4645893697219854, -1.4746647525731955, -1.4608777056560793]\n",
      "[-1.4303649825763813, -1.4328414056993812, -1.4322949436306616]\n"
     ]
    }
   ],
   "source": [
    "X, y = get_cont_sample(1000, 1)\n",
    "X = np.array(X).reshape(-1, 1)\n",
    "rf_entropy_estimate_bagging(X, y, 200, .32)"
   ]
  },
  {
   "cell_type": "markdown",
   "metadata": {},
   "source": [
    "When our data is very correlated ($\\rho$ = 1), we see that the elements in our leaf elements actually make sense and are close together. However, when our data is uncorrelated ($\\rho$ = 0), we see that our elements are very widespread. This is exactly what we expect.\n",
    "\n",
    "However, the count of the elements in our leaf nodes are all pretty similar. So, a naive binning strategy to create an empirical cdf will result in the same probability distribution (just 1/n for each sample point, where n is number of elements in leaf node). Thus, we need a way of incorporating the spread of our data.\n",
    "\n",
    "We can do this by assigning a \"uniform distribution\" between every 2 adjacent order statistics. However, if the samples are close together, we get negaive entropy which doesn't make sense. So the overarching problem is given this blocky posterior distribution, how do I approximate the entropy?"
   ]
  },
  {
   "cell_type": "markdown",
   "metadata": {},
   "source": [
    "https://en.wikipedia.org/wiki/Entropy_estimation"
   ]
  },
  {
   "cell_type": "markdown",
   "metadata": {},
   "source": [
    "From the wikipedia article, since we do not know the true distribution, the way to go seems to be the histogram approimator! If we get negative entropy value, this means that our bins were too close together (very little entropoy!). Thus, I will just set that particular f(x)log(f(x)) to 0 whenever we run into this case. \n"
   ]
  },
  {
   "cell_type": "code",
   "execution_count": 45,
   "metadata": {},
   "outputs": [
    {
     "data": {
      "text/plain": [
       "0.020778272387486075"
      ]
     },
     "execution_count": 45,
     "metadata": {},
     "output_type": "execute_result"
    }
   ],
   "source": [
    "from sklearn.ensemble.forest import _generate_unsampled_indices\n",
    "from sklearn.ensemble import BaggingRegressor\n",
    "from sklearn.tree import DecisionTreeRegressor\n",
    "\n",
    "def inspect_leaf_elems(leaf_elems):\n",
    "    count = 0\n",
    "    for leaf in leaf_elems:\n",
    "        if len(leaf) > 1:\n",
    "            print(leaf)\n",
    "            count += 1\n",
    "        if count == 5:\n",
    "            return\n",
    "\n",
    "def rf_entropy_estimate_bagging(X, y, n_estimators = 200, max_samples = .32, bootstrap = True, depth = 30, min_samples_leaf = 1):\n",
    "    model = BaggingRegressor(DecisionTreeRegressor(max_depth = depth, min_samples_leaf = min_samples_leaf), \n",
    "                              n_estimators = n_estimators, \n",
    "                              max_samples= max_samples, \n",
    "                              bootstrap = bootstrap)\n",
    "    model.fit(X, y)\n",
    "    posterior_counts = [[] for _ in range(len(X))]\n",
    "    for tree_idx in range(n_estimators):\n",
    "        tree = model[tree_idx]\n",
    "        unsampled_indices = np.where(model.estimators_samples_[tree_idx] == False)[0]\n",
    "        total_unsampled = len(unsampled_indices)\n",
    "        np.random.shuffle(unsampled_indices)\n",
    "        prob_indices, eval_indices = unsampled_indices[:total_unsampled//2], unsampled_indices[total_unsampled//2:]\n",
    "        node_counts = tree.tree_.n_node_samples\n",
    "        leaf_elems = [[] for _ in range(len(node_counts))]\n",
    "        for prob_index in prob_indices:\n",
    "            leaf_elems[tree.apply(X[prob_index].item()).item()].append(y[prob_index])\n",
    "        for eval_index in eval_indices:\n",
    "            # for every x, collect all y samples in the leaf nodes x fell into (for entire forest)\n",
    "            posterior_counts[eval_index].extend(leaf_elems[tree.apply(X[eval_index].item()).item()])\n",
    "    # for every x, approximate histogram entropy\n",
    "    entropy_estimates = []\n",
    "    for elem in posterior_counts:\n",
    "        elem.sort()\n",
    "        # initialize at 0\n",
    "        entropy = 0.\n",
    "        n = len(elem)\n",
    "        for i in range(1, n):\n",
    "            incr = (-1/n)*np.log((1/n)/(elem[i] - elem[i - 1]))\n",
    "            # if valid, add probability\n",
    "            if incr > 0:\n",
    "                entropy += incr\n",
    "        entropy_estimates.append(entropy)\n",
    "    return np.mean(entropy_estimates)\n",
    "np.warnings.filterwarnings('ignore')\n",
    "\n",
    "X, y = get_cont_sample(1000, 1)\n",
    "X = np.array(X).reshape(-1, 1)\n",
    "rf_entropy_estimate_bagging(X, y, 200, .32)"
   ]
  },
  {
   "cell_type": "code",
   "execution_count": 44,
   "metadata": {},
   "outputs": [
    {
     "data": {
      "text/plain": [
       "0.33720077662944786"
      ]
     },
     "execution_count": 44,
     "metadata": {},
     "output_type": "execute_result"
    }
   ],
   "source": [
    "X, y = get_cont_sample(1000, 0)\n",
    "X = np.array(X).reshape(-1, 1)\n",
    "rf_entropy_estimate_bagging(X, y, 200, .32)"
   ]
  },
  {
   "cell_type": "code",
   "execution_count": 47,
   "metadata": {},
   "outputs": [
    {
     "data": {
      "text/plain": [
       "0.003722491154318687"
      ]
     },
     "execution_count": 47,
     "metadata": {},
     "output_type": "execute_result"
    }
   ],
   "source": [
    "X, y = get_cont_sample(5000, 1)\n",
    "X = np.array(X).reshape(-1, 1)\n",
    "rf_entropy_estimate_bagging(X, y, 500, .32)"
   ]
  },
  {
   "cell_type": "code",
   "execution_count": null,
   "metadata": {},
   "outputs": [],
   "source": []
  }
 ],
 "metadata": {
  "kernelspec": {
   "display_name": "Python 3",
   "language": "python",
   "name": "python3"
  },
  "language_info": {
   "codemirror_mode": {
    "name": "ipython",
    "version": 3
   },
   "file_extension": ".py",
   "mimetype": "text/x-python",
   "name": "python",
   "nbconvert_exporter": "python",
   "pygments_lexer": "ipython3",
   "version": "3.7.0"
  }
 },
 "nbformat": 4,
 "nbformat_minor": 2
}
