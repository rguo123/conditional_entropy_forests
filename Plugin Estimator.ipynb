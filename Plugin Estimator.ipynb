{
 "cells": [
  {
   "cell_type": "markdown",
   "metadata": {},
   "source": [
    "# Plugin Estimator\n",
    "This notebook we write code for a method to benchmark our random forest estimate against.\n",
    "We will be using the plugin estimator where we measure the parameters assuming we already know the distributions of X and Y.\n",
    "\n",
    "## Sampling Code"
   ]
  },
  {
   "cell_type": "code",
   "execution_count": 3,
   "metadata": {},
   "outputs": [
    {
     "data": {
      "image/png": "[encoded data removed]",
      "text/plain": [
       "<Figure size 432x288 with 1 Axes>"
      ]
     },
     "metadata": {},
     "output_type": "display_data"
    }
   ],
   "source": [
    "import numpy as np\n",
    "%matplotlib inline\n",
    "# NOTE: we are storing y's as 1's or 0's but still doing the mean stuff correctly\n",
    "def get_sample(n, mean, var):\n",
    "    x_sample = []\n",
    "    y_sample = []\n",
    "    for i in range(n):\n",
    "        y = np.random.binomial(1, .5)\n",
    "        if (y == 0):\n",
    "            x = np.random.normal(-mean, var)\n",
    "        else:\n",
    "            x = np.random.normal(mean, var)\n",
    "        x_sample.append(x)\n",
    "        y_sample.append(y)\n",
    "    return x_sample, y_sample\n",
    "\n",
    "import seaborn as sns\n",
    "import matplotlib.pyplot as plt\n",
    "sns.set(font_scale=1.3)\n",
    "\n",
    "def split_by_class(sample):\n",
    "    y_one = [pair for pair in sample if pair[1] == 1]\n",
    "    y_neg_one = [pair for pair in sample if pair[1] == 0]\n",
    "    return y_one, y_neg_one\n",
    "\n",
    "X, y = get_sample(100, 2, 1)\n",
    "sample = list(zip(X, y))\n",
    "class_one, class_neg_one = split_by_class(sample)\n",
    "sns.distplot(list(zip(*class_one))[0], hist=False, rug=True)\n",
    "sns.distplot(list(zip(*class_neg_one))[0], hist=False, rug=True)\n",
    "plt.title(\"Distribution Plot with Mean = 2\")\n",
    "plt.show()"
   ]
  },
  {
   "cell_type": "markdown",
   "metadata": {},
   "source": [
    "We copy below the math needed to solve for H(Y|X) below:\n",
    "    \n",
    "We will do the same math as above to calculate the true conditional entropy when $\\mu = 1$. The math is actually very clean! $H(Y)$ is still the same.\n",
    "\n",
    "$H(X) = -\\int_x (\\frac{1}{2}\\mathcal N(1, 1) + \\frac{1}{2}\\mathcal N(-1, 1))\\log (\\frac{1}{2}\\mathcal N(1, 1) + \\frac{1}{2}\\mathcal N(-1, 1)) dx$  \n",
    "\n",
    "This is messy... BUT notice that $\\mathcal N(1, 1)$ and $\\mathcal N(-1, 1)$ are just mirrors of each other! Besides the different means, the distributions are completely the same. So if we distribute the first summation we should get two identical \"entropies\"! (I did this numerically in wolfram alpha as well just to make sure).  \n",
    "\n",
    "$H(X) = -2(\\int_x \\frac{1}{2}\\mathcal N(1, 1) log (\\frac{1}{2}\\mathcal N(1, 1) + \\frac{1}{2}\\mathcal N(-1, 1))dx = 1.75577$  \n",
    "\n",
    "Now for $H(X|Y)$ . \n",
    "\n",
    "$H(X|Y) = \\frac{1}{2} H(X|Y = 1) + \\frac{1}{2} H(X| Y = -1)$ . \n",
    "\n",
    "Again we use the fact that $H(X|Y = 1) == H(X|Y = -1)$  \n",
    "\n",
    "So, $H(X|Y) = \\int_x \\mathcal N(1, 1)\\log \\mathcal N(1, 1) dx = 1.41894$  \n",
    "\n",
    "So $I(X, Y) = .33683$. $H(Y|X) = .356316$"
   ]
  },
  {
   "cell_type": "markdown",
   "metadata": {},
   "source": [
    "In general, we need to approximate the parameters of the distributions of X and Y.\n",
    "For distribution of Y, Y is just Bernoulli (multinomial if k sample). So the MLE estimate of p hat is just n/N, where n is number of 1's. "
   ]
  },
  {
   "cell_type": "code",
   "execution_count": 22,
   "metadata": {},
   "outputs": [],
   "source": [
    "def estimate_p(y):\n",
    "    return y.count(1)/len(y)"
   ]
  },
  {
   "cell_type": "code",
   "execution_count": 3,
   "metadata": {},
   "outputs": [
    {
     "data": {
      "text/plain": [
       "0.5"
      ]
     },
     "execution_count": 3,
     "metadata": {},
     "output_type": "execute_result"
    }
   ],
   "source": [
    "X, y = get_sample(100, 1, 1)\n",
    "X = np.array(X).reshape(-1, 1)\n",
    "estimate_p(y)"
   ]
  },
  {
   "cell_type": "markdown",
   "metadata": {},
   "source": [
    "For distribution of X (sum of 2 gaussians), we can get the parameters using Gaussian Mixture Model. We can change the covariance_type for the continuous case later."
   ]
  },
  {
   "cell_type": "code",
   "execution_count": 58,
   "metadata": {},
   "outputs": [
    {
     "data": {
      "text/plain": [
       "(array([[ 1.03177388],\n",
       "        [-1.03699767]]), array([[[0.93437822]],\n",
       " \n",
       "        [[0.9282904 ]]]))"
      ]
     },
     "execution_count": 58,
     "metadata": {},
     "output_type": "execute_result"
    }
   ],
   "source": [
    "from sklearn import mixture\n",
    "\n",
    "def estimate_x_params(X):\n",
    "    model = mixture.GaussianMixture(n_components = 2, covariance_type = \"full\")\n",
    "    model.fit(X)\n",
    "    return model.means_, model.covariances_\n",
    "    \n",
    "estimate_x_params(X)"
   ]
  },
  {
   "cell_type": "markdown",
   "metadata": {},
   "source": [
    "Now, for our plug in estimator, we use the following equation:  \n",
    "$\\theta(Y, X) = H(Y) - H(X) - H(X|Y)  = H(Y) - I(X, Y) = H(Y|X)$  \n",
    "So, our estimator is \n",
    "$\\theta(\\hat Y, \\hat X) = H(\\hat Y) - H(\\hat X) + H(\\hat X| \\hat Y)$  \n",
    "X and Y denote the true distributions. $\\hat X, \\hat Y$ denote the distributions with estimated parameters. Sorry for crappy notation right now.\n",
    "\n",
    "To solve this, we require numerial integration solver and then just follow the math from above."
   ]
  },
  {
   "cell_type": "code",
   "execution_count": 91,
   "metadata": {},
   "outputs": [
    {
     "name": "stdout",
     "output_type": "stream",
     "text": [
      "(1.418938533204673, 2.8208079448643897e-10)\n",
      "(1.7557693535515035, 1.428584327545427e-08)\n"
     ]
    }
   ],
   "source": [
    "import scipy.integrate as integrate\n",
    "import math\n",
    "\n",
    "def normal_entropy(t, mean, var):\n",
    "    return -1/(2*math.pi*var)**(1/2)*np.exp(-1/(2*var)*(t - mean)**2)*np.log(1/(2*math.pi*var)**(1/2)*np.exp(-1/(2*var)*(t - mean)**2))\n",
    "\n",
    "def two_mixture_normals_entropy(t, mean_1, mean_2, var_1, var_2):\n",
    "    return .5*-1/(2*math.pi*var_1)**(1/2)*np.exp(-1/(2*var_1)*(t - mean_1)**2)*np.log(1/(2*math.pi*var_1)**(1/2)*np.exp(-1/(2*var_1)*(t - mean_1)**2)*.5 + 1/(2*math.pi*var_2)**(1/2)*np.exp(-1/(2*var_2)*(t - mean_2)**2)*.5) + \\\n",
    "            .5*-1/(2*math.pi*var_2)**(1/2)*np.exp(-1/(2*var_2)*(t - mean_2)**2)*np.log(1/(2*math.pi*var_1)**(1/2)*np.exp(-1/(2*var_1)*(t - mean_1)**2)*.5 + 1/(2*math.pi*var_2)**(1/2)*np.exp(-1/(2*var_2)*(t - mean_2)**2)*.5)\n",
    "\n",
    "print(integrate.quad(normal_entropy, -10, 10, args = (0, 1)))\n",
    "print(integrate.quad(two_mixture_normals_entropy, -10, 10, args = (1, -1, 1, 1)))\n",
    "#NOTE: this doesn't work for mean = 0\n",
    "def plugin_estimate_cat_1D(X, y):\n",
    "    y_param = estimate_p(y)\n",
    "    x_params = estimate_x_params(X)\n",
    "    print(x_params)\n",
    "    h_y = -y_param*np.log(y_param) - (1 - y_param)*np.log(1 - y_param)\n",
    "    h_x_cond_y = integrate.quad(normal_entropy, -20, 20, args = (x_params[0][0], x_params[1][0].item()))[0]*.5 + \\\n",
    "    integrate.quad(normal_entropy, -20, 20, args = (x_params[0][1], x_params[1][1].item()))[0]*.5\n",
    "    h_x = integrate.quad(two_mixture_normals_entropy, -20, 20, args = (x_params[0][0], x_params[0][1], x_params[1][0].item(), x_params[1][1].item()))[0]\n",
    "    print(h_x_cond_y)\n",
    "    print(h_x)\n",
    "    return h_y - h_x + h_x_cond_y\n",
    "\n"
   ]
  },
  {
   "cell_type": "code",
   "execution_count": 89,
   "metadata": {},
   "outputs": [
    {
     "name": "stdout",
     "output_type": "stream",
     "text": [
      "(1.418938533204673, 2.8208079448643897e-10)\n",
      "(1.7557693535515047, 1.735904453397287e-12)\n"
     ]
    }
   ],
   "source": [
    "from scipy.stats import norm\n",
    "from scipy.stats import multivariate_normal\n",
    "\n",
    "def normal_entropy(t, mean, var):\n",
    "    return -norm.pdf(t, mean, var)*np.log(norm.pdf(t, mean, var))\n",
    "\n",
    "def two_mixture_normals_entropy(t, mean_1, mean_2, var_1, var_2):\n",
    "    return -.5*norm.pdf(t, mean_1, var_1)*np.log(.5*norm.pdf(t, mean_1, var_1) + .5*norm.pdf(t, mean_2, var_2)) - .5*norm.pdf(t, mean_1, var_1)*np.log(.5*norm.pdf(t, mean_1, var_1) + .5*norm.pdf(t, mean_2, var_2))\n",
    "\n",
    "print(integrate.quad(normal_entropy, -10, 10, args = (0, 1)))\n",
    "print(integrate.quad(two_mixture_normals_entropy, -10, 10, args = (1, -1, 1, 1)))\n",
    "\n",
    "#NOTE: this doesn't work for mean = 0\n",
    "def plugin_estimate_cat_1D(X, y):\n",
    "    y_param = estimate_p(y)\n",
    "    x_params = estimate_x_params(X)\n",
    "    h_y = -y_param*np.log(y_param) - (1 - y_param)*np.log(1 - y_param)\n",
    "    h_x_cond_y = integrate.quad(normal_entropy, -20, 20, args = (x_params[0][0], x_params[1][0].item()))[0]*.5 + \\\n",
    "    integrate.quad(normal_entropy, -20, 20, args = (x_params[0][1], x_params[1][1].item()))[0]*.5\n",
    "    h_x = integrate.quad(two_mixture_normals_entropy, -20, 20, args = (x_params[0][0], x_params[0][1], x_params[1][0].item(), x_params[1][1].item()))[0]\n",
    "    print(h_x)\n",
    "\n",
    "    return h_y - h_x + h_x_cond_y\n"
   ]
  },
  {
   "cell_type": "code",
   "execution_count": 92,
   "metadata": {},
   "outputs": [
    {
     "name": "stdout",
     "output_type": "stream",
     "text": [
      "(array([[ 1.02319377],\n",
      "       [-1.04670094]]), array([[[0.93483427]],\n",
      "\n",
      "       [[0.927682  ]]]))\n",
      "1.3833254596975397\n",
      "1.7522062153558302\n"
     ]
    },
    {
     "data": {
      "text/plain": [
       "0.3242571798731646"
      ]
     },
     "execution_count": 92,
     "metadata": {},
     "output_type": "execute_result"
    }
   ],
   "source": [
    "X, y = get_sample(100000, 1, 1)\n",
    "X = np.array(X).reshape(-1, 1)\n",
    "plugin_estimate_cat_1D(X, y)"
   ]
  },
  {
   "cell_type": "markdown",
   "metadata": {},
   "source": [
    "## Multivariate Case:"
   ]
  },
  {
   "cell_type": "code",
   "execution_count": 77,
   "metadata": {},
   "outputs": [
    {
     "data": {
      "image/png": "[encoded data removed]",
      "text/plain": [
       "<Figure size 432x288 with 1 Axes>"
      ]
     },
     "metadata": {},
     "output_type": "display_data"
    }
   ],
   "source": [
    "import numpy as np\n",
    "\n",
    "def get_multivariate_sample(n, d, mean):\n",
    "    x_sample = []\n",
    "    y_sample = []\n",
    "    means = np.zeros(d)\n",
    "    means[0] = mean\n",
    "    for i in range(n):\n",
    "        y = np.random.binomial(1, .5)\n",
    "        if (y == 0):\n",
    "            x = np.random.multivariate_normal(-means, np.identity(d))\n",
    "        else:\n",
    "            x = np.random.multivariate_normal(means, np.identity(d))\n",
    "        x_sample.append(x.tolist())\n",
    "        y_sample.append(y)\n",
    "    return x_sample, y_sample\n",
    "\n",
    "import matplotlib.pyplot as plt\n",
    "\n",
    "def split_by_class(sample):\n",
    "    y_one = [pair for pair in sample if pair[1] == 1]\n",
    "    y_neg_one = [pair for pair in sample if pair[1] == 0]\n",
    "    return y_one, y_neg_one\n",
    "\n",
    "X, y = get_multivariate_sample(100, 2, 2)\n",
    "sample = list(zip(X, y))\n",
    "class_one, class_neg_one = split_by_class(sample)\n",
    "plt.scatter([x[0] for x in list(zip(*class_one))[0]], [x[1] for x in list(zip(*class_one))[0]], c = 'b')\n",
    "plt.scatter([x[0] for x in list(zip(*class_neg_one))[0]], [x[1] for x in list(zip(*class_neg_one))[0]], c = 'orange')\n",
    "plt.title(\"Distribution Plot with Mean = 2\")\n",
    "plt.show()"
   ]
  },
  {
   "cell_type": "code",
   "execution_count": 94,
   "metadata": {},
   "outputs": [
    {
     "data": {
      "text/plain": [
       "(array([[-1.20893306,  0.10598958],\n",
       "        [ 0.96040259, -0.25580191]]), array([[[0.94780378, 0.0018655 ],\n",
       "         [0.0018655 , 0.75598391]],\n",
       " \n",
       "        [[0.73057425, 0.12261376],\n",
       "         [0.12261376, 0.97094497]]]))"
      ]
     },
     "execution_count": 94,
     "metadata": {},
     "output_type": "execute_result"
    }
   ],
   "source": [
    "X, y = get_multivariate_sample(100, 2, 1)\n",
    "estimate_x_params(X)"
   ]
  },
  {
   "cell_type": "code",
   "execution_count": 97,
   "metadata": {},
   "outputs": [
    {
     "ename": "TypeError",
     "evalue": "multi_normal_entropy() missing 1 required positional argument: 'covar'",
     "output_type": "error",
     "traceback": [
      "\u001b[0;31m---------------------------------------------------------------------------\u001b[0m",
      "\u001b[0;31mTypeError\u001b[0m                                 Traceback (most recent call last)",
      "\u001b[0;32m<ipython-input-97-6544bf81c13d>\u001b[0m in \u001b[0;36m<module>\u001b[0;34m()\u001b[0m\n\u001b[1;32m      2\u001b[0m     \u001b[0;32mreturn\u001b[0m \u001b[0mmultivariate_normal\u001b[0m\u001b[0;34m.\u001b[0m\u001b[0mpdf\u001b[0m\u001b[0;34m(\u001b[0m\u001b[0mt\u001b[0m\u001b[0;34m,\u001b[0m \u001b[0mmean\u001b[0m\u001b[0;34m,\u001b[0m \u001b[0mcov\u001b[0m \u001b[0;34m=\u001b[0m \u001b[0mcovar\u001b[0m\u001b[0;34m)\u001b[0m\u001b[0;34m*\u001b[0m\u001b[0mnp\u001b[0m\u001b[0;34m.\u001b[0m\u001b[0mlog\u001b[0m\u001b[0;34m(\u001b[0m\u001b[0mmultivariate_normal\u001b[0m\u001b[0;34m.\u001b[0m\u001b[0mpdf\u001b[0m\u001b[0;34m(\u001b[0m\u001b[0mt\u001b[0m\u001b[0;34m,\u001b[0m \u001b[0mmean\u001b[0m\u001b[0;34m,\u001b[0m\u001b[0mcov\u001b[0m \u001b[0;34m=\u001b[0m \u001b[0mcovar\u001b[0m\u001b[0;34m)\u001b[0m\u001b[0;34m)\u001b[0m\u001b[0;34m\u001b[0m\u001b[0m\n\u001b[1;32m      3\u001b[0m \u001b[0;34m\u001b[0m\u001b[0m\n\u001b[0;32m----> 4\u001b[0;31m \u001b[0mmulti_normal_entropy\u001b[0m\u001b[0;34m(\u001b[0m\u001b[0;34m[\u001b[0m\u001b[0;36m0\u001b[0m\u001b[0;34m,\u001b[0m \u001b[0;36m0\u001b[0m\u001b[0;34m]\u001b[0m\u001b[0;34m,\u001b[0m \u001b[0mnp\u001b[0m\u001b[0;34m.\u001b[0m\u001b[0marray\u001b[0m\u001b[0;34m(\u001b[0m\u001b[0;34m[\u001b[0m\u001b[0;34m[\u001b[0m\u001b[0;36m1\u001b[0m\u001b[0;34m,\u001b[0m \u001b[0;36m0\u001b[0m\u001b[0;34m]\u001b[0m\u001b[0;34m,\u001b[0m \u001b[0;34m[\u001b[0m\u001b[0;36m0\u001b[0m\u001b[0;34m,\u001b[0m \u001b[0;36m1\u001b[0m\u001b[0;34m]\u001b[0m\u001b[0;34m]\u001b[0m\u001b[0;34m)\u001b[0m\u001b[0;34m)\u001b[0m\u001b[0;34m\u001b[0m\u001b[0m\n\u001b[0m",
      "\u001b[0;31mTypeError\u001b[0m: multi_normal_entropy() missing 1 required positional argument: 'covar'"
     ]
    }
   ],
   "source": [
    "def multi_normal_entropy(t, mean, covar):\n",
    "    return multivariate_normal.pdf(t, mean, covar)*np.log(multivariate_normal.pdf(t, mean, covar))\n",
    "\n"
   ]
  },
  {
   "cell_type": "code",
   "execution_count": null,
   "metadata": {},
   "outputs": [],
   "source": []
  }
 ],
 "metadata": {
  "kernelspec": {
   "display_name": "Python 3",
   "language": "python",
   "name": "python3"
  },
  "language_info": {
   "codemirror_mode": {
    "name": "ipython",
    "version": 3
   },
   "file_extension": ".py",
   "mimetype": "text/x-python",
   "name": "python",
   "nbconvert_exporter": "python",
   "pygments_lexer": "ipython3",
   "version": "3.7.0"
  }
 },
 "nbformat": 4,
 "nbformat_minor": 2
}
