{
 "cells": [
  {
   "cell_type": "markdown",
   "metadata": {},
   "source": [
    "# Plugin Estimator\n",
    "This notebook we write code for a method to benchmark our random forest estimate against.\n",
    "We will be using the plugin estimator where we measure the parameters assuming we already know the distributions of X and Y.\n",
    "\n",
    "## Sampling Code"
   ]
  },
  {
   "cell_type": "code",
   "execution_count": 6,
   "metadata": {},
   "outputs": [
    {
     "data": {
      "image/png": "[encoded data removed]",
      "text/plain": [
       "<Figure size 432x288 with 1 Axes>"
      ]
     },
     "metadata": {},
     "output_type": "display_data"
    }
   ],
   "source": [
    "import numpy as np\n",
    "%matplotlib inline\n",
    "# NOTE: we are storing y's as 1's or 0's but still doing the mean stuff correctly\n",
    "def get_sample(n, mean, var):\n",
    "    x_sample = []\n",
    "    y_sample = []\n",
    "    for i in range(n):\n",
    "        y = np.random.binomial(1, .5)\n",
    "        if (y == 0):\n",
    "            x = np.random.normal(-mean, var)\n",
    "        else:\n",
    "            x = np.random.normal(mean, var)\n",
    "        x_sample.append(x)\n",
    "        y_sample.append(y)\n",
    "    return x_sample, y_sample\n",
    "\n",
    "import seaborn as sns\n",
    "import matplotlib.pyplot as plt\n",
    "sns.set(font_scale=1.3)\n",
    "\n",
    "def split_by_class(sample):\n",
    "    y_one = [pair for pair in sample if pair[1] == 1]\n",
    "    y_neg_one = [pair for pair in sample if pair[1] == 0]\n",
    "    return y_one, y_neg_one\n",
    "\n",
    "X, y = get_sample(100, 2, 1)\n",
    "sample = list(zip(X, y))\n",
    "class_one, class_neg_one = split_by_class(sample)\n",
    "sns.distplot(list(zip(*class_one))[0], hist=False, rug=True)\n",
    "sns.distplot(list(zip(*class_neg_one))[0], hist=False, rug=True)\n",
    "plt.title(\"Distribution Plot with Mean = 2\")\n",
    "plt.show()"
   ]
  },
  {
   "cell_type": "markdown",
   "metadata": {},
   "source": [
    "We copy below the math needed to solve for H(Y|X) below:\n",
    "    \n",
    "We will do the same math as above to calculate the true conditional entropy when $\\mu = 1$. The math is actually very clean! $H(Y)$ is still the same.\n",
    "\n",
    "$H(X) = -\\int_x (\\frac{1}{2}\\mathcal N(1, 1) + \\frac{1}{2}\\mathcal N(-1, 1))\\log (\\frac{1}{2}\\mathcal N(1, 1) + \\frac{1}{2}\\mathcal N(-1, 1)) dx$  \n",
    "\n",
    "This is messy... BUT notice that $\\mathcal N(1, 1)$ and $\\mathcal N(-1, 1)$ are just mirrors of each other! Besides the different means, the distributions are completely the same. So if we distribute the first summation we should get two identical \"entropies\"! (I did this numerically in wolfram alpha as well just to make sure).  \n",
    "\n",
    "$H(X) = -2(\\int_x \\frac{1}{2}\\mathcal N(1, 1) log (\\frac{1}{2}\\mathcal N(1, 1) + \\frac{1}{2}\\mathcal N(-1, 1))dx = 1.75577$  \n",
    "\n",
    "Now for $H(X|Y)$ . \n",
    "\n",
    "$H(X|Y) = \\frac{1}{2} H(X|Y = 1) + \\frac{1}{2} H(X| Y = -1)$ . \n",
    "\n",
    "Again we use the fact that $H(X|Y = 1) == H(X|Y = -1)$  \n",
    "\n",
    "So, $H(X|Y) = \\int_x \\mathcal N(1, 1)\\log \\mathcal N(1, 1) dx = 1.41894$  \n",
    "\n",
    "So $I(X, Y) = .33683$. $H(Y|X) = .356316$"
   ]
  },
  {
   "cell_type": "markdown",
   "metadata": {},
   "source": [
    "In general, we need to approximate the parameters of the distributions of X and Y.\n",
    "For distribution of Y, Y is just Bernoulli (multinomial if k sample). So the MLE estimate of p hat is just n/N, where n is number of 1's. "
   ]
  },
  {
   "cell_type": "code",
   "execution_count": 7,
   "metadata": {},
   "outputs": [],
   "source": [
    "def estimate_p(y):\n",
    "    return y.count(1)/len(y)"
   ]
  },
  {
   "cell_type": "code",
   "execution_count": 8,
   "metadata": {},
   "outputs": [
    {
     "data": {
      "text/plain": [
       "0.492"
      ]
     },
     "execution_count": 8,
     "metadata": {},
     "output_type": "execute_result"
    }
   ],
   "source": [
    "X, y = get_sample(1000, 1, 1)\n",
    "X = np.array(X).reshape(-1, 1)\n",
    "estimate_p(y)"
   ]
  },
  {
   "cell_type": "markdown",
   "metadata": {},
   "source": [
    "For distribution of X (sum of 2 gaussians), we can get the parameters using Gaussian Mixture Model. We can change the covariance_type for the continuous case later."
   ]
  },
  {
   "cell_type": "code",
   "execution_count": 9,
   "metadata": {},
   "outputs": [
    {
     "data": {
      "text/plain": [
       "(array([[ 0.60651298],\n",
       "        [-0.61055456]]), array([[[0.63213827]],\n",
       " \n",
       "        [[0.6256372 ]]]))"
      ]
     },
     "execution_count": 9,
     "metadata": {},
     "output_type": "execute_result"
    }
   ],
   "source": [
    "from sklearn import mixture\n",
    "X, y = get_sample(100000, 0, 1)\n",
    "X = np.array(X).reshape(-1, 1)\n",
    "def estimate_x_params(X):\n",
    "    model = mixture.GaussianMixture(n_components = 2, covariance_type = \"full\")\n",
    "    model.fit(X)\n",
    "    return model.means_, model.covariances_\n",
    "    \n",
    "estimate_x_params(X)"
   ]
  },
  {
   "cell_type": "markdown",
   "metadata": {},
   "source": [
    "## Now, for our plug in estimator, we use the following equation:  \n",
    "$\\theta(Y, X) = H(Y) - H(X) - H(X|Y)  = H(Y) - I(X, Y) = H(Y|X)$  \n",
    "So, our estimator is \n",
    "$\\theta(\\hat Y, \\hat X) = H(\\hat Y) - H(\\hat X) + H(\\hat X| \\hat Y)$  \n",
    "X and Y denote the true distributions. $\\hat X, \\hat Y$ denote the distributions with estimated parameters. Sorry for crappy notation right now.\n",
    "\n",
    "To solve this, we require numerial integration solver and then just follow the math from above."
   ]
  },
  {
   "cell_type": "code",
   "execution_count": 38,
   "metadata": {},
   "outputs": [
    {
     "name": "stdout",
     "output_type": "stream",
     "text": [
      "(1.418938533204673, 2.8208079448643897e-10)\n",
      "(1.7557693535515035, 1.428584327545427e-08)\n"
     ]
    }
   ],
   "source": [
    "import scipy.integrate as integrate\n",
    "import math\n",
    "\n",
    "def normal_entropy_f(t, mean, var):\n",
    "    return -1/(2*math.pi*var)**(1/2)*np.exp(-1/(2*var)*(t - mean)**2)*np.log(1/(2*math.pi*var)**(1/2)*np.exp(-1/(2*var)*(t - mean)**2))\n",
    "\n",
    "def two_mixture_normals_entropy(t, mean_1, mean_2, var_1, var_2):\n",
    "    return .5*-1/(2*math.pi*var_1)**(1/2)*np.exp(-1/(2*var_1)*(t - mean_1)**2)*np.log(1/(2*math.pi*var_1)**(1/2)*np.exp(-1/(2*var_1)*(t - mean_1)**2)*.5 + 1/(2*math.pi*var_2)**(1/2)*np.exp(-1/(2*var_2)*(t - mean_2)**2)*.5) + \\\n",
    "            .5*-1/(2*math.pi*var_2)**(1/2)*np.exp(-1/(2*var_2)*(t - mean_2)**2)*np.log(1/(2*math.pi*var_1)**(1/2)*np.exp(-1/(2*var_1)*(t - mean_1)**2)*.5 + 1/(2*math.pi*var_2)**(1/2)*np.exp(-1/(2*var_2)*(t - mean_2)**2)*.5)\n",
    "\n",
    "print(integrate.quad(normal_entropy_f, -10, 10, args = (0, 1)))\n",
    "print(integrate.quad(two_mixture_normals_entropy, -10, 10, args = (1, -1, 1, 1)))\n",
    "#NOTE: this doesn't work for mean = 0\n",
    "def plugin_estimate_cat_1D(X, y):\n",
    "    y_param = estimate_p(y)\n",
    "    x_params = estimate_x_params(X)\n",
    "    h_y = -y_param*np.log(y_param) - (1 - y_param)*np.log(1 - y_param)\n",
    "    h_x_cond_y = normal_entropy(x_params[1][0])*.5 + normal_entropy(x_params[1][1])*.5\n",
    "    h_x = integrate.quad(two_mixture_normals_entropy, -20, 20, args = (x_params[0][0], x_params[0][1], x_params[1][0].item(), x_params[1][1].item()))[0]\n",
    "\n",
    "    return h_y - h_x + h_x_cond_y\n",
    "\n"
   ]
  },
  {
   "cell_type": "code",
   "execution_count": 43,
   "metadata": {},
   "outputs": [
    {
     "name": "stdout",
     "output_type": "stream",
     "text": [
      "(1.418938533204673, 2.8208079448643897e-10)\n",
      "(1.7557693535515035, 1.428584327545427e-08)\n"
     ]
    }
   ],
   "source": [
    "from scipy.stats import norm\n",
    "from scipy.stats import multivariate_normal\n",
    "\n",
    "def normal_entropy_f(t, mean, var):\n",
    "    return -norm.pdf(t, mean, var)*np.log(norm.pdf(t, mean, var))\n",
    "\n",
    "def two_mixture_normals_entropy_f(t, mean_1, mean_2, var_1, var_2):\n",
    "    return -.5*norm.pdf(t, mean_1, var_1)*np.log(.5*norm.pdf(t, mean_1, var_1) + .5*norm.pdf(t, mean_2, var_2)) - .5*norm.pdf(t, mean_1, var_1)*np.log(.5*norm.pdf(t, mean_1, var_1) + .5*norm.pdf(t, mean_2, var_2))\n",
    "\n",
    "print(integrate.quad(normal_entropy_f, -10, 10, args = (0, 1)))\n",
    "print(integrate.quad(two_mixture_normals_entropy, -10, 10, args = (1, -1, 1, 1)))\n",
    "\n",
    "def normal_entropy(var):\n",
    "    return .5*np.log(2*math.pi*math.e*var)\n",
    "\n",
    "#NOTE: this doesn't work for mean = 0\n",
    "def plugin_estimate_cat_1D(X, y):\n",
    "    y_param = estimate_p(y)\n",
    "    x_params = estimate_x_params(X)\n",
    "    h_y = -y_param*np.log(y_param) - (1 - y_param)*np.log(1 - y_param)\n",
    "    #h_x_cond_y = integrate.quad(normal_entropy_f, -20, 20, args = (x_params[0][0], x_params[1][0].item()))[0]*.5 + \\\n",
    "    #integrate.quad(normal_entropy_f, -20, 20, args = (x_params[0][1], x_params[1][1].item()))[0]*.5\n",
    "    h_x_cond_y = normal_entropy(x_params[1][0])*.5 + normal_entropy(x_params[1][1])*.5\n",
    "    h_x = integrate.quad(two_mixture_normals_entropy_f, -20, 20, args = (x_params[0][0], x_params[0][1], x_params[1][0].item(), x_params[1][1].item()))[0]\n",
    "    return h_y - h_x + h_x_cond_y\n"
   ]
  },
  {
   "cell_type": "code",
   "execution_count": 41,
   "metadata": {},
   "outputs": [
    {
     "name": "stdout",
     "output_type": "stream",
     "text": [
      "(array([[-1.00897678],\n",
      "       [ 1.05831844]]), array([[[0.94895086]],\n",
      "\n",
      "       [[0.90439195]]]))\n"
     ]
    },
    {
     "data": {
      "text/plain": [
       "array([[0.32401493]])"
      ]
     },
     "execution_count": 41,
     "metadata": {},
     "output_type": "execute_result"
    }
   ],
   "source": [
    "X, y = get_sample(10000, 1, 1)\n",
    "X = np.array(X).reshape(-1, 1)\n",
    "plugin_estimate_cat_1D(X, y)"
   ]
  },
  {
   "cell_type": "markdown",
   "metadata": {},
   "source": [
    "## Multivariate Case:"
   ]
  },
  {
   "cell_type": "code",
   "execution_count": 13,
   "metadata": {},
   "outputs": [
    {
     "data": {
      "image/png": "[encoded data removed]",
      "text/plain": [
       "<Figure size 432x288 with 1 Axes>"
      ]
     },
     "metadata": {},
     "output_type": "display_data"
    }
   ],
   "source": [
    "import numpy as np\n",
    "\n",
    "def get_multivariate_sample(n, d, mean):\n",
    "    x_sample = []\n",
    "    y_sample = []\n",
    "    means = np.zeros(d)\n",
    "    means[0] = mean\n",
    "    for i in range(n):\n",
    "        y = np.random.binomial(1, .5)\n",
    "        if (y == 0):\n",
    "            x = np.random.multivariate_normal(-means, np.identity(d))\n",
    "        else:\n",
    "            x = np.random.multivariate_normal(means, np.identity(d))\n",
    "        x_sample.append(x.tolist())\n",
    "        y_sample.append(y)\n",
    "    return x_sample, y_sample\n",
    "\n",
    "import matplotlib.pyplot as plt\n",
    "\n",
    "def split_by_class(sample):\n",
    "    y_one = [pair for pair in sample if pair[1] == 1]\n",
    "    y_neg_one = [pair for pair in sample if pair[1] == 0]\n",
    "    return y_one, y_neg_one\n",
    "\n",
    "X, y = get_multivariate_sample(100, 2, 2)\n",
    "sample = list(zip(X, y))\n",
    "class_one, class_neg_one = split_by_class(sample)\n",
    "plt.scatter([x[0] for x in list(zip(*class_one))[0]], [x[1] for x in list(zip(*class_one))[0]], c = 'b')\n",
    "plt.scatter([x[0] for x in list(zip(*class_neg_one))[0]], [x[1] for x in list(zip(*class_neg_one))[0]], c = 'orange')\n",
    "plt.title(\"Distribution Plot with Mean = 2\")\n",
    "plt.show()"
   ]
  },
  {
   "cell_type": "code",
   "execution_count": 14,
   "metadata": {},
   "outputs": [
    {
     "data": {
      "text/plain": [
       "(array([[-0.22476723,  0.98306512],\n",
       "        [-0.18649446, -0.38599267]]), array([[[ 1.57082944, -0.01301811],\n",
       "         [-0.01301811,  0.77251205]],\n",
       " \n",
       "        [[ 1.56240101,  0.01635323],\n",
       "         [ 0.01635323,  0.47795426]]]))"
      ]
     },
     "execution_count": 14,
     "metadata": {},
     "output_type": "execute_result"
    }
   ],
   "source": [
    "X, y = get_multivariate_sample(100, 2, 1)\n",
    "estimate_x_params(X)"
   ]
  },
  {
   "cell_type": "code",
   "execution_count": 15,
   "metadata": {},
   "outputs": [],
   "source": [
    "#def multi_normal_entropy(x1, x2, mean, covar):\n",
    "#    return multivariate_normal.pdf([x1,x2], mean, covar)*np.log(multivariate_normal.pdf([x1,x2], mean, covar))\n",
    "\n",
    "#integrate.nquad(multi_normal_entropy, [[-20, 20], [-20, 20]], args = (0, np.identity(2)))\n",
    "\n",
    "def multivariate_normal_entropy(covar):\n",
    "    covar = np.array(covar)\n",
    "    dim = covar.shape[-1]\n",
    "    return multivariate_normal(np.zeros(dim), covar).entropy()\n",
    "\n",
    "def two_mixture_multivariate_normal_entropy_f(t1, t2, t3, t4, mean_1, mean_2, covar_1, covar_2):\n",
    "    t = (t1, t2, t3, t4)\n",
    "    return -.5*multivariate_normal.pdf(t, mean_1, covar_1)*np.log(.5*multivariate_normal.pdf(t, mean_1, covar_1) + .5*multivariate_normal.pdf(t, mean_2, covar_2)) - .5*multivariate_normal.pdf(t, mean_1, covar_1)*np.log(.5*multivariate_normal.pdf(t, mean_1, covar_1) + .5*multivariate_normal.pdf(t, mean_2, covar_2))\n",
    "\n",
    "def two_mixture_multivariate_normal_entropy(mean_1, mean_2, covar_1, covar_2):\n",
    "    dim = 1\n",
    "    # to handle dimension errors\n",
    "    try:\n",
    "        dim = len(mean_1)\n",
    "    except TypeError:\n",
    "        pass\n",
    "    bounds = [[-5, 5] for _ in range(dim)]\n",
    "    return integrate.nquad(two_mixture_multivariate_normal_entropy_f, bounds, args = [mean_1, mean_2, covar_1, covar_2])\n",
    "\n",
    "def plugin_estimate_cat_multi(X, y):\n",
    "    y_param = estimate_p(y)\n",
    "    x_params = estimate_x_params(X)\n",
    "    print(\"integrating\")\n",
    "    h_y = -y_param*np.log(y_param) - (1 - y_param)*np.log(1 - y_param)\n",
    "    h_x_cond_y = multivariate_normal_entropy(x_params[1][0])*.5 + multivariate_normal_entropy(x_params[1][1])*.5\n",
    "    h_x = two_mixture_multivariate_normal_entropy(x_params[0][0], x_params[0][1], x_params[1][0], x_params[1][1])\n",
    "    return h_y - h_x + h_x_cond_y"
   ]
  },
  {
   "cell_type": "code",
   "execution_count": 11,
   "metadata": {},
   "outputs": [
    {
     "name": "stdout",
     "output_type": "stream",
     "text": [
      "integrating\n"
     ]
    },
    {
     "data": {
      "text/plain": [
       "array([0.29961871, 6.3508492 ])"
      ]
     },
     "execution_count": 11,
     "metadata": {},
     "output_type": "execute_result"
    }
   ],
   "source": [
    "X, y = get_multivariate_sample(10000, 4, 1)\n",
    "estimate_x_params(X)\n",
    "plugin_estimate_cat_multi(X, y)"
   ]
  },
  {
   "cell_type": "code",
   "execution_count": null,
   "metadata": {},
   "outputs": [
    {
     "name": "stdout",
     "output_type": "stream",
     "text": [
      "integrating\n"
     ]
    }
   ],
   "source": [
    "#def multi_normal_entropy(x1, x2, mean, covar):\n",
    "#    return multivariate_normal.pdf([x1,x2], mean, covar)*np.log(multivariate_normal.pdf([x1,x2], mean, covar))\n",
    "\n",
    "#integrate.nquad(multi_normal_entropy, [[-20, 20], [-20, 20]], args = (0, np.identity(2)))\n",
    "\n",
    "def multivariate_normal_entropy(covar):\n",
    "    covar = np.array(covar)\n",
    "    dim = covar.shape[-1]\n",
    "    return multivariate_normal(np.zeros(dim), covar).entropy()\n",
    "\n",
    "def two_mixture_multivariate_normal_entropy_f(t1, t2, t3, t4, t5, mean_1, mean_2, covar_1, covar_2):\n",
    "    t = (t1, t2, t3, t4, t5)\n",
    "    return -.5*multivariate_normal.pdf(t, mean_1, covar_1)*np.log(.5*multivariate_normal.pdf(t, mean_1, covar_1) + .5*multivariate_normal.pdf(t, mean_2, covar_2)) - .5*multivariate_normal.pdf(t, mean_1, covar_1)*np.log(.5*multivariate_normal.pdf(t, mean_1, covar_1) + .5*multivariate_normal.pdf(t, mean_2, covar_2))\n",
    "\n",
    "def two_mixture_multivariate_normal_entropy(mean_1, mean_2, covar_1, covar_2):\n",
    "    dim = 1\n",
    "    # to handle dimension errors\n",
    "    try:\n",
    "        dim = len(mean_1)\n",
    "    except TypeError:\n",
    "        pass\n",
    "    bounds = [[-5, 5] for _ in range(dim)]\n",
    "    return integrate.nquad(two_mixture_multivariate_normal_entropy_f, bounds, args = [mean_1, mean_2, covar_1, covar_2])\n",
    "\n",
    "def plugin_estimate_cat_multi(X, y):\n",
    "    y_param = estimate_p(y)\n",
    "    x_params = estimate_x_params(X)\n",
    "    print(\"integrating\")\n",
    "    h_y = -y_param*np.log(y_param) - (1 - y_param)*np.log(1 - y_param)\n",
    "    h_x_cond_y = multivariate_normal_entropy(x_params[1][0])*.5 + multivariate_normal_entropy(x_params[1][1])*.5\n",
    "    h_x = two_mixture_multivariate_normal_entropy(x_params[0][0], x_params[0][1], x_params[1][0], x_params[1][1])\n",
    "    return h_y - h_x + h_x_cond_y\n",
    "\n",
    "X, y = get_multivariate_sample(10000, 5, 1)\n",
    "estimate_x_params(X)\n",
    "plugin_estimate_cat_multi(X, y)"
   ]
  },
  {
   "cell_type": "code",
   "execution_count": null,
   "metadata": {},
   "outputs": [],
   "source": [
    "#def multi_normal_entropy(x1, x2, mean, covar):\n",
    "#    return multivariate_normal.pdf([x1,x2], mean, covar)*np.log(multivariate_normal.pdf([x1,x2], mean, covar))\n",
    "\n",
    "#integrate.nquad(multi_normal_entropy, [[-20, 20], [-20, 20]], args = (0, np.identity(2)))\n",
    "\n",
    "def multivariate_normal_entropy(covar):\n",
    "    covar = np.array(covar)\n",
    "    dim = covar.shape[-1]\n",
    "    return multivariate_normal(np.zeros(dim), covar).entropy()\n",
    "\n",
    "def two_mixture_multivariate_normal_entropy_f(t1, t2, t3, t4, t5, t6, t7, t8, mean_1, mean_2, covar_1, covar_2):\n",
    "    t = (t1, t2, t3, t4, t5, t6, t7, t8)\n",
    "    return -.5*multivariate_normal.pdf(t, mean_1, covar_1)*np.log(.5*multivariate_normal.pdf(t, mean_1, covar_1) + .5*multivariate_normal.pdf(t, mean_2, covar_2)) - .5*multivariate_normal.pdf(t, mean_1, covar_1)*np.log(.5*multivariate_normal.pdf(t, mean_1, covar_1) + .5*multivariate_normal.pdf(t, mean_2, covar_2))\n",
    "\n",
    "def two_mixture_multivariate_normal_entropy(mean_1, mean_2, covar_1, covar_2):\n",
    "    dim = 1\n",
    "    # to handle dimension errors\n",
    "    try:\n",
    "        dim = len(mean_1)\n",
    "    except TypeError:\n",
    "        pass\n",
    "    bounds = [[-5, 5] for _ in range(dim)]\n",
    "    return integrate.nquad(two_mixture_multivariate_normal_entropy_f, bounds, args = [mean_1, mean_2, covar_1, covar_2])\n",
    "\n",
    "def plugin_estimate_cat_multi(X, y):\n",
    "    y_param = estimate_p(y)\n",
    "    x_params = estimate_x_params(X)\n",
    "    print(\"integrating\")\n",
    "    h_y = -y_param*np.log(y_param) - (1 - y_param)*np.log(1 - y_param)\n",
    "    h_x_cond_y = multivariate_normal_entropy(x_params[1][0])*.5 + multivariate_normal_entropy(x_params[1][1])*.5\n",
    "    h_x = two_mixture_multivariate_normal_entropy(x_params[0][0], x_params[0][1], x_params[1][0], x_params[1][1])\n",
    "    return h_y - h_x + h_x_cond_y\n",
    "\n",
    "X, y = get_multivariate_sample(10000, 8, 1)\n",
    "estimate_x_params(X)\n",
    "plugin_estimate_cat_multi(X, y)"
   ]
  },
  {
   "cell_type": "code",
   "execution_count": 35,
   "metadata": {},
   "outputs": [
    {
     "name": "stdout",
     "output_type": "stream",
     "text": [
      "integrating\n"
     ]
    },
    {
     "data": {
      "text/plain": [
       "array([0.32172777, 3.48004234])"
      ]
     },
     "execution_count": 35,
     "metadata": {},
     "output_type": "execute_result"
    }
   ],
   "source": [
    "#def multi_normal_entropy(x1, x2, mean, covar):\n",
    "#    return multivariate_normal.pdf([x1,x2], mean, covar)*np.log(multivariate_normal.pdf([x1,x2], mean, covar))\n",
    "\n",
    "#integrate.nquad(multi_normal_entropy, [[-20, 20], [-20, 20]], args = (0, np.identity(2)))\n",
    "\n",
    "def multivariate_normal_entropy(covar):\n",
    "    covar = np.array(covar)\n",
    "    dim = covar.shape[-1]\n",
    "    return multivariate_normal(np.zeros(dim), covar).entropy()\n",
    "\n",
    "def two_mixture_multivariate_normal_entropy_f(t1, t2, mean_1, mean_2, covar_1, covar_2):\n",
    "    t = (t1, t2)\n",
    "    return -.5*multivariate_normal.pdf(t, mean_1, covar_1)*np.log(.5*multivariate_normal.pdf(t, mean_1, covar_1) + .5*multivariate_normal.pdf(t, mean_2, covar_2)) - .5*multivariate_normal.pdf(t, mean_2, covar_2)*np.log(.5*multivariate_normal.pdf(t, mean_1, covar_1) + .5*multivariate_normal.pdf(t, mean_2, covar_2))\n",
    "\n",
    "def two_mixture_multivariate_normal_entropy(mean_1, mean_2, covar_1, covar_2):\n",
    "    dim = 1\n",
    "    # to handle dimension errors\n",
    "    try:\n",
    "        dim = len(mean_1)\n",
    "    except TypeError:\n",
    "        pass\n",
    "    bounds = [[-10, 10] for _ in range(dim)]\n",
    "    return integrate.nquad(two_mixture_multivariate_normal_entropy_f, bounds, args = [mean_1, mean_2, covar_1, covar_2])\n",
    "\n",
    "def plugin_estimate_cat_multi(X, y):\n",
    "    y_param = estimate_p(y)\n",
    "    x_params = estimate_x_params(X)\n",
    "    print(\"integrating\")\n",
    "    h_y = -y_param*np.log(y_param) - (1 - y_param)*np.log(1 - y_param)\n",
    "    h_x_cond_y = multivariate_normal_entropy(x_params[1][0])*.5 + multivariate_normal_entropy(x_params[1][1])*.5\n",
    "    h_x = two_mixture_multivariate_normal_entropy(x_params[0][0], x_params[0][1], x_params[1][0], x_params[1][1])\n",
    "    return h_y - h_x + h_x_cond_y\n",
    "\n",
    "X, y = get_multivariate_sample(10000, 2, 1)\n",
    "estimate_x_params(X)\n",
    "plugin_estimate_cat_multi(X, y)"
   ]
  },
  {
   "cell_type": "code",
   "execution_count": 36,
   "metadata": {},
   "outputs": [
    {
     "name": "stderr",
     "output_type": "stream",
     "text": [
      "/usr/local/lib/python3.7/site-packages/sklearn/ensemble/weight_boosting.py:29: DeprecationWarning: numpy.core.umath_tests is an internal NumPy module and should not be imported. It will be removed in a future NumPy release.\n",
      "  from numpy.core.umath_tests import inner1d\n"
     ]
    },
    {
     "data": {
      "text/plain": [
       "0.6826752373237107"
      ]
     },
     "execution_count": 36,
     "metadata": {},
     "output_type": "execute_result"
    }
   ],
   "source": [
    "from sklearn.ensemble.forest import _generate_unsampled_indices\n",
    "from sklearn.ensemble import BaggingClassifier\n",
    "from sklearn.tree import DecisionTreeClassifier\n",
    "\n",
    "X, y = get_sample(1000, 0, 1)\n",
    "X = np.array(X).reshape(-1, 1)\n",
    "\n",
    "def rf_entropy_estimate_bagging(X, y, n_estimators = 200, max_samples = .32, bootstrap = True, depth = 30, min_samples_leaf = 1):\n",
    "    model = BaggingClassifier(DecisionTreeClassifier(max_depth = depth, min_samples_leaf = min_samples_leaf), \n",
    "                              n_estimators = n_estimators, \n",
    "                              max_samples= max_samples, \n",
    "                              bootstrap = bootstrap)\n",
    "    model.fit(X, y)\n",
    "    class_counts = np.zeros((X.shape[0], model.n_classes_))\n",
    "    for tree in model:\n",
    "        # get out of bag indicies\n",
    "        unsampled_indices = _generate_unsampled_indices(tree.random_state, len(X))\n",
    "        \n",
    "        total_unsampled = len(unsampled_indices)\n",
    "        np.random.shuffle(unsampled_indices)\n",
    "        prob_indices, eval_indices = unsampled_indices[:total_unsampled//2], unsampled_indices[total_unsampled//2:]\n",
    "        # get all node counts\n",
    "        node_counts = tree.tree_.n_node_samples\n",
    "        # get probs for eval samples\n",
    "        posterior_class_counts = np.zeros((len(node_counts), model.n_classes_))\n",
    "        for prob_index in prob_indices:\n",
    "            posterior_class_counts[tree.apply(X[prob_index].item()).item(), y[prob_index]] += 1\n",
    "        row_sums = posterior_class_counts.sum(axis=1)\n",
    "        row_sums[row_sums == 0] = 1\n",
    "        class_probs = (posterior_class_counts/row_sums[:, None])\n",
    "        where_0 = np.argwhere(class_probs == 0)\n",
    "        for elem in where_0:\n",
    "            class_probs[elem[0], elem[1]] = 1/(2*row_sums[elem[0], None])\n",
    "        where_1 = np.argwhere(class_probs == 1)\n",
    "        for elem in where_1:\n",
    "            class_probs[elem[0], elem[1]] = 1 - 1/(2*row_sums[elem[0], None])\n",
    "        class_probs.tolist()\n",
    "        partition_counts = np.asarray([node_counts[x] for x in tree.apply(X[eval_indices])])\n",
    "        # get probability for out of bag samples\n",
    "        eval_class_probs = [class_probs[x] for x in tree.apply(X[eval_indices])]\n",
    "        eval_class_probs = np.array(eval_class_probs)\n",
    "        # find total elements for out of bag samples\n",
    "        elems = np.multiply(eval_class_probs, partition_counts[:, np.newaxis])\n",
    "        # store counts for each x (repeat fhis for each tree)\n",
    "        class_counts[eval_indices] += elems\n",
    "    # calculate p(y|X = x) for all x's\n",
    "    probs = class_counts/class_counts.sum(axis = 1, keepdims = True)\n",
    "    entropies = -np.sum(np.log(probs)*probs, axis = 1)\n",
    "    # convert nan to 0\n",
    "    entropies = np.nan_to_num(entropies)\n",
    "    return np.mean(entropies)\n",
    "\n",
    "np.warnings.filterwarnings('ignore')\n",
    "\n",
    "rf_entropy_estimate_bagging(X, y, 500, .32)\n"
   ]
  },
  {
   "cell_type": "code",
   "execution_count": 63,
   "metadata": {},
   "outputs": [
    {
     "data": {
      "image/png": "[encoded data removed]",
      "text/plain": [
       "<Figure size 432x288 with 1 Axes>"
      ]
     },
     "metadata": {},
     "output_type": "display_data"
    }
   ],
   "source": [
    "from tqdm import tqdm_notebook\n",
    "def get_cond_entropy_vs_n(mean):\n",
    "    conditional_entropy = []\n",
    "    plugin_estimate = []\n",
    "    sample_sizes = [i*200 for i in range(1, 26)]\n",
    "    for elem in tqdm_notebook(sample_sizes):\n",
    "        X, y = get_sample(elem, mean, 1)\n",
    "        conditional_entropy.append(rf_entropy_estimate_bagging(np.array(X).reshape(-1, 1), y, 300, .32, depth = 30))\n",
    "        plugin_estimate.append(plugin_estimate_cat_1D(np.array(X).reshape(-1, 1), y).item())\n",
    "    return sample_sizes, conditional_entropy, plugin_estimate\n",
    "\n",
    "#sample_sizes, cond_entropy, plugin_estimate = get_cond_entropy_vs_n(1)\n",
    "#plt.scatter(sample_sizes, cond_entropy, marker = \"None\",)\n",
    "#plt.scatter(sample_sizes, plugin_estimate, marker = \"None\")\n",
    "sns.set(font_scale = 1.2)\n",
    "line_plugin, = plt.plot(sample_sizes, plugin_estimate, label = \"plugin estimate\", linewidth = 3, color = \"green\")\n",
    "line_est, = plt.plot(sample_sizes, cond_entropy, label = \"rf estimate\", linewidth = 3)\n",
    "line_true = plt.axhline(y=.356, color='r', linestyle='-', label = \"true\")\n",
    "plt.xlabel(\"n\")\n",
    "plt.ylabel(\"H(Y|X) estimate\")\n",
    "plt.ylim(ymin = 0)\n",
    "plt.ylim(ymax = .8)\n",
    "plt.legend(handles=[line_est, line_true, line_plugin])\n",
    "plt.title(\"H(Y|X) Estimate vs Sample Size with Mean = 1\")\n",
    "plt.show()"
   ]
  },
  {
   "cell_type": "code",
   "execution_count": null,
   "metadata": {},
   "outputs": [],
   "source": []
  }
 ],
 "metadata": {
  "kernelspec": {
   "display_name": "Python 3",
   "language": "python",
   "name": "python3"
  },
  "language_info": {
   "codemirror_mode": {
    "name": "ipython",
    "version": 3
   },
   "file_extension": ".py",
   "mimetype": "text/x-python",
   "name": "python",
   "nbconvert_exporter": "python",
   "pygments_lexer": "ipython3",
   "version": "3.7.0"
  }
 },
 "nbformat": 4,
 "nbformat_minor": 2
}
