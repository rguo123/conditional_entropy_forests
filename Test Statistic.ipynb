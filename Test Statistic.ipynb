{
 "cells": [
  {
   "cell_type": "markdown",
   "metadata": {},
   "source": [
    "# Test Statistic for Random Forest Independence Test\n",
    "In this notebook, we will work on generating a test statistic using our random forest estimate of conditional entropy. Our test is setup as so:  \n",
    "\n",
    "Given $(Y, X)$, where $Y$ is binary.  \n",
    "$H_0$: $X$ is independent from $Y$  \n",
    "$H_a$: $X$ is dependent on $Y$  \n",
    "\n",
    "This can be translated to:  \n",
    "$H_0$: $MI(X, Y) = 0$  \n",
    "$H_a$: $MI(X, Y) \\neq 0$  \n",
    "\n",
    "There are two methods we explore in this notebook:\n",
    "1. Permutation test\n",
    "2. Compute the cdf of H(Y) evaluated at H(Y|X; under alternative)\n"
   ]
  },
  {
   "cell_type": "markdown",
   "metadata": {},
   "source": [
    "## 1. Permutation test\n",
    "Under the null, $X$ and $Y$ are independent. This means you should be able to permute around the Y labels and still get the same mutual information / coditional entropy. So, for the permtuation test, we will do exactly this:  \n",
    "\n",
    "1. Permute the Y labels\n",
    "2. Calculate Mutual information\n",
    "3. Repeat 1000 times\n",
    "4. How many times out of total trials did we get mutual information = 0?\n",
    "\n",
    "We will focus on the same example as the previous notebooks.\n",
    "Consider $(X, Y)$. Let $Y \\sim Bernoulli(1/2)$ ($Y$ = -1 or 1) and $X \\sim \\mathcal N(y\\mu, 1)$  \n",
    "\n",
    "Note, we are focusing on one dimensional case for now."
   ]
  },
  {
   "cell_type": "markdown",
   "metadata": {},
   "source": [
    "### Sampling Code"
   ]
  },
  {
   "cell_type": "code",
   "execution_count": 3,
   "metadata": {},
   "outputs": [
    {
     "data": {
      "image/png": "[encoded data removed]",
      "text/plain": [
       "<Figure size 432x288 with 1 Axes>"
      ]
     },
     "metadata": {},
     "output_type": "display_data"
    }
   ],
   "source": [
    "import numpy as np\n",
    "\n",
    "# NOTE: we are storing y's as 1's or 0's but still doing the mean stuff correctly\n",
    "def get_sample(n, mean, var):\n",
    "    x_sample = []\n",
    "    y_sample = []\n",
    "    for i in range(n):\n",
    "        y = np.random.binomial(1, .5)\n",
    "        if (y == 0):\n",
    "            x = np.random.normal(-mean, var)\n",
    "        else:\n",
    "            x = np.random.normal(mean, var)\n",
    "        x_sample.append(x)\n",
    "        y_sample.append(y)\n",
    "    return x_sample, y_sample\n",
    "\n",
    "import seaborn as sns\n",
    "import matplotlib.pyplot as plt\n",
    "sns.set(font_scale=1.3)\n",
    "\n",
    "def split_by_class(sample):\n",
    "    y_one = [pair for pair in sample if pair[1] == 1]\n",
    "    y_neg_one = [pair for pair in sample if pair[1] == 0]\n",
    "    return y_one, y_neg_one\n",
    "\n",
    "X, y = get_sample(100, 2, 1)\n",
    "sample = list(zip(X, y))\n",
    "class_one, class_neg_one = split_by_class(sample)\n",
    "sns.distplot(list(zip(*class_one))[0], hist=False, rug=True)\n",
    "sns.distplot(list(zip(*class_neg_one))[0], hist=False, rug=True)\n",
    "plt.title(\"Distribution Plot with Mean = 10\")\n",
    "plt.show()"
   ]
  },
  {
   "cell_type": "markdown",
   "metadata": {},
   "source": [
    "### Algorithm Code"
   ]
  },
  {
   "cell_type": "code",
   "execution_count": 5,
   "metadata": {},
   "outputs": [
    {
     "data": {
      "text/plain": [
       "0.3405430602325196"
      ]
     },
     "execution_count": 5,
     "metadata": {},
     "output_type": "execute_result"
    }
   ],
   "source": [
    "from sklearn.ensemble.forest import _generate_unsampled_indices\n",
    "from sklearn.ensemble import BaggingClassifier\n",
    "from sklearn.tree import DecisionTreeClassifier\n",
    "\n",
    "X, y = get_sample(1000, 1, 1)\n",
    "X = np.array(X).reshape(-1, 1)\n",
    "\n",
    "def rf_entropy_estimate_bagging(X, y, n_estimators = 200, max_samples = .63, bootstrap = True, depth = 4):\n",
    "    model = BaggingClassifier(DecisionTreeClassifier(max_depth = depth), \n",
    "                              n_estimators = n_estimators, \n",
    "                              max_samples= max_samples, \n",
    "                              bootstrap = bootstrap)\n",
    "    model.fit(X, y)\n",
    "    class_counts = np.zeros((X.shape[0], model.n_classes_))\n",
    "    for tree in model:\n",
    "        # get out of bag indicies\n",
    "        unsampled_indices = _generate_unsampled_indices(tree.random_state, len(X))\n",
    "        # get all node counts\n",
    "        node_counts = tree.tree_.n_node_samples\n",
    "        # get counts for out of bag samples\n",
    "        partition_counts = np.asarray([node_counts[x] for x in tree.apply(X[unsampled_indices])])\n",
    "        # get probability for out of bag samples\n",
    "        class_probs = tree.predict_proba(X[unsampled_indices])\n",
    "        # find total elements for out of bag samples\n",
    "        elems = np.multiply(class_probs, partition_counts[:, np.newaxis])\n",
    "        # store counts for each x (repeat fhis for each tree)\n",
    "        class_counts[unsampled_indices] += elems\n",
    "    # calculate p(y|X = x) for all x's\n",
    "    probs = class_counts/class_counts.sum(axis = 1, keepdims = True)\n",
    "    entropies = -np.sum(np.log(probs)*probs, axis = 1)\n",
    "    # convert nan to 0\n",
    "    entropies = np.nan_to_num(entropies)\n",
    "    return np.mean(entropies)\n",
    "\n",
    "np.warnings.filterwarnings('ignore')\n",
    "\n",
    "rf_entropy_estimate_bagging(X, y, 500, .63)\n"
   ]
  },
  {
   "cell_type": "markdown",
   "metadata": {},
   "source": [
    "### Calculate Mutual Information"
   ]
  },
  {
   "cell_type": "code",
   "execution_count": 29,
   "metadata": {},
   "outputs": [],
   "source": [
    "from scipy.stats import entropy\n",
    "\n",
    "def get_entropy(X):\n",
    "    probs = np.bincount(X)/len(X)\n",
    "    return entropy(probs)\n",
    "\n",
    "def get_mutual_information(X, y, n_estimators = 200, max_samples = .63, bootstrap = True, depth = 4):\n",
    "    cond_entropy = rf_entropy_estimate_bagging(X, y, n_estimators, max_samples, bootstrap, depth)\n",
    "    h_y = get_entropy(y)\n",
    "    return h_y - cond_entropy"
   ]
  },
  {
   "cell_type": "code",
   "execution_count": 30,
   "metadata": {},
   "outputs": [
    {
     "name": "stdout",
     "output_type": "stream",
     "text": [
      "Mean: 0\n",
      "MI 0.0020832183025618622\n",
      "Mean: 1\n",
      "MI 0.3798822472966329\n",
      "Mean: 5\n",
      "MI 0.6929851718108113\n"
     ]
    }
   ],
   "source": [
    "### TESTS ###\n",
    "print(\"Mean:\", 0)\n",
    "X, y = get_sample(1000, 0, 1)\n",
    "X = np.array(X).reshape(-1, 1)\n",
    "print(\"MI\", get_mutual_information(X, y))\n",
    "\n",
    "print(\"Mean:\", 1)\n",
    "X, y = get_sample(1000, 1, 1)\n",
    "X = np.array(X).reshape(-1, 1)\n",
    "print(\"MI\", get_mutual_information(X, y))\n",
    "\n",
    "print(\"Mean:\", 5)\n",
    "X, y = get_sample(1000, 5, 1)\n",
    "X = np.array(X).reshape(-1, 1)\n",
    "print(\"MI\", get_mutual_information(X, y))"
   ]
  },
  {
   "cell_type": "markdown",
   "metadata": {},
   "source": [
    "### Permutation Test\n",
    "For now, we will just return a list of mutual information values."
   ]
  },
  {
   "cell_type": "code",
   "execution_count": 31,
   "metadata": {},
   "outputs": [],
   "source": [
    "from random import shuffle\n",
    "from tqdm import tqdm_notebook\n",
    "def permutation_test(X, y, trials = 1000):\n",
    "    mutual_infos = []\n",
    "    for _ in tqdm_notebook(range(trials)):\n",
    "        shuffle(y)\n",
    "        mutual_infos.append(get_mutual_information(X, y))\n",
    "    return mutual_infos"
   ]
  },
  {
   "cell_type": "code",
   "execution_count": 32,
   "metadata": {},
   "outputs": [
    {
     "data": {
      "application/vnd.jupyter.widget-view+json": {
       "model_id": "94df825cdf284169b1009af48e743355",
       "version_major": 2,
       "version_minor": 0
      },
      "text/plain": [
       "HBox(children=(IntProgress(value=0, max=1000), HTML(value='')))"
      ]
     },
     "metadata": {},
     "output_type": "display_data"
    }
   ],
   "source": [
    "X, y = get_sample(1000, 1, 1)\n",
    "X = np.array(X).reshape(-1, 1)\n",
    "mutual_informations = permutation_test(X, y)"
   ]
  },
  {
   "cell_type": "code",
   "execution_count": 33,
   "metadata": {},
   "outputs": [
    {
     "data": {
      "image/png": "[encoded data removed]",
      "text/plain": [
       "<Figure size 432x288 with 1 Axes>"
      ]
     },
     "metadata": {},
     "output_type": "display_data"
    }
   ],
   "source": [
    "sns.distplot(mutual_informations, hist=True, rug=True)\n",
    "plt.title(\"Permuted Mutual Informations with Mean = 0\")\n",
    "plt.show()"
   ]
  },
  {
   "cell_type": "markdown",
   "metadata": {},
   "source": [
    "### Final Bit\n",
    "Return the p value!"
   ]
  },
  {
   "cell_type": "code",
   "execution_count": 26,
   "metadata": {},
   "outputs": [
    {
     "data": {
      "application/vnd.jupyter.widget-view+json": {
       "model_id": "67b2465c7feb417095e9b716c3d4c6e2",
       "version_major": 2,
       "version_minor": 0
      },
      "text/plain": [
       "HBox(children=(IntProgress(value=0, max=1000), HTML(value='')))"
      ]
     },
     "metadata": {},
     "output_type": "display_data"
    },
    {
     "name": "stdout",
     "output_type": "stream",
     "text": [
      "P-value when Mean is 0 0.421\n"
     ]
    },
    {
     "data": {
      "application/vnd.jupyter.widget-view+json": {
       "model_id": "11d9110d38294d05b7ef144b0f3396e8",
       "version_major": 2,
       "version_minor": 0
      },
      "text/plain": [
       "HBox(children=(IntProgress(value=0, max=1000), HTML(value='')))"
      ]
     },
     "metadata": {},
     "output_type": "display_data"
    },
    {
     "name": "stdout",
     "output_type": "stream",
     "text": [
      "P-value when Mean is 1 0.0\n"
     ]
    },
    {
     "data": {
      "application/vnd.jupyter.widget-view+json": {
       "model_id": "db3de9fd4b7d4fc08aa8c76ba37aaaf7",
       "version_major": 2,
       "version_minor": 0
      },
      "text/plain": [
       "HBox(children=(IntProgress(value=0, max=1000), HTML(value='')))"
      ]
     },
     "metadata": {},
     "output_type": "display_data"
    },
    {
     "name": "stdout",
     "output_type": "stream",
     "text": [
      "P-value when Mean is 1 0.0\n"
     ]
    }
   ],
   "source": [
    "def rf_independence_test(X, y, n_estimators = 200, max_samples = .63, bootstrap = True, depth = 4):\n",
    "    test_stat = get_mutual_information(X, y, n_estimators, max_samples, bootstrap, depth)\n",
    "    null_mutual_info = permutation_test(X, y)\n",
    "    p_value = sum(i >= test_stat for i in null_mutual_info)/len(null_mutual_info)\n",
    "    return p_value\n",
    "\n",
    "X, y = get_sample(1000, 0, 1)\n",
    "X = np.array(X).reshape(-1, 1)\n",
    "print(\"P-value when Mean is 0\", rf_independence_test(X, y))\n",
    "\n",
    "X, y = get_sample(1000, 1, 1)\n",
    "X = np.array(X).reshape(-1, 1)\n",
    "print(\"P-value when Mean is 1\", rf_independence_test(X, y))\n",
    "\n",
    "X, y = get_sample(1000, 5, 1)\n",
    "X = np.array(X).reshape(-1, 1)\n",
    "print(\"P-value when Mean is 1\", rf_independence_test(X, y))"
   ]
  },
  {
   "cell_type": "markdown",
   "metadata": {},
   "source": [
    "## 2. Compute the cdf of H(Y) evaluated at H(Y|X; under alternative)\n",
    "\n",
    "#### Reasoning behind this (?):\n",
    "$MI_0$(X,Y) - $MI_A$(X,Y; under alt) = H(Y|X; under alt) -H(Y|X; under null) \n",
    "\n",
    "Under the null, $X$ and $Y$ are independent. So, this means the conditional entropy $H(Y|X)$ should equal $H(Y)$. If we can construct the distribution of $H(Y)$, our p-value is just the probability that $H(Y|X)$ is close to $H(Y)$."
   ]
  },
  {
   "cell_type": "markdown",
   "metadata": {},
   "source": [
    "### To construct distribution of H(Y)\n",
    "\n",
    "We focus on 2 class case for now (unsure if this test will even work for more than 2 sample testing, my guess is no since mutual information involves just 2).\n",
    "\n",
    "We know that $Y \\sim Bernoulli(p)$. This is always the case since $Y$ is cateogrical and there are two classes. So $\\hat p$ is a binomial. We can use our sample to estimate p. Then, for each probability of $\\hat p$ which is easy with the binomial, we can contruct the entropy distribution as well by just plugging in that partiular value of $\\hat p$ into the entropy equation.\n",
    "\n",
    "### Entropy Equation:\n",
    "We are constructing the cdf of H(Y), where Y is Bernoulli. So the entropy is just $-plogp - (1-p)log(1-p)$. With our estimate, we get $\\hat p$ and the probabilty of seeing that $\\hat p$ is binomial. So, we can construct the distribution of H(Y) by assigning a probability to each entropy calculated at $\\hat p$ with the probability of seeing $\\hat p$\n",
    "### Code:\n",
    "Note in our case, our p parameter for the binomial should just be 1/2 since we are drawing evenly from $Y = 1$ and $Y = -1$.\n",
    "\n",
    "Note that in our code, we are also just considering the sum of y's instead of different $\\hat p$'s but these are identically distributed, $\\hat p$ just has a divided by n."
   ]
  },
  {
   "cell_type": "code",
   "execution_count": 4,
   "metadata": {},
   "outputs": [
    {
     "name": "stdout",
     "output_type": "stream",
     "text": [
      "[nan, 0.007907255112232087, 0.014427214862176116, 0.020422924464179912, 0.02607783298339765]\n"
     ]
    },
    {
     "name": "stderr",
     "output_type": "stream",
     "text": [
      "/usr/local/Cellar/jupyter/1.0.0_5/libexec/lib/python3.7/site-packages/ipykernel_launcher.py:12: RuntimeWarning: divide by zero encountered in log\n",
      "  if sys.path[0] == '':\n",
      "/usr/local/Cellar/jupyter/1.0.0_5/libexec/lib/python3.7/site-packages/ipykernel_launcher.py:12: RuntimeWarning: invalid value encountered in double_scalars\n",
      "  if sys.path[0] == '':\n"
     ]
    }
   ],
   "source": [
    "#TODO: have to change to work with other categorical data not just 1 or 0\n",
    "from scipy.stats import binom\n",
    "import math\n",
    "\n",
    "def get_entropy_dist(y):\n",
    "    n = len(y)\n",
    "    p = y.count(1)/n\n",
    "    dist = {}\n",
    "    for i in range(0, n + 1):\n",
    "        p_hat = i/n\n",
    "        prob = binom.pmf(i, n, p)\n",
    "        dist[-p_hat*np.log(p_hat) - (1 - p_hat)*np.log(1 - p_hat)] = prob\n",
    "    return dist\n",
    "\n",
    "X, y = get_sample(1000, 0, 1)\n",
    "X = np.array(X).reshape(-1, 1)\n",
    "\n",
    "\n",
    "dist = get_entropy_dist(y)\n",
    "print(list(dist.keys())[:5])"
   ]
  },
  {
   "cell_type": "markdown",
   "metadata": {},
   "source": [
    "It's hard to visualize the distribution so we are going to monte carlo just to view the distribution. Also, problems with analytical is negative entropies from approximation (?). Better to just do monte carlo"
   ]
  },
  {
   "cell_type": "code",
   "execution_count": 5,
   "metadata": {},
   "outputs": [
    {
     "name": "stdout",
     "output_type": "stream",
     "text": [
      "509\n",
      "1000\n"
     ]
    },
    {
     "name": "stderr",
     "output_type": "stream",
     "text": [
      "/usr/local/lib/python3.7/site-packages/scipy/stats/stats.py:1713: FutureWarning: Using a non-tuple sequence for multidimensional indexing is deprecated; use `arr[tuple(seq)]` instead of `arr[seq]`. In the future this will be interpreted as an array index, `arr[np.array(seq)]`, which will result either in an error or a different result.\n",
      "  return np.add.reduce(sorted[indexer] * weights, axis=axis) / sumval\n"
     ]
    },
    {
     "data": {
      "image/png": "[encoded data removed]",
      "text/plain": [
       "<Figure size 432x288 with 1 Axes>"
      ]
     },
     "metadata": {},
     "output_type": "display_data"
    }
   ],
   "source": [
    "X, y = get_sample(1000, 0, 1)\n",
    "X = np.array(X).reshape(-1, 1)\n",
    "\n",
    "print(y.count(1))\n",
    "probs = np.random.binomial(len(y), y.count(1)/len(y), 1000)/len(y)\n",
    "entropies = [-p_hat*np.log(p_hat) - (1 - p_hat)*np.log(1 - p_hat) for p_hat in probs]\n",
    "print(len(entropies))\n",
    "sns.distplot(entropies, hist = True, rug = True)\n",
    "plt.title(\"Monte Carlo distribution of H(Y)\")\n",
    "plt.xlabel(\"H(Y)\")\n",
    "plt.ylabel(\"Normalized density\")\n",
    "plt.show()"
   ]
  },
  {
   "cell_type": "code",
   "execution_count": null,
   "metadata": {},
   "outputs": [],
   "source": []
  }
 ],
 "metadata": {
  "kernelspec": {
   "display_name": "Python 3",
   "language": "python",
   "name": "python3"
  },
  "language_info": {
   "codemirror_mode": {
    "name": "ipython",
    "version": 3
   },
   "file_extension": ".py",
   "mimetype": "text/x-python",
   "name": "python",
   "nbconvert_exporter": "python",
   "pygments_lexer": "ipython3",
   "version": "3.7.0"
  }
 },
 "nbformat": 4,
 "nbformat_minor": 2
}
