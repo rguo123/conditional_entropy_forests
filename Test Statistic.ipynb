{
 "cells": [
  {
   "cell_type": "markdown",
   "metadata": {},
   "source": [
    "# Test Statistic for Random Forest Independence Test\n",
    "In this notebook, we will work on generating a test statistic using our random forest estimate of conditional entropy. Our test is setup as so:  \n",
    "\n",
    "Given $(Y, X)$, where $Y$ is binary.  \n",
    "$H_0$: $X$ is independent from $Y$  \n",
    "$H_a$: $X$ is dependent on $Y$  \n",
    "\n",
    "This can be translated to:  \n",
    "$H_0$: $MI(X, Y) = 0$  \n",
    "$H_a$: $MI(X, Y) \\neq 0$  \n",
    "\n",
    "There are two methods we explore in this notebook:\n",
    "1. Permutation test\n",
    "2. Compute the cdf of H(Y) evaluated at H(Y|X; under alternative)\n"
   ]
  },
  {
   "cell_type": "markdown",
   "metadata": {},
   "source": [
    "## 1. Permutation test\n",
    "Under the null, $X$ and $Y$ are independent. This means you should be able to permute around the Y labels and still get the same mutual information / coditional entropy. So, for the permtuation test, we will do exactly this:  \n",
    "\n",
    "1. Permute the Y labels\n",
    "2. Calculate Mutual information\n",
    "3. Repeat 1000 times\n",
    "4. How many times out of total trials did we get mutual information = 0?\n",
    "\n",
    "We will focus on the same example as the previous notebooks.\n",
    "Consider $(X, Y)$. Let $Y \\sim Bernoulli(1/2)$ ($Y$ = -1 or 1) and $X \\sim \\mathcal N(y\\mu, 1)$  \n",
    "\n",
    "Note, we are focusing on one dimensional case for now."
   ]
  },
  {
   "cell_type": "markdown",
   "metadata": {},
   "source": [
    "### Sampling Code"
   ]
  },
  {
   "cell_type": "code",
   "execution_count": 27,
   "metadata": {},
   "outputs": [
    {
     "data": {
      "image/png": "[encoded data removed]",
      "text/plain": [
       "<Figure size 432x288 with 1 Axes>"
      ]
     },
     "metadata": {},
     "output_type": "display_data"
    }
   ],
   "source": [
    "import numpy as np\n",
    "\n",
    "# NOTE: we are storing y's as 1's or 0's but still doing the mean stuff correctly\n",
    "def get_sample(n, mean, var):\n",
    "    x_sample = []\n",
    "    y_sample = []\n",
    "    for i in range(n):\n",
    "        y = np.random.binomial(1, .5)\n",
    "        if (y == 0):\n",
    "            x = np.random.normal(-mean, var)\n",
    "        else:\n",
    "            x = np.random.normal(mean, var)\n",
    "        x_sample.append(x)\n",
    "        y_sample.append(y)\n",
    "    return x_sample, y_sample\n",
    "\n",
    "import seaborn as sns\n",
    "import matplotlib.pyplot as plt\n",
    "sns.set(font_scale=1.3)\n",
    "\n",
    "def split_by_class(sample):\n",
    "    y_one = [pair for pair in sample if pair[1] == 1]\n",
    "    y_neg_one = [pair for pair in sample if pair[1] == 0]\n",
    "    return y_one, y_neg_one\n",
    "\n",
    "X, y = get_sample(100, 2, 1)\n",
    "sample = list(zip(X, y))\n",
    "class_one, class_neg_one = split_by_class(sample)\n",
    "sns.distplot(list(zip(*class_one))[0], hist=False, rug=True)\n",
    "sns.distplot(list(zip(*class_neg_one))[0], hist=False, rug=True)\n",
    "plt.title(\"Distribution Plot with Mean = 10\")\n",
    "plt.show()"
   ]
  },
  {
   "cell_type": "markdown",
   "metadata": {},
   "source": [
    "### Algorithm Code"
   ]
  },
  {
   "cell_type": "code",
   "execution_count": 28,
   "metadata": {},
   "outputs": [
    {
     "data": {
      "text/plain": [
       "0.31834700142543204"
      ]
     },
     "execution_count": 28,
     "metadata": {},
     "output_type": "execute_result"
    }
   ],
   "source": [
    "from sklearn.ensemble.forest import _generate_unsampled_indices\n",
    "from sklearn.ensemble import BaggingClassifier\n",
    "from sklearn.tree import DecisionTreeClassifier\n",
    "\n",
    "X, y = get_sample(1000, 1, 1)\n",
    "X = np.array(X).reshape(-1, 1)\n",
    "\n",
    "def rf_entropy_estimate_bagging(X, y, n_estimators = 200, max_samples = .63, bootstrap = True, depth = 4):\n",
    "    model = BaggingClassifier(DecisionTreeClassifier(max_depth = depth), \n",
    "                              n_estimators = n_estimators, \n",
    "                              max_samples= max_samples, \n",
    "                              bootstrap = bootstrap)\n",
    "    model.fit(X, y)\n",
    "    class_counts = np.zeros((X.shape[0], model.n_classes_))\n",
    "    for tree in model:\n",
    "        # get out of bag indicies\n",
    "        unsampled_indices = _generate_unsampled_indices(tree.random_state, len(X))\n",
    "        # get all node counts\n",
    "        node_counts = tree.tree_.n_node_samples\n",
    "        # get counts for out of bag samples\n",
    "        partition_counts = np.asarray([node_counts[x] for x in tree.apply(X[unsampled_indices])])\n",
    "        # get probability for out of bag samples\n",
    "        class_probs = tree.predict_proba(X[unsampled_indices])\n",
    "        # find total elements for out of bag samples\n",
    "        elems = np.multiply(class_probs, partition_counts[:, np.newaxis])\n",
    "        # store counts for each x (repeat fhis for each tree)\n",
    "        class_counts[unsampled_indices] += elems\n",
    "    # calculate p(y|X = x) for all x's\n",
    "    probs = class_counts/class_counts.sum(axis = 1, keepdims = True)\n",
    "    entropies = -np.sum(np.log(probs)*probs, axis = 1)\n",
    "    # convert nan to 0\n",
    "    entropies = np.nan_to_num(entropies)\n",
    "    return np.mean(entropies)\n",
    "\n",
    "np.warnings.filterwarnings('ignore')\n",
    "\n",
    "rf_entropy_estimate_bagging(X, y, 500, .63)\n"
   ]
  },
  {
   "cell_type": "markdown",
   "metadata": {},
   "source": [
    "### Calculate Mutual Information"
   ]
  },
  {
   "cell_type": "code",
   "execution_count": 29,
   "metadata": {},
   "outputs": [],
   "source": [
    "from scipy.stats import entropy\n",
    "\n",
    "def get_entropy(X):\n",
    "    probs = np.bincount(X)/len(X)\n",
    "    return entropy(probs)\n",
    "\n",
    "def get_mutual_information(X, y, n_estimators = 200, max_samples = .63, bootstrap = True, depth = 4):\n",
    "    cond_entropy = rf_entropy_estimate_bagging(X, y, n_estimators, max_samples, bootstrap, depth)\n",
    "    h_y = get_entropy(y)\n",
    "    return h_y - cond_entropy"
   ]
  },
  {
   "cell_type": "code",
   "execution_count": 30,
   "metadata": {},
   "outputs": [
    {
     "name": "stdout",
     "output_type": "stream",
     "text": [
      "Mean: 0\n",
      "MI 0.0020832183025618622\n",
      "Mean: 1\n",
      "MI 0.3798822472966329\n",
      "Mean: 5\n",
      "MI 0.6929851718108113\n"
     ]
    }
   ],
   "source": [
    "### TESTS ###\n",
    "print(\"Mean:\", 0)\n",
    "X, y = get_sample(1000, 0, 1)\n",
    "X = np.array(X).reshape(-1, 1)\n",
    "print(\"MI\", get_mutual_information(X, y))\n",
    "\n",
    "print(\"Mean:\", 1)\n",
    "X, y = get_sample(1000, 1, 1)\n",
    "X = np.array(X).reshape(-1, 1)\n",
    "print(\"MI\", get_mutual_information(X, y))\n",
    "\n",
    "print(\"Mean:\", 5)\n",
    "X, y = get_sample(1000, 5, 1)\n",
    "X = np.array(X).reshape(-1, 1)\n",
    "print(\"MI\", get_mutual_information(X, y))"
   ]
  },
  {
   "cell_type": "markdown",
   "metadata": {},
   "source": [
    "### Permutation Test\n",
    "For now, we will just return a list of mutual information values."
   ]
  },
  {
   "cell_type": "code",
   "execution_count": 31,
   "metadata": {},
   "outputs": [],
   "source": [
    "from random import shuffle\n",
    "from tqdm import tqdm_notebook\n",
    "def permutation_test(X, y, trials = 1000):\n",
    "    mutual_infos = []\n",
    "    for _ in tqdm_notebook(range(trials)):\n",
    "        shuffle(y)\n",
    "        mutual_infos.append(get_mutual_information(X, y))\n",
    "    return mutual_infos"
   ]
  },
  {
   "cell_type": "code",
   "execution_count": 32,
   "metadata": {},
   "outputs": [
    {
     "data": {
      "application/vnd.jupyter.widget-view+json": {
       "model_id": "94df825cdf284169b1009af48e743355",
       "version_major": 2,
       "version_minor": 0
      },
      "text/plain": [
       "HBox(children=(IntProgress(value=0, max=1000), HTML(value='')))"
      ]
     },
     "metadata": {},
     "output_type": "display_data"
    }
   ],
   "source": [
    "X, y = get_sample(1000, 1, 1)\n",
    "X = np.array(X).reshape(-1, 1)\n",
    "mutual_informations = permutation_test(X, y)"
   ]
  },
  {
   "cell_type": "code",
   "execution_count": 33,
   "metadata": {},
   "outputs": [
    {
     "data": {
      "image/png": "[encoded data removed]",
      "text/plain": [
       "<Figure size 432x288 with 1 Axes>"
      ]
     },
     "metadata": {},
     "output_type": "display_data"
    }
   ],
   "source": [
    "sns.distplot(mutual_informations, hist=True, rug=True)\n",
    "plt.title(\"Permuted Mutual Informations with Mean = 0\")\n",
    "plt.show()"
   ]
  },
  {
   "cell_type": "markdown",
   "metadata": {},
   "source": [
    "### Final Bit\n",
    "Return the p value!"
   ]
  },
  {
   "cell_type": "code",
   "execution_count": 26,
   "metadata": {},
   "outputs": [
    {
     "data": {
      "application/vnd.jupyter.widget-view+json": {
       "model_id": "67b2465c7feb417095e9b716c3d4c6e2",
       "version_major": 2,
       "version_minor": 0
      },
      "text/plain": [
       "HBox(children=(IntProgress(value=0, max=1000), HTML(value='')))"
      ]
     },
     "metadata": {},
     "output_type": "display_data"
    },
    {
     "name": "stdout",
     "output_type": "stream",
     "text": [
      "P-value when Mean is 0 0.421\n"
     ]
    },
    {
     "data": {
      "application/vnd.jupyter.widget-view+json": {
       "model_id": "11d9110d38294d05b7ef144b0f3396e8",
       "version_major": 2,
       "version_minor": 0
      },
      "text/plain": [
       "HBox(children=(IntProgress(value=0, max=1000), HTML(value='')))"
      ]
     },
     "metadata": {},
     "output_type": "display_data"
    },
    {
     "name": "stdout",
     "output_type": "stream",
     "text": [
      "P-value when Mean is 1 0.0\n"
     ]
    },
    {
     "data": {
      "application/vnd.jupyter.widget-view+json": {
       "model_id": "db3de9fd4b7d4fc08aa8c76ba37aaaf7",
       "version_major": 2,
       "version_minor": 0
      },
      "text/plain": [
       "HBox(children=(IntProgress(value=0, max=1000), HTML(value='')))"
      ]
     },
     "metadata": {},
     "output_type": "display_data"
    },
    {
     "name": "stdout",
     "output_type": "stream",
     "text": [
      "P-value when Mean is 1 0.0\n"
     ]
    }
   ],
   "source": [
    "def rf_independence_test(X, y, n_estimators = 200, max_samples = .63, bootstrap = True, depth = 4):\n",
    "    test_stat = get_mutual_information(X, y, n_estimators, max_samples, bootstrap, depth)\n",
    "    null_mutual_info = permutation_test(X, y)\n",
    "    p_value = sum(i >= test_stat for i in null_mutual_info)/len(null_mutual_info)\n",
    "    return p_value\n",
    "\n",
    "X, y = get_sample(1000, 0, 1)\n",
    "X = np.array(X).reshape(-1, 1)\n",
    "print(\"P-value when Mean is 0\", rf_independence_test(X, y))\n",
    "\n",
    "X, y = get_sample(1000, 1, 1)\n",
    "X = np.array(X).reshape(-1, 1)\n",
    "print(\"P-value when Mean is 1\", rf_independence_test(X, y))\n",
    "\n",
    "X, y = get_sample(1000, 5, 1)\n",
    "X = np.array(X).reshape(-1, 1)\n",
    "print(\"P-value when Mean is 1\", rf_independence_test(X, y))"
   ]
  },
  {
   "cell_type": "markdown",
   "metadata": {},
   "source": [
    "## 2. Compute the cdf of H(Y) evaluated at H(Y|X; under alternative)\n",
    "\n",
    "#### Reasoning behind this (?):\n",
    "$MI_0$(X,Y) - $MI_A$(X,Y; under alt) = H(Y|X; under alt) -H(Y|X; under null) \n",
    "\n",
    "Under the null, $X$ and $Y$ are independent. So, this means the conditional entropy $H(Y|X)$ should equal $H(Y)$. If we can construct the distribution of $H(Y)$, our p-value is just the probability that $H(Y|X)$ is close to $H(Y)$."
   ]
  },
  {
   "cell_type": "markdown",
   "metadata": {},
   "source": [
    "### To construct distribution of H(Y)\n",
    "\n",
    "We focus on 2 class case for now (unsure if this test will even work for more than 2 sample testing, my guess is no since mutual information involves just 2).\n",
    "\n",
    "We know that $Y \\sim Bernoulli(p)$. This is always the case since $Y$ is cateogrical and there are two classes. So $\\hat p$ is a binomial. We can use our sample to estimate p. Then, for each probability of $\\hat p$ which is easy with the binomial, we can contruct the entropy distribution as well by just plugging in that partiular value of $\\hat p$ into the entropy equation.\n",
    "\n",
    "### Entropy Equation for Binomial:\n",
    "$H(\\hat p) = \\frac{1}{2}log{(2\\pi ne\\hat p (1 - \\hat p))} + O(\\frac{1}{n})$\n",
    "\n",
    "### Code:\n",
    "Note in our case, our p parameter for the binomial should just be 1/2 since we are drawing evenly from $Y = 1$ and $Y = -1$.\n",
    "\n",
    "Note that in our code, we are also just considering the sum of y's instead of different $\\hat p$'s but these are identically distributed, $\\hat p$ just has a divided by n."
   ]
  },
  {
   "cell_type": "code",
   "execution_count": 36,
   "metadata": {},
   "outputs": [],
   "source": [
    "#TODO: have to change to work with other categorical data not just 1 or 0\n",
    "from scipy.stats import binom\n",
    "import math\n",
    "\n",
    "def get_entropy_dist(y):\n",
    "    n = len(y)\n",
    "    p = y.count(1)/n\n",
    "    dist = {}\n",
    "    for i in range(0, n + 1):\n",
    "        p_hat = i/n\n",
    "        prob = binom.pmf(i, n, p)\n",
    "        #NOTE: watch out here, might need to fix this line\n",
    "        dist[-.5*np.log(2*math.pi*math.e*p_hat*(1 - p_hat))] = prob\n",
    "    return dist\n",
    "\n",
    "X, y = get_sample(1000, 0, 1)\n",
    "X = np.array(X).reshape(-1, 1)\n",
    "\n",
    "dist = get_entropy_dist(y)"
   ]
  },
  {
   "cell_type": "code",
   "execution_count": 37,
   "metadata": {},
   "outputs": [],
   "source": [
    "keys, values = zip(*dist.items())"
   ]
  },
  {
   "cell_type": "code",
   "execution_count": 40,
   "metadata": {},
   "outputs": [],
   "source": [
    "%matplotlib notebook"
   ]
  },
  {
   "cell_type": "code",
   "execution_count": 42,
   "metadata": {},
   "outputs": [
    {
     "name": "stdout",
     "output_type": "stream",
     "text": [
      "(1.4431231913224312e-280, 5.46e-321, 3.01354e-318, 1.10802991e-315, 3.05247661923e-313, 6.720589575558e-311, 1.231813326151499e-308, 1.933298599253611e-306, 2.652307611198324e-304, 3.231162114417087e-302, 3.5391428822652406e-300, 3.520515814470391e-298, 3.2069119715201953e-296, 2.6938060560764563e-294, 2.099042034749126e-292, 1.5250092761943073e-290, 1.0376584499362639e-288, 6.638444027708746e-287, 4.006941522335615e-285, 2.288951470185322e-283, 1.2409128746641933e-281, 6.400497985116063e-280, 3.148034403729237e-278, 1.4795041323510975e-276, 6.656795237609343e-275, 2.8723721092626016e-273, 1.1905226505485812e-271, 4.746773936520518e-270, 1.8231359369328552e-268, 6.753874908289983e-267, 2.416109881663481e-265, 8.355884259688962e-264, 2.796610013163292e-262, 9.066904042684257e-261, 2.8501798822713027e-259, 8.694548735605459e-258, 2.5759507328503946e-256, 7.417858696420602e-255, 2.0777196179716044e-253, 5.664519800577651e-252, 1.5041536065182948e-250, 3.892649128039626e-249, 9.82381714155181e-248, 2.41903981951023e-246, 5.815244408209957e-245, 1.3654601957810013e-243, 3.1332155865410566e-242, 7.02920952528307e-241, 1.5424952876042698e-239, 3.3123056702245556e-238, 6.963163846317916e-237, 1.4335925565939883e-235, 2.891707091131245e-234, 5.716792926545959e-233, 1.1080883131585287e-231, 2.1065342037527436e-230, 3.928963465548764e-229, 7.191853346368805e-228, 1.2923799620504612e-226, 2.2806298313372052e-225, 3.953291762901171e-224, 6.733216514204266e-223, 1.1270992906933153e-221, 1.854770411700896e-220, 3.0013418907111435e-219, 4.776872567115182e-218, 7.479576782714647e-217, 1.1524306285645455e-215, 1.7476449926815123e-214, 2.6090700073795533e-213, 3.8353329108502203e-212, 5.552561286058333e-211, 7.918488167372427e-210, 1.1125846965089e-208, 1.5404471043347749e-207, 2.1021427642711223e-206, 2.8278478667578703e-205, 3.750619275910863e-204, 4.9054152108639916e-203, 6.327691493182296e-202, 8.051571129588502e-201, 1.0107625355654228e-199, 1.2520350560904166e-198, 1.5305473564557302e-197, 1.8467262182511764e-196, 2.199605296240117e-195, 2.5866227519745995e-194, 3.003486817989815e-193, 3.4441299498374515e-192, 3.900767403867619e-191, 4.3640690762190914e-190, 4.823444768449882e-189, 5.267433477395688e-188, 5.684177789871702e-187, 6.0619560114066295e-186, 6.389738231192823e-185, 6.657728897143008e-184, 6.857858132573551e-183, 6.984187098166087e-182, 7.033198937451651e-181, 7.003955636611242e-180, 6.898111596245297e-179, 2.667151464723155e-143, 6.47530509132459e-177, 6.1728401824577e-176, 5.821962951035588e-175, 9.683202201445001e-140, 5.0173192528360605e-173, 4.5852723171781103e-172, 4.147335637146953e-171, 3.712956799361133e-170, 3.2904297098172423e-169, 2.8867026434498274e-168, 2.5072767068009123e-167, 2.156188514200466e-166, 1.8360660638567728e-165, 1.5482435479467834e-164, 1.2929191733729682e-163, 1.0693398854530916e-162, 8.759979371235684e-162, 7.685828920313791e-128, 5.057341973539108e-127, 3.296747396572877e-126, 3.5898497474998236e-158, 1.3624532117112365e-124, 8.638731906939713e-124, 1.6683334683954836e-155, 1.2689843547018127e-154, 2.0854626140562486e-121, 1.2754501509665683e-120, 5.2924796944937865e-152, 3.884837445494709e-151, 2.826730404417753e-150, 1.633944886426404e-117, 1.4581364320598437e-148, 5.55142451102562e-116, 3.1945960027586445e-115, 5.065819838049225e-146, 3.501443666095096e-145, 5.786769886296667e-113, 3.219924101019857e-112, 1.099742844103598e-142, 7.352950765302559e-142, 4.8761673496216844e-141, 3.2074701678045527e-140, 2.0928306256433593e-139, 1.3546061241323974e-138, 8.697997218105466e-138, 2.205061445467843e-106, 3.501799643070265e-136, 2.1958126814458114e-135, 1.3661643905135707e-134, 1.5071470535674526e-103, 5.166576597373779e-133, 3.140734721034817e-132, 1.8946788812870164e-131, 1.1343143302447233e-130, 6.73972081436094e-130, 3.974459612814046e-129, 2.3262626571948014e-128, 1.3514514733122671e-127, 7.79326707722348e-127, 4.460999760671147e-126, 2.534861924066297e-125, 1.429886650812583e-124, 1.0604848583311413e-94, 4.4517802651627744e-123, 2.4572480165141827e-122, 1.3466365774713064e-121, 7.327447611831338e-121, 1.927207219072742e-91, 2.1238223855689316e-119, 1.1313838405847674e-118, 5.98494135080906e-118, 3.14399505261365e-117, 1.6401725769220952e-116, 8.497604633728241e-116, 4.372362491284636e-115, 2.2344039307199503e-114, 1.134086464335497e-113, 5.717188518020986e-113, 2.8627504007068783e-112, 1.423841646666628e-111, 7.034441129257896e-111, 3.452228445500183e-110, 1.6829981974994938e-109, 8.150683121161137e-109, 3.921412250866386e-108, 1.8743077088189274e-107, 8.900221400934719e-107, 4.1988828443050476e-106, 1.431692861034721e-78, 9.165667309021793e-105, 4.2411519743503476e-104, 1.949940382780422e-103, 2.909783415053789e-76, 4.043830658083904e-102, 1.8240993008586756e-101, 8.176445111745767e-101, 3.6420970264987506e-100, 1.6122030021786551e-99, 7.092173458136202e-99, 3.100562231731978e-98, 1.3471408317184798e-97, 5.817104257083912e-97, 1.101770344992719e-70, 3.84702752221528e-70, 4.514536834249998e-95, 4.605257463756385e-69, 7.967706651139423e-94, 3.3170820847634074e-93, 1.8227938472805806e-67, 6.137803810557026e-67, 2.3087966968014835e-91, 9.384526071827186e-91, 3.7919458345562147e-90, 1.5231536813514614e-89, 6.082270727567235e-89, 7.89747030967913e-64, 2.5514375703653326e-63, 8.194974481956812e-63, 1.4585694432972499e-86, 5.6568841922527465e-86, 2.622479309269557e-61, 8.362890491579888e-85, 2.568223919111786e-60, 1.2082596266024761e-83, 2.458158405705171e-59, 7.540303363526817e-59, 2.2998787634895418e-58, 6.975346585173209e-58, 2.103675954259592e-57, 3.1793594970406883e-80, 1.158272192643212e-79, 4.196196627737112e-79, 1.645508520894495e-55, 4.825961733498791e-55, 1.4075479309514696e-54, 4.082677542019089e-54, 1.1777048307099393e-53, 3.3786575688921736e-53, 9.639955600636743e-53, 2.735493894466506e-52, 7.72027886892899e-52, 2.1670720330177324e-51, 6.050111308497026e-51, 1.6800009043832737e-50, 4.640002497824077e-50, 1.274664280650151e-49, 3.4829610330742406e-49, 9.466356377328938e-49, 2.5592027770241113e-48, 6.882088949326056e-48, 1.8409231723645833e-47, 4.898429431077513e-47, 1.2965516107596454e-46, 3.413818461737261e-46, 8.941585654088747e-46, 2.3297963211280848e-45, 6.038880039580635e-45, 1.5571683530631403e-44, 3.994487692771824e-44, 1.0193857087267472e-43, 2.58805475425694e-43, 6.536892266210645e-43, 1.6426217691047354e-42, 1.8686712039485241e-62, 1.0214019614746202e-41, 2.527552437357068e-41, 6.222906585017797e-41, 1.5447637207447866e-60, 4.5991897143185174e-60, 1.3624031605348355e-59, 2.173527028302124e-39, 5.217749190468753e-39, 3.436048070195944e-58, 9.975940478399092e-58, 2.881896238526079e-57, 1.6481835456707363e-37, 3.858983082358044e-37, 8.99051177638411e-37, 2.0842264209616537e-36, 5.3816629749015615e-55, 1.50910757551879e-54, 4.211014226201744e-54, 5.730188260263982e-35, 3.2309204646133275e-53, 2.917385544485485e-34, 2.430921931745719e-52, 6.6194035191194614e-52, 1.7937262058808936e-51, 7.132589125878885e-33, 1.2981243133202157e-50, 3.425664606565713e-32, 9.214788941104066e-50, 1.6138687844835014e-31, 6.4164803852875855e-49, 7.458482064740253e-31, 4.3831217006144486e-48, 1.1374050362683658e-47, 2.9374981647200664e-47, 1.504253279591406e-29, 3.1501084525758694e-29, 6.56557257552202e-29, 1.2462757507830694e-45, 2.8119643703723204e-28, 7.890750487448299e-45, 1.18185146827191e-27, 4.902903116374394e-44, 4.8748543522881224e-27, 2.9898449549691725e-43, 1.9734917370157484e-26, 1.7895069308275753e-42, 4.347535923421837e-42, 1.5522942492638898e-25, 2.530551718588262e-41, 6.062955774793328e-41, 1.4459288850933285e-40, 2.2757195867942873e-24, 8.110835558997346e-40, 8.475750912434136e-24, 4.466815330012155e-39, 1.0410643967080684e-38, 2.4152965423370684e-38, 5.578016722291891e-38, 1.2823566864715592e-37, 2.9346796949819434e-37, 7.315914024991632e-22, 1.3581386852138225e-21, 3.4228236810279024e-36, 7.692345851571909e-36, 1.720962094636722e-35, 1.5416938611315706e-20, 8.498121879015504e-35, 5.055665730229693e-20, 9.09373051176518e-20, 9.015943757988838e-34, 2.9028944081988724e-19, 5.151840076090275e-19, 9.187589295739617e-33, 1.97419391662872e-32, 4.2232331663016825e-32, 4.887978610509225e-18, 1.9070739300171707e-31, 1.4660089098459368e-17, 8.46039399216031e-31, 4.319715728401235e-17, 7.366102324838444e-17, 1.2505641973776886e-16, 2.1137930518613222e-16, 3.557211735849387e-16, 5.960054936603845e-16, 9.942294023715333e-16, 1.6512818564688114e-15, 2.73059024233892e-15, 4.495676007311875e-15, 7.369517050508162e-15, 1.2027932590372014e-14, 8.847003602877916e-27, 3.16248244689458e-14, 5.0946922910996717e-14, 6.743139833471078e-26, 1.3051235635783016e-13, 2.0753912944647355e-13, 4.943148267667163e-25, 5.180490754991216e-13, 8.132008972019801e-13, 3.485626134584552e-24, 6.626777489570446e-24, 3.0652829170741837e-12, 4.729688145796838e-12, 4.4379709673719526e-23, 1.1116689206910879e-11, 1.6934040037914634e-11, 2.8598021891573402e-22, 3.879432491296837e-11, 5.834379538267384e-11, 1.773419799979977e-21, 3.230527881251949e-21, 1.9345869645391096e-10, 2.8604250118535266e-10, 4.2114493987790565e-10, 3.4094902035820136e-20, 9.013992380126735e-10, 1.310404671034533e-09, 1.8969667618792447e-09, 2.7345246252844877e-09, 3.925306297351017e-09, 5.6109526810566354e-09, 7.986798601454995e-09, 1.1320970081117625e-08, 5.346256388265524e-18, 2.2461386363650503e-08, 3.14399533833579e-08, 2.6728930841743706e-17, 6.083009625294164e-08, 7.653299201025028e-17, 1.1574273397571938e-07, 1.5865811236649459e-07, 2.165809152939982e-07, 2.944211275885893e-07, 3.985750925670443e-07, 5.373351253861415e-07, 2.6658215947917337e-15, 9.6450158897091e-07, 1.2841876535564665e-06, 1.7027611334099756e-06, 1.8503804328409323e-14, 2.956711204312485e-06, 4.755381280097454e-14, 7.576256362938612e-14, 1.202072177447094e-13, 8.483526549423944e-06, 2.9888717900542465e-13, 4.683933709132367e-13, 7.310144353150694e-13, 2.2787188110924228e-05, 2.8873659846858813e-05, 2.7111567949639347e-12, 4.162260814975273e-12, 6.363877719747232e-12, 9.690215105190472e-12, 8.86775026827236e-05, 0.00010963146847477554, 3.338059237377416e-11, 5.000268053910797e-11, 0.0002021342491344007, 1.1083245089055577e-10, 0.00029778539123935353, 2.416840078432045e-10, 0.0004315969729235255, 0.0005164285953769931, 7.54811925902047e-10, 0.0007304119217723295, 0.0008633670872566029, 0.0010163820094528167, 0.001191662393127798, 0.0013915063969429842, 0.0016182804879437084, 9.333515606742219e-09, 0.00216224245472695, 1.8460194302533163e-08, 0.0028425753052317283, 0.0032394908509165063, 4.981103725978842e-08, 6.87869510401916e-08, 9.460843926996801e-08, 0.005247607623005077, 1.768115472332078e-07, 0.006518832479979069, 3.251425698215745e-07, 0.007968263108756035, 5.883358039434525e-07, 0.00958403838466034, 1.0475397127266331e-06, 1.3893684610898363e-06, 0.012265798960587453, 2.414700004338542e-06, 3.1641949148984378e-06, 0.015139182107453604, 0.016109280836707915, 6.9499099658090585e-06, 8.96172600854562e-06, 1.1509557854335101e-05, 0.019838580380815114, 0.020689821054618706, 2.3800809534601936e-05, 0.022233999354625042, 0.02291043055193153, 0.023512908114404714, 0.024034623096860063, 7.372526553910045e-05, 9.132626838459288e-05, 0.00011267671790902796, 0.02520857126954663, 0.00016946888958602812, 0.02520352753781189, 0.0002508341306490007, 0.00030333750901964977, 0.024450398300233295, 0.024011358410119598, 0.02348601337413479, 0.022880416704443827, 0.02220142573251498, 0.02145657270470121, 0.0206539262441625, 0.0012013469826682073, 0.018909339174654493, 0.0016282892302168796, 0.017037411353964995, 0.0021719451823324428, 0.0024934647768027032, 0.0028511601411247206, 0.0032471630602684326, 0.003683416269191355, 0.004161614170808843, 0.004683140734448404, 0.009569102647455325, 0.008744684834745399, 0.006515537548979634, 0.007215786373981311, 0.007959423986427065, 0.010429482490758894, 0.011321885317740069, 0.01224162657351895, 0.013183290156115558, 0.014140758701429786, 0.015107260769644082, 0.0160754350666368, 0.017984907195105156, 0.019801946727348377, 0.02479799924401829, 0.02505004693685853, 0.025256587595771186, 0.025060033797767924, 0.024812730832656598, 0.024469583923348002, 0.021491112918470234, 0.01894610675592565, 0.018021228329856795, 0.01707274262828082, 0.014170380300413052, 0.013210305101240848, 0.011343050781891368, 0.010447546772796922, 0.008756526810721017, 0.0072217626701461465, 0.005860609406338873, 0.004679773205119253, 0.004156543939225384, 0.003676912449080652, 0.00248420901828031, 0.0018743897440355176, 0.0006154221279350798, 0.00035923317038418916, 0.000245843216355426, 0.00016551880940554104, 0.00013498312992909283, 7.143532667702241e-05, 5.731031970529525e-05, 4.579010959325849e-05, 3.643580885435706e-05, 1.7909930304728866e-05, 1.4018775157687476e-05, 1.09279325043319e-05, 6.558794719473695e-06, 5.0498623750008785e-06, 3.872055841905397e-06, 2.2484336201796277e-06, 7.21399231316607e-07, 8.40839293442926e-08, 4.382366236041832e-08, 1.5979788483755895e-08, 6.174377509230047e-10, 1.3028750762198648e-10, 8.737198914443899e-11, 2.568566577177527e-11, 7.266636773856723e-12, 1.9780877185566346e-12, 1.2710286762277423e-12, 3.2860362162327734e-13, 8.171937509528086e-14, 1.9545790430513635e-14, 2.5220614288909958e-17, 8.483896791421394e-18, 2.803726729549187e-18, 1.6010755271376575e-18, 9.102380176573507e-19, 1.6283912275535042e-19, 2.798109321535568e-20, 8.456210840861473e-21, 4.617370114279323e-21, 2.509873314923751e-21, 3.923034640757912e-22, 2.0941204795831588e-22, 1.1127664491716955e-22, 5.886078613200002e-23, 3.099306880403287e-23, 1.6244874913030098e-23, 4.401966622734085e-24, 1.171091577454201e-24, 5.998735481000922e-25, 3.0585945948490455e-25, 7.841743874703541e-26, 3.943067815823277e-26, 9.831330689892628e-27, 2.4059119175518744e-27, 5.778398616679821e-28, 1.3619655015296276e-28, 7.149161639312998e-30, 3.381614109743418e-30, 1.5919294493249394e-30, 3.477762607487659e-31, 7.453345102034487e-32, 1.5669130481848766e-32, 3.2310787359743386e-33, 1.4566044490392586e-33, 6.534692786231252e-34, 1.29611401124903e-34, 2.520962712267647e-35, 1.1036498286695263e-35, 4.807939401683157e-36, 7.004510111110066e-38, 2.9619973332594205e-38, 1.2462966637802415e-38, 9.008697551509658e-40, 3.715087749207041e-40, 1.5243377347317685e-40, 4.106554422760033e-42, 5.5796238495432505e-56, 1.881443189229158e-56, 6.308868917825034e-57, 7.968204215966183e-60, 8.230370332222758e-61, 8.308125155807473e-62, 2.616882607684478e-62, 2.4302358726683426e-64, 7.434603163100179e-65, 2.2610365368971916e-65, 6.835797484992842e-66, 2.0544421786630562e-66, 5.380945727712582e-68, 1.578945416142928e-68, 1.335087582243631e-69, 3.1361553393203145e-71, 8.872277272441543e-72, 2.494559953330921e-72, 6.970504790228625e-73, 1.93569083681134e-73, 5.341941990012969e-74, 1.465020053568861e-74, 3.9926285526234497e-75, 1.0812715581429433e-75, 7.7808300147742e-77, 2.0673776482227907e-77, 5.457973950137018e-78, 3.731332076417464e-79, 9.661895635601112e-80, 2.4856147120642344e-80, 6.352823773699872e-81, 1.6130569610301102e-81, 4.0688411299891654e-82, 1.0195722258773638e-82, 2.5379289317720308e-83, 6.275422007981128e-84, 1.541331721259362e-84, 3.760334963098533e-85, 9.112164985252737e-86, 2.1931507350237016e-86, 5.242691978966286e-87, 1.2447040167241877e-87, 2.9348810499591953e-88, 6.87249130788504e-89, 1.5981724202275297e-89, 3.690668956699888e-90, 8.463396782186586e-91, 4.35754624871206e-92, 9.782978009027346e-93, 2.1807257481423575e-93, 4.826331691746196e-94, 2.313384559379007e-95, 5.0099329827702956e-96, 1.0770632207017892e-96, 2.2985816930124666e-97, 4.8693638496712106e-98, 1.0239102906881455e-98, 2.1370399178671467e-99, 4.426982860386237e-100, 9.101872343918582e-101, 1.8572241543857622e-101, 3.760896243950487e-102, 7.557781925643023e-103, 2.9823404593563825e-104, 5.855728542794698e-105, 1.1407968897169002e-105, 4.2286240343717096e-107, 8.044966346676874e-108, 1.5183666862978047e-108, 2.842736448459831e-109, 5.2793926304384184e-110, 9.72519695080815e-111, 1.7768848298085365e-111, 1.0313579984196517e-113, 1.822818490832938e-114, 9.565022783983961e-117, 2.767164727011712e-118, 4.6457395816611545e-119, 7.731657343711332e-120, 3.379588537156407e-122, 5.4277746769779236e-123, 2.1291653143479646e-125, 1.157075624541396e-128, 1.7254636506318476e-129, 2.548547968209514e-130, 3.728139055662899e-131, 5.4009793277452014e-132, 7.748226848334885e-133, 1.1006500370801631e-133, 1.5480337470323622e-134, 2.1555712349879066e-135, 2.971399496604088e-136, 4.0545412234368295e-137, 5.476070840485072e-138, 7.319932024643635e-139, 1.2675570773552158e-140, 1.6417782868700275e-141, 2.10388064221187e-142, 3.3446744554964047e-144, 4.1485698948003085e-145, 5.089080424717663e-146, 6.17353145232133e-147, 7.405215205974762e-148, 8.782267917195645e-149, 1.0296628159962961e-149, 1.1933178331080678e-150, 1.3669177755206088e-151, 1.5474092369524438e-152, 1.7309910519333916e-153, 1.9132006363486435e-154, 2.089057255012598e-155, 2.2532594699974185e-156, 2.400428604691217e-157, 2.5253846946754473e-158, 2.62343673200022e-159, 2.6906656898532535e-160, 2.72417739591217e-161, 2.7223031768581514e-162, 2.6847294373444805e-163, 2.6125427762739114e-164, 2.5081843900430517e-165, 2.3753156199821766e-166, 2.218604656172378e-167, 2.0434516570005193e-168, 1.8556750182485468e-169, 1.661184582098592e-170, 1.4656678820078202e-171, 1.2743131029477848e-172, 1.0915876786913265e-173, 9.210850192010122e-175, 7.654446142940124e-176, 6.263435995666486e-177, 5.045516219224702e-178, 4.000361388732229e-179, 3.1210249844002256e-180, 2.3955235625858154e-181, 1.808450074770637e-182, 1.3424865048385483e-183, 9.797194267692094e-185, 7.0269909613207155e-186, 4.952183349885826e-187, 3.428179221425093e-188, 2.3304807120062044e-189, 1.5552996277132936e-190, 1.0186757795556809e-191, 6.545958191756616e-193, 4.125558044496225e-194, 2.5492705438142013e-195, 1.5438985268944964e-196, 9.160749708062039e-198, 5.323364432713546e-199, 3.028384565049282e-200, 1.6858737734409854e-201, 9.179948220156588e-203, 4.887203075600677e-204, 2.542615561792856e-205, 1.2920732437438514e-206, 6.409966702007312e-208, 3.102788338275013e-209, 1.4646385741520443e-210, 6.738027286754122e-212, 3.0191729663250455e-213, 1.316773256342426e-214, 5.586005788261157e-216, 2.3032562726625565e-217, 9.223566309286609e-219, 3.5844044765867675e-220, 1.3505830264641435e-221, 4.929617042987027e-223, 1.7412808979810837e-224, 5.9461594976912306e-226, 1.9608030832213062e-227, 6.236556569131081e-229, 1.9108005915341042e-230, 5.6318333224218904e-232, 1.5944308101126745e-233, 4.329004623689226e-235, 1.12523368487982e-236, 2.794785024541078e-238, 6.619227689695555e-240, 1.491536900946928e-241, 3.1896410305349414e-243, 6.45544953441848e-245, 1.2326676742541916e-246, 2.213071539137738e-248, 3.721135554756621e-250, 5.8338071407127045e-252, 8.48406855643778e-254, 1.137770888310761e-255, 1.3972624944141202e-257, 1.5583680696127046e-259, 1.5626674721804638e-261, 1.3914672991278623e-263, 1.083054606438109e-265, 7.218454398900777e-268, 4.005166518093031e-270, 1.776033297366046e-272, 5.90075402035117e-275, 1.3056828873881886e-277)\n"
     ]
    }
   ],
   "source": [
    "print(values)"
   ]
  },
  {
   "cell_type": "code",
   "execution_count": null,
   "metadata": {},
   "outputs": [],
   "source": []
  }
 ],
 "metadata": {
  "kernelspec": {
   "display_name": "Python 3",
   "language": "python",
   "name": "python3"
  },
  "language_info": {
   "codemirror_mode": {
    "name": "ipython",
    "version": 3
   },
   "file_extension": ".py",
   "mimetype": "text/x-python",
   "name": "python",
   "nbconvert_exporter": "python",
   "pygments_lexer": "ipython3",
   "version": "3.7.0"
  }
 },
 "nbformat": 4,
 "nbformat_minor": 2
}
