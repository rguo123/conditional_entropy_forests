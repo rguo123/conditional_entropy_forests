{
 "cells": [
  {
   "cell_type": "markdown",
   "metadata": {},
   "source": [
    "# Bias Correction for Continuous Y\n",
    "This notebook attempts to fix the bias for the continuous Y case."
   ]
  },
  {
   "cell_type": "code",
   "execution_count": 2,
   "metadata": {},
   "outputs": [
    {
     "data": {
      "image/png": "[encoded data removed]",
      "text/plain": [
       "<Figure size 432x288 with 1 Axes>"
      ]
     },
     "metadata": {},
     "output_type": "display_data"
    },
    {
     "data": {
      "image/png": "[encoded data removed]",
      "text/plain": [
       "<Figure size 432x288 with 1 Axes>"
      ]
     },
     "metadata": {},
     "output_type": "display_data"
    }
   ],
   "source": [
    "import numpy as np\n",
    "import seaborn as sns\n",
    "import matplotlib.pyplot as plt\n",
    "sns.set(font_scale=1.2)\n",
    "%matplotlib inline\n",
    "\n",
    "def get_cont_sample(n,  rho):\n",
    "    x_sample = []\n",
    "    y_sample = []\n",
    "    means = np.zeros(2)\n",
    "    cov = np.array(((1, rho), (rho, 1)))\n",
    "    for i in range(n):\n",
    "        x = np.random.multivariate_normal(means, cov)\n",
    "        x_sample.append(x[0])\n",
    "        y_sample.append(x[1])\n",
    "    return np.array(x_sample), np.array(y_sample)\n",
    "\n",
    "\n",
    "\n",
    "X, y = get_cont_sample(100, 1)\n",
    "plt.scatter(X, y, c = 'b')\n",
    "plt.title(\"Distribution Plot with rho = 1\")\n",
    "plt.xlabel(\"x\")\n",
    "plt.ylabel(\"y\")\n",
    "plt.show()\n",
    "\n",
    "X, y = get_cont_sample(100, 0)\n",
    "plt.scatter(X, y, c = 'b')\n",
    "plt.title(\"Distribution Plot with rho = 0\")\n",
    "plt.xlabel(\"x\")\n",
    "plt.ylabel(\"y\")\n",
    "plt.show()\n"
   ]
  },
  {
   "cell_type": "code",
   "execution_count": 2,
   "metadata": {},
   "outputs": [
    {
     "name": "stderr",
     "output_type": "stream",
     "text": [
      "/usr/local/lib/python3.7/site-packages/sklearn/ensemble/weight_boosting.py:29: DeprecationWarning: numpy.core.umath_tests is an internal NumPy module and should not be imported. It will be removed in a future NumPy release.\n",
      "  from numpy.core.umath_tests import inner1d\n"
     ]
    },
    {
     "data": {
      "text/plain": [
       "0.08738729158795691"
      ]
     },
     "execution_count": 2,
     "metadata": {},
     "output_type": "execute_result"
    }
   ],
   "source": [
    "from sklearn.ensemble.forest import _generate_unsampled_indices\n",
    "from sklearn.ensemble import BaggingRegressor\n",
    "from sklearn.tree import DecisionTreeRegressor\n",
    "import math\n",
    "\n",
    "np.warnings.filterwarnings('ignore')\n",
    "\n",
    "def inspect_leaf_elems(leaf_elems):\n",
    "    count = 0\n",
    "    for leaf in leaf_elems:\n",
    "        if len(leaf) > 1:\n",
    "            print(leaf)\n",
    "            count += 1\n",
    "        if count == 5:\n",
    "            return\n",
    "\n",
    "def rf_entropy_estimate_bagging(X, y, n_estimators = 500, max_samples = .32, bootstrap = True, depth = 30, min_samples_leaf = 5):\n",
    "    model = BaggingRegressor(DecisionTreeRegressor(max_depth = depth, min_samples_leaf = min_samples_leaf, max_features = int(math.ceil(X.shape[1]/3))), \n",
    "                              n_estimators = n_estimators, \n",
    "                              max_samples= max_samples, \n",
    "                              bootstrap = bootstrap)\n",
    "    model.fit(X, y)\n",
    "    posterior_counts = [[] for _ in range(len(X))]\n",
    "    for tree_idx in range(n_estimators):\n",
    "        tree = model[tree_idx]\n",
    "        unsampled_indices = np.where(model.estimators_samples_[tree_idx] == False)[0]\n",
    "        total_unsampled = len(unsampled_indices)\n",
    "        np.random.shuffle(unsampled_indices)\n",
    "        prob_indices, eval_indices = unsampled_indices[:total_unsampled//2], unsampled_indices[total_unsampled//2:]\n",
    "        node_counts = tree.tree_.n_node_samples\n",
    "        leaf_elems = [[] for _ in range(len(node_counts))]\n",
    "        for prob_index in prob_indices:\n",
    "            leaf_elems[tree.apply(X[prob_index].reshape(1, -1)).item()].append(y[prob_index])\n",
    "        for eval_index in eval_indices:\n",
    "            # for every x, collect all y samples in the leaf nodes x fell into (for entire forest)\n",
    "            posterior_counts[eval_index].extend(leaf_elems[tree.apply(X[eval_index].reshape(1, -1)).item()])\n",
    "    # for every x, approximate histogram entropy\n",
    "    entropy_estimates = []\n",
    "    for elem in posterior_counts:\n",
    "        elem.sort()\n",
    "        entropy = 0.\n",
    "        hist = np.histogram(elem, bins = \"auto\")\n",
    "        pdf = hist[0]/len(elem)\n",
    "        for i in range(len(pdf)):\n",
    "            incr = -pdf[i]*np.log(pdf[i]/(hist[1][i + 1] - hist[1][i]))\n",
    "            if not np.isnan(incr) and incr >= 0:\n",
    "                entropy += incr\n",
    "        entropy_estimates.append(entropy)\n",
    "    return np.mean(entropy_estimates)\n",
    "np.warnings.filterwarnings('ignore')\n",
    "\n",
    "X, y = get_cont_sample(500, 1)\n",
    "rf_entropy_estimate_bagging(np.array(X).reshape(-1, 1), y, 500, .32)\n",
    "\n"
   ]
  },
  {
   "cell_type": "markdown",
   "metadata": {},
   "source": [
    "## Method 1: Using expected value in each leaf"
   ]
  },
  {
   "cell_type": "code",
   "execution_count": 36,
   "metadata": {},
   "outputs": [],
   "source": [
    "from sklearn.ensemble.forest import _generate_unsampled_indices\n",
    "from sklearn.ensemble import BaggingRegressor\n",
    "from sklearn.tree import DecisionTreeRegressor\n",
    "\n",
    "def inspect_leaf_elems(leaf_elems):\n",
    "    count = 0\n",
    "    for leaf in leaf_elems:\n",
    "        if len(leaf) > 1:\n",
    "            print(leaf)\n",
    "            count += 1\n",
    "        if count == 5:\n",
    "            return\n",
    "        \n",
    "X, y = get_cont_sample(10000, 0)\n",
    "X = np.array(X).reshape(-1, 1)\n",
    "\n",
    "n_estimators = 200\n",
    "max_samples = .32\n",
    "bootstrap = True\n",
    "depth = 30\n",
    "min_samples_leaf = 1"
   ]
  },
  {
   "cell_type": "code",
   "execution_count": 37,
   "metadata": {},
   "outputs": [],
   "source": [
    "model = BaggingRegressor(DecisionTreeRegressor(max_depth = depth, min_samples_leaf = min_samples_leaf), \n",
    "                         n_estimators = n_estimators, \n",
    "                         max_samples= max_samples, \n",
    "                         bootstrap = bootstrap)\n",
    "model.fit(X, y)\n",
    "posterior_counts = [[] for _ in range(len(X))]\n",
    "for tree_idx in range(n_estimators):\n",
    "    tree = model[tree_idx]\n",
    "    unsampled_indices = np.where(model.estimators_samples_[tree_idx] == False)[0]\n",
    "    total_unsampled = len(unsampled_indices)\n",
    "    np.random.shuffle(unsampled_indices)\n",
    "    prob_indices, eval_indices = unsampled_indices[:total_unsampled//2], unsampled_indices[total_unsampled//2:]\n",
    "    node_counts = tree.tree_.n_node_samples\n",
    "    leaf_elems = [[] for _ in range(len(node_counts))]\n",
    "    for prob_index in prob_indices:\n",
    "        leaf_elems[tree.apply(X[prob_index].item()).item()].append(y[prob_index])\n",
    "        \n",
    "    leaf_averages = [[] for _ in range(len(node_counts))]\n",
    "    for i in range(len(leaf_elems)):\n",
    "        leaf_averages[i].append(np.mean(leaf_elems[i]).item())\n",
    "    for eval_index in eval_indices:\n",
    "        # for every x, collect all y samples in the leaf nodes x fell into (for entire forest)\n",
    "        posterior_counts[eval_index].extend(leaf_averages[tree.apply(X[eval_index].item()).item()])\n",
    "\n",
    "\n",
    "np.warnings.filterwarnings('ignore')\n",
    "\n"
   ]
  },
  {
   "cell_type": "code",
   "execution_count": 38,
   "metadata": {},
   "outputs": [
    {
     "data": {
      "image/png": "[encoded data removed]",
      "text/plain": [
       "<Figure size 432x288 with 1 Axes>"
      ]
     },
     "metadata": {},
     "output_type": "display_data"
    }
   ],
   "source": [
    "test = np.array(posterior_counts[0])\n",
    "test = test[~np.isnan(test)]\n",
    "\n",
    "plt.hist(test, normed=True)\n",
    "plt.show()"
   ]
  },
  {
   "cell_type": "code",
   "execution_count": 39,
   "metadata": {},
   "outputs": [
    {
     "name": "stdout",
     "output_type": "stream",
     "text": [
      "0.5861491359458034\n"
     ]
    }
   ],
   "source": [
    "entropy_estimates = []\n",
    "for elem in posterior_counts:\n",
    "    elem = np.array(elem)\n",
    "    elem = elem[~np.isnan(elem)]\n",
    "    elem.sort()\n",
    "    entropy = 0.\n",
    "    hist = np.histogram(elem, bins = \"auto\")\n",
    "    pdf = hist[0]/len(elem)\n",
    "    for i in range(len(pdf)):\n",
    "        incr = -pdf[i]*np.log(pdf[i]/(hist[1][i + 1] - hist[1][i]))\n",
    "        if not np.isnan(incr) and incr >= 0:\n",
    "            entropy += incr\n",
    "    entropy_estimates.append(entropy)\n",
    "print(np.mean(entropy_estimates))"
   ]
  },
  {
   "cell_type": "markdown",
   "metadata": {},
   "source": [
    "## Conclusion: expected value doesn't work"
   ]
  },
  {
   "cell_type": "code",
   "execution_count": 46,
   "metadata": {},
   "outputs": [
    {
     "data": {
      "application/vnd.jupyter.widget-view+json": {
       "model_id": "11e3776c155d41e3818b8227c10b108b",
       "version_major": 2,
       "version_minor": 0
      },
      "text/plain": [
       "HBox(children=(IntProgress(value=0, max=25), HTML(value='')))"
      ]
     },
     "metadata": {},
     "output_type": "display_data"
    },
    {
     "data": {
      "image/png": "[encoded data removed]",
      "text/plain": [
       "<Figure size 432x288 with 1 Axes>"
      ]
     },
     "metadata": {},
     "output_type": "display_data"
    }
   ],
   "source": [
    "from tqdm import tqdm_notebook\n",
    "\n",
    "from scipy.stats import multivariate_normal\n",
    "\n",
    "\n",
    "def estimate_multivariate_entropy(X):\n",
    "    mean = np.mean(X, axis = 0)\n",
    "    covar = np.cov(X, rowvar = False)\n",
    "    return multivariate_normal.entropy(mean, covar)\n",
    "\n",
    "def plugin_estimate_continuous(X, y):\n",
    "    joint = np.concatenate((y.reshape(-1, 1), X), axis = 1)\n",
    "    joint_entropy = estimate_multivariate_entropy(joint)\n",
    "    h_x = estimate_multivariate_entropy(X)\n",
    "    cond_entr =  joint_entropy - h_x\n",
    "    if cond_entr < 0:\n",
    "        return 0\n",
    "    return cond_entr\n",
    "\n",
    "def truth_1d(rho):\n",
    "    return multivariate_normal.entropy([0, 0], np.array([[1, rho], [rho, 1]])) - multivariate_normal.entropy([0], [1]) \n",
    "\n",
    "\n",
    "def get_cond_entropy_vs_mu(n):\n",
    "    conditional_entropy = []\n",
    "    plugin_estimate = []\n",
    "    truth = []\n",
    "    rho = [i*.04 for i in range(0, 25)]\n",
    "    for elem in tqdm_notebook(rho):\n",
    "        X, y = get_cont_sample(n, elem)\n",
    "        plugin_estimate.append(plugin_estimate_continuous(X.reshape(-1, 1), y))\n",
    "        conditional_entropy.append(rf_entropy_estimate_bagging(X.reshape(-1, 1), y, 300, .32, depth = 30))\n",
    "        truth.append(truth_1d(elem))\n",
    "    return rho, conditional_entropy, plugin_estimate, truth\n",
    "\n",
    "rhos, cond_entropy, plugin_estimate, truth = get_cond_entropy_vs_mu(20000)\n",
    "\n",
    "sns.set(font_scale = 1.3)\n",
    "sns.set_style(\"ticks\")\n",
    "plt.rcParams[\"font.family\"] = \"Times New Roman\"\n",
    "line_est, = plt.plot(rhos, cond_entropy, label = \"CEF\", linewidth = 2, color = \"red\")\n",
    "line_plugin, = plt.plot(rhos, plugin_estimate, label = \"Plugin\", linewidth = 3, color = \"#94D6C9\")\n",
    "line_truth, = plt.plot(rhos, truth, label = \"Truth\", linewidth = 2, color = \"#4a484c\")\n",
    "\n",
    "plt.ylim(ymin = -.05)\n",
    "plt.ylim(ymax = 1.6)\n",
    "plt.legend(handles=[line_est, line_truth, line_plugin])\n",
    "plt.xlabel(u\"\\u03C1\")\n",
    "plt.ylabel(\"H(Y|X)\")\n",
    "plt.tight_layout()\n",
    "plt.savefig(\"cont_1d_n20000_conv0.png\")\n",
    "plt.show()"
   ]
  },
  {
   "cell_type": "markdown",
   "metadata": {},
   "source": [
    "# Fix bin width?"
   ]
  },
  {
   "cell_type": "code",
   "execution_count": 65,
   "metadata": {},
   "outputs": [
    {
     "data": {
      "text/plain": [
       "3.061026655743292"
      ]
     },
     "execution_count": 65,
     "metadata": {},
     "output_type": "execute_result"
    }
   ],
   "source": [
    "from sklearn.ensemble.forest import _generate_unsampled_indices\n",
    "from sklearn.ensemble import BaggingRegressor\n",
    "from sklearn.tree import DecisionTreeRegressor\n",
    "import math\n",
    "\n",
    "np.warnings.filterwarnings('ignore')\n",
    "\n",
    "def rf_entropy_estimate_bagging(X, y, n_estimators = 500, max_samples = .32, bootstrap = True, depth = 30, min_samples_leaf = 5):\n",
    "    model = BaggingRegressor(DecisionTreeRegressor(max_depth = depth, min_samples_leaf = min_samples_leaf, max_features = int(math.ceil(X.shape[1]/3))), \n",
    "                              n_estimators = n_estimators, \n",
    "                              max_samples= max_samples, \n",
    "                              bootstrap = bootstrap)\n",
    "    model.fit(X, y)\n",
    "    posterior_counts = [[] for _ in range(len(X))]\n",
    "    for tree_idx in range(n_estimators):\n",
    "        tree = model[tree_idx]\n",
    "        unsampled_indices = np.where(model.estimators_samples_[tree_idx] == False)[0]\n",
    "        total_unsampled = len(unsampled_indices)\n",
    "        np.random.shuffle(unsampled_indices)\n",
    "        prob_indices, eval_indices = unsampled_indices[:total_unsampled//2], unsampled_indices[total_unsampled//2:]\n",
    "        node_counts = tree.tree_.n_node_samples\n",
    "        leaf_elems = [[] for _ in range(len(node_counts))]\n",
    "        for prob_index in prob_indices:\n",
    "            leaf_elems[tree.apply(X[prob_index].reshape(1, -1)).item()].append(y[prob_index])\n",
    "        for eval_index in eval_indices:\n",
    "            # for every x, collect all y samples in the leaf nodes x fell into (for entire forest)\n",
    "            posterior_counts[eval_index].extend(leaf_elems[tree.apply(X[eval_index].reshape(1, -1)).item()])\n",
    "    # for every x, approximate histogram entropy\n",
    "    entropy_estimates = []\n",
    "    for elem in posterior_counts:\n",
    "        elem.sort()\n",
    "        entropy = 0.\n",
    "        hist = np.histogram(elem, bins = \"auto\")\n",
    "        pdf = hist[0]/len(elem)\n",
    "        for i in range(len(pdf)):\n",
    "            incr = -pdf[i]*np.log(pdf[i])\n",
    "            if not np.isnan(incr) and incr >= 0 and not np.isinf(incr):\n",
    "                entropy += incr\n",
    "        entropy_estimates.append(entropy)\n",
    "        break\n",
    "    return np.mean(entropy_estimates)\n",
    "np.warnings.filterwarnings('ignore')\n",
    "\n",
    "X, y = get_cont_sample(5000, 0)\n",
    "rf_entropy_estimate_bagging(np.array(X).reshape(-1, 1), y, 500, .32)\n",
    "\n"
   ]
  },
  {
   "cell_type": "markdown",
   "metadata": {},
   "source": [
    "## Nonparametric Methods"
   ]
  },
  {
   "cell_type": "code",
   "execution_count": 3,
   "metadata": {},
   "outputs": [
    {
     "data": {
      "text/plain": [
       "BaggingRegressor(base_estimator=DecisionTreeRegressor(criterion='mse', max_depth=30, max_features=None,\n",
       "           max_leaf_nodes=None, min_impurity_decrease=0.0,\n",
       "           min_impurity_split=None, min_samples_leaf=1,\n",
       "           min_samples_split=2, min_weight_fraction_leaf=0.0,\n",
       "           presort=False, random_state=None, splitter='best'),\n",
       "         bootstrap=True, bootstrap_features=False, max_features=1.0,\n",
       "         max_samples=0.32, n_estimators=200, n_jobs=1, oob_score=False,\n",
       "         random_state=None, verbose=0, warm_start=False)"
      ]
     },
     "execution_count": 3,
     "metadata": {},
     "output_type": "execute_result"
    }
   ],
   "source": [
    "\n",
    "np.warnings.filterwarnings('ignore')\n",
    "from sklearn.ensemble.forest import _generate_unsampled_indices\n",
    "from sklearn.ensemble import BaggingRegressor\n",
    "from sklearn.tree import DecisionTreeRegressor\n",
    "\n",
    "X, y = get_cont_sample(3000, 0)\n",
    "X = np.array(X).reshape(-1, 1)\n",
    "\n",
    "n_estimators = 200\n",
    "max_samples = .32\n",
    "bootstrap = True\n",
    "depth = 30\n",
    "min_samples_leaf = 1\n",
    "\n",
    "def inspect_leaf_elems(leaf_elems):\n",
    "    count = 0\n",
    "    for leaf in leaf_elems:\n",
    "        if len(leaf) > 1:\n",
    "            print(leaf)\n",
    "            count += 1\n",
    "        if count == 5:\n",
    "            return\n",
    "        \n",
    "model = BaggingRegressor(DecisionTreeRegressor(max_depth = depth, min_samples_leaf = min_samples_leaf), \n",
    "                         n_estimators = n_estimators, \n",
    "                         max_samples= max_samples, \n",
    "                         bootstrap = bootstrap)\n",
    "model.fit(X, y)"
   ]
  },
  {
   "cell_type": "code",
   "execution_count": 4,
   "metadata": {},
   "outputs": [
    {
     "data": {
      "image/png": "[encoded data removed]",
      "text/plain": [
       "<Figure size 432x288 with 1 Axes>"
      ]
     },
     "metadata": {},
     "output_type": "display_data"
    }
   ],
   "source": [
    "posterior_counts = [[] for _ in range(len(X))]\n",
    "for tree_idx in range(n_estimators):\n",
    "    tree = model[tree_idx]\n",
    "    unsampled_indices = np.where(model.estimators_samples_[tree_idx] == False)[0]\n",
    "    total_unsampled = len(unsampled_indices)\n",
    "    np.random.shuffle(unsampled_indices)\n",
    "    prob_indices, eval_indices = unsampled_indices[:total_unsampled//2], unsampled_indices[total_unsampled//2:]\n",
    "    node_counts = tree.tree_.n_node_samples\n",
    "    leaf_elems = [[] for _ in range(len(node_counts))]\n",
    "    for prob_index in prob_indices:\n",
    "        leaf_elems[tree.apply(X[prob_index].item()).item()].append(y[prob_index])\n",
    "    for eval_index in eval_indices:\n",
    "        # for every x, collect all y samples in the leaf nodes x fell into (for entire forest)\n",
    "        posterior_counts[eval_index].extend(leaf_elems[tree.apply(X[eval_index].item()).item()])\n",
    "    \n",
    "test = posterior_counts[0]\n",
    "plt.hist(test, normed=True, bins=30)\n",
    "plt.show()"
   ]
  },
  {
   "cell_type": "code",
   "execution_count": 31,
   "metadata": {},
   "outputs": [
    {
     "data": {
      "text/plain": [
       "KernelDensity(algorithm='auto', atol=0, bandwidth=0.289031108583934,\n",
       "       breadth_first=True, kernel='gaussian', leaf_size=40,\n",
       "       metric='euclidean', metric_params=None, rtol=0)"
      ]
     },
     "execution_count": 31,
     "metadata": {},
     "output_type": "execute_result"
    }
   ],
   "source": [
    "from sklearn.neighbors import KernelDensity\n",
    "std = np.std(test)\n",
    "bandwidth = len(test)**(-1/5)*1.06*std\n",
    "\n",
    "kde = KernelDensity(bandwidth = bandwidth)\n",
    "samples = np.array(test).reshape(-1, 1)\n",
    "kde.fit(samples)"
   ]
  },
  {
   "cell_type": "code",
   "execution_count": 32,
   "metadata": {},
   "outputs": [],
   "source": [
    "log_density = kde.score_samples(samples)"
   ]
  },
  {
   "cell_type": "code",
   "execution_count": 33,
   "metadata": {},
   "outputs": [],
   "source": [
    "density = np.exp(log_density)"
   ]
  },
  {
   "cell_type": "code",
   "execution_count": 34,
   "metadata": {},
   "outputs": [
    {
     "name": "stdout",
     "output_type": "stream",
     "text": [
      "1.3983059587199387\n"
     ]
    }
   ],
   "source": [
    "entr = 0.\n",
    "for elem in density:\n",
    "    entr -= 1/len(samples)*np.log(elem)\n",
    "print(entr)"
   ]
  },
  {
   "cell_type": "markdown",
   "metadata": {},
   "source": [
    "### This is good! What about when correlation is 1"
   ]
  },
  {
   "cell_type": "code",
   "execution_count": 35,
   "metadata": {},
   "outputs": [
    {
     "data": {
      "image/png": "[encoded data removed]",
      "text/plain": [
       "<Figure size 432x288 with 1 Axes>"
      ]
     },
     "metadata": {},
     "output_type": "display_data"
    }
   ],
   "source": [
    "\n",
    "np.warnings.filterwarnings('ignore')\n",
    "from sklearn.ensemble.forest import _generate_unsampled_indices\n",
    "from sklearn.ensemble import BaggingRegressor\n",
    "from sklearn.tree import DecisionTreeRegressor\n",
    "\n",
    "X, y = get_cont_sample(3000, 1)\n",
    "X = np.array(X).reshape(-1, 1)\n",
    "\n",
    "n_estimators = 200\n",
    "max_samples = .32\n",
    "bootstrap = True\n",
    "depth = 30\n",
    "min_samples_leaf = 1\n",
    "\n",
    "def inspect_leaf_elems(leaf_elems):\n",
    "    count = 0\n",
    "    for leaf in leaf_elems:\n",
    "        if len(leaf) > 1:\n",
    "            print(leaf)\n",
    "            count += 1\n",
    "        if count == 5:\n",
    "            return\n",
    "        \n",
    "model = BaggingRegressor(DecisionTreeRegressor(max_depth = depth, min_samples_leaf = min_samples_leaf), \n",
    "                         n_estimators = n_estimators, \n",
    "                         max_samples= max_samples, \n",
    "                         bootstrap = bootstrap)\n",
    "model.fit(X, y)\n",
    "posterior_counts = [[] for _ in range(len(X))]\n",
    "for tree_idx in range(n_estimators):\n",
    "    tree = model[tree_idx]\n",
    "    unsampled_indices = np.where(model.estimators_samples_[tree_idx] == False)[0]\n",
    "    total_unsampled = len(unsampled_indices)\n",
    "    np.random.shuffle(unsampled_indices)\n",
    "    prob_indices, eval_indices = unsampled_indices[:total_unsampled//2], unsampled_indices[total_unsampled//2:]\n",
    "    node_counts = tree.tree_.n_node_samples\n",
    "    leaf_elems = [[] for _ in range(len(node_counts))]\n",
    "    for prob_index in prob_indices:\n",
    "        leaf_elems[tree.apply(X[prob_index].item()).item()].append(y[prob_index])\n",
    "    for eval_index in eval_indices:\n",
    "        # for every x, collect all y samples in the leaf nodes x fell into (for entire forest)\n",
    "        posterior_counts[eval_index].extend(leaf_elems[tree.apply(X[eval_index].item()).item()])\n",
    "    \n",
    "test = posterior_counts[0]\n",
    "plt.hist(test, normed=True, bins=30)\n",
    "plt.show()"
   ]
  },
  {
   "cell_type": "code",
   "execution_count": 36,
   "metadata": {},
   "outputs": [],
   "source": [
    "from sklearn.neighbors import KernelDensity\n",
    "std = np.std(test)\n",
    "bandwidth = len(test)**(-1/5)*1.06*std\n",
    "\n",
    "kde = KernelDensity(bandwidth = bandwidth)\n",
    "samples = np.array(test).reshape(-1, 1)\n",
    "kde.fit(samples)\n",
    "log_density = kde.score_samples(samples)\n",
    "density = np.exp(log_density)"
   ]
  },
  {
   "cell_type": "code",
   "execution_count": 40,
   "metadata": {},
   "outputs": [
    {
     "name": "stdout",
     "output_type": "stream",
     "text": [
      "0.0\n"
     ]
    }
   ],
   "source": [
    "entr = 0.\n",
    "for elem in density:\n",
    "    incr = -1/len(samples)*np.log(elem)\n",
    "    if np.isnan(incr) or np.isinf(incr) or incr < 0:\n",
    "        continue\n",
    "    entr += incr\n",
    "print(entr)"
   ]
  },
  {
   "cell_type": "markdown",
   "metadata": {},
   "source": [
    "### This might be it!!!"
   ]
  },
  {
   "cell_type": "code",
   "execution_count": 1,
   "metadata": {},
   "outputs": [
    {
     "name": "stderr",
     "output_type": "stream",
     "text": [
      "/usr/local/lib/python3.7/site-packages/sklearn/ensemble/weight_boosting.py:29: DeprecationWarning: numpy.core.umath_tests is an internal NumPy module and should not be imported. It will be removed in a future NumPy release.\n",
      "  from numpy.core.umath_tests import inner1d\n"
     ]
    },
    {
     "ename": "NameError",
     "evalue": "name 'get_cont_sample' is not defined",
     "output_type": "error",
     "traceback": [
      "\u001b[0;31m---------------------------------------------------------------------------\u001b[0m",
      "\u001b[0;31mNameError\u001b[0m                                 Traceback (most recent call last)",
      "\u001b[0;32m<ipython-input-1-97f255d36ea1>\u001b[0m in \u001b[0;36m<module>\u001b[0;34m()\u001b[0m\n\u001b[1;32m      5\u001b[0m \u001b[0;32mimport\u001b[0m \u001b[0mmath\u001b[0m\u001b[0;34m\u001b[0m\u001b[0m\n\u001b[1;32m      6\u001b[0m \u001b[0;34m\u001b[0m\u001b[0m\n\u001b[0;32m----> 7\u001b[0;31m \u001b[0mX\u001b[0m\u001b[0;34m,\u001b[0m \u001b[0my\u001b[0m \u001b[0;34m=\u001b[0m \u001b[0mget_cont_sample\u001b[0m\u001b[0;34m(\u001b[0m\u001b[0;36m3000\u001b[0m\u001b[0;34m,\u001b[0m \u001b[0;36m1\u001b[0m\u001b[0;34m)\u001b[0m\u001b[0;34m\u001b[0m\u001b[0m\n\u001b[0m\u001b[1;32m      8\u001b[0m \u001b[0mX\u001b[0m \u001b[0;34m=\u001b[0m \u001b[0mnp\u001b[0m\u001b[0;34m.\u001b[0m\u001b[0marray\u001b[0m\u001b[0;34m(\u001b[0m\u001b[0mX\u001b[0m\u001b[0;34m)\u001b[0m\u001b[0;34m.\u001b[0m\u001b[0mreshape\u001b[0m\u001b[0;34m(\u001b[0m\u001b[0;34m-\u001b[0m\u001b[0;36m1\u001b[0m\u001b[0;34m,\u001b[0m \u001b[0;36m1\u001b[0m\u001b[0;34m)\u001b[0m\u001b[0;34m\u001b[0m\u001b[0m\n\u001b[1;32m      9\u001b[0m \u001b[0;34m\u001b[0m\u001b[0m\n",
      "\u001b[0;31mNameError\u001b[0m: name 'get_cont_sample' is not defined"
     ]
    }
   ],
   "source": [
    "from sklearn.ensemble.forest import _generate_unsampled_indices\n",
    "from sklearn.ensemble import BaggingRegressor\n",
    "from sklearn.tree import DecisionTreeRegressor\n",
    "from sklearn.neighbors import KernelDensity\n",
    "import math\n",
    "\n",
    "X, y = get_cont_sample(3000, 1)\n",
    "X = np.array(X).reshape(-1, 1)\n",
    "\n",
    "def rf_entropy_estimate_bagging(X, y, n_estimators = 200, max_samples = .32, bootstrap = True, depth = 30, min_samples_leaf = 5):\n",
    "    model = BaggingRegressor(DecisionTreeRegressor(max_depth = depth, min_samples_leaf = min_samples_leaf, max_features = int(math.ceil(X.shape[1]/3))), \n",
    "                              n_estimators = n_estimators, \n",
    "                              max_samples= max_samples, \n",
    "                              bootstrap = bootstrap)\n",
    "    model.fit(X, y)\n",
    "    posterior_counts = [[] for _ in range(len(X))]\n",
    "    for tree_idx in range(n_estimators):\n",
    "        tree = model[tree_idx]\n",
    "        unsampled_indices = np.where(model.estimators_samples_[tree_idx] == False)[0]\n",
    "        total_unsampled = len(unsampled_indices)\n",
    "        np.random.shuffle(unsampled_indices)\n",
    "        prob_indices, eval_indices = unsampled_indices[:total_unsampled//2], unsampled_indices[total_unsampled//2:]\n",
    "        node_counts = tree.tree_.n_node_samples\n",
    "        leaf_elems = [[] for _ in range(len(node_counts))]\n",
    "        for prob_index in prob_indices:\n",
    "            leaf_elems[tree.apply(X[prob_index].reshape(1, -1)).item()].append(y[prob_index])\n",
    "        for eval_index in eval_indices:\n",
    "            # for every x, collect all y samples in the leaf nodes x fell into (for entire forest)\n",
    "            posterior_counts[eval_index].extend(leaf_elems[tree.apply(X[eval_index].reshape(1, -1)).item()])\n",
    "    # for every x, approximate histogram entropy\n",
    "    entropy_estimates = []\n",
    "    for sample in posterior_counts:\n",
    "        sample = np.array(sample).reshape(-1, 1)\n",
    "        std = np.std(sample)\n",
    "        bandwidth = len(sample)**(-1/5)*1.06*std\n",
    "        kde = KernelDensity(bandwidth = bandwidth)\n",
    "        kde.fit(sample)\n",
    "        density = np.exp(kde.score_samples(sample))\n",
    "        entr = 0.\n",
    "        # this can be sped up\n",
    "        for elem in density:\n",
    "            incr = -1/len(sample)*np.log(elem)\n",
    "            if np.isnan(incr) or np.isinf(incr) or incr < 0:\n",
    "                continue\n",
    "            entr += incr\n",
    "        entropy_estimates.append(entr)\n",
    "    return np.mean(entropy_estimates)\n",
    "\n",
    "np.warnings.filterwarnings('ignore')\n",
    "\n",
    "X, y = get_cont_sample(1000, 1)\n",
    "rf_entropy_estimate_bagging(np.array(X).reshape(-1, 1), y, 200, .32)\n",
    "\n"
   ]
  },
  {
   "cell_type": "code",
   "execution_count": 6,
   "metadata": {},
   "outputs": [
    {
     "data": {
      "application/vnd.jupyter.widget-view+json": {
       "model_id": "54236e851b4847289170e9220e778bf6",
       "version_major": 2,
       "version_minor": 0
      },
      "text/plain": [
       "HBox(children=(IntProgress(value=0, max=25), HTML(value='')))"
      ]
     },
     "metadata": {},
     "output_type": "display_data"
    },
    {
     "name": "stdout",
     "output_type": "stream",
     "text": [
      "\n"
     ]
    },
    {
     "data": {
      "image/png": "[encoded data removed]",
      "text/plain": [
       "<Figure size 432x288 with 1 Axes>"
      ]
     },
     "metadata": {},
     "output_type": "display_data"
    }
   ],
   "source": [
    "from tqdm import tqdm_notebook\n",
    "\n",
    "from scipy.stats import multivariate_normal\n",
    "\n",
    "\n",
    "def estimate_multivariate_entropy(X):\n",
    "    mean = np.mean(X, axis = 0)\n",
    "    covar = np.cov(X, rowvar = False)\n",
    "    return multivariate_normal.entropy(mean, covar)\n",
    "\n",
    "def plugin_estimate_continuous(X, y):\n",
    "    joint = np.concatenate((y.reshape(-1, 1), X), axis = 1)\n",
    "    joint_entropy = estimate_multivariate_entropy(joint)\n",
    "    h_x = estimate_multivariate_entropy(X)\n",
    "    cond_entr =  joint_entropy - h_x\n",
    "    if cond_entr < 0:\n",
    "        return 0\n",
    "    return cond_entr\n",
    "\n",
    "def truth_1d(rho):\n",
    "    return multivariate_normal.entropy([0, 0], np.array([[1, rho], [rho, 1]])) - multivariate_normal.entropy([0], [1]) \n",
    "\n",
    "\n",
    "def get_cond_entropy_vs_mu(n):\n",
    "    conditional_entropy = []\n",
    "    plugin_estimate = []\n",
    "    truth = []\n",
    "    rho = [i*.04 for i in range(0, 25)]\n",
    "    for elem in tqdm_notebook(rho):\n",
    "        X, y = get_cont_sample(n, elem)\n",
    "        plugin_estimate.append(plugin_estimate_continuous(X.reshape(-1, 1), y))\n",
    "        conditional_entropy.append(rf_entropy_estimate_bagging(X.reshape(-1, 1), y, 300, .32, depth = 30))\n",
    "        truth.append(truth_1d(elem))\n",
    "    return rho, conditional_entropy, plugin_estimate, truth\n",
    "\n",
    "rhos, cond_entropy, plugin_estimate, truth = get_cond_entropy_vs_mu(5000)\n",
    "\n",
    "sns.set(font_scale = 1.3)\n",
    "sns.set_style(\"ticks\")\n",
    "plt.rcParams[\"font.family\"] = \"Times New Roman\"\n",
    "line_est, = plt.plot(rhos, cond_entropy, label = \"CEF\", linewidth = 2, color = \"red\")\n",
    "line_plugin, = plt.plot(rhos, plugin_estimate, label = \"Plugin\", linewidth = 3, color = \"#94D6C9\")\n",
    "line_truth, = plt.plot(rhos, truth, label = \"Truth\", linewidth = 2, color = \"#4a484c\")\n",
    "\n",
    "plt.ylim(ymin = -.05)\n",
    "plt.ylim(ymax = 1.6)\n",
    "plt.legend(handles=[line_est, line_truth, line_plugin])\n",
    "plt.xlabel(u\"\\u03C1\")\n",
    "plt.ylabel(\"H(Y|X)\")\n",
    "plt.tight_layout()\n",
    "plt.savefig(\"cont_1d_n5000_conv0.png\")\n",
    "plt.show()"
   ]
  },
  {
   "cell_type": "code",
   "execution_count": 7,
   "metadata": {},
   "outputs": [
    {
     "data": {
      "application/vnd.jupyter.widget-view+json": {
       "model_id": "cc39f0f891704f9382f42d433e5e8102",
       "version_major": 2,
       "version_minor": 0
      },
      "text/plain": [
       "HBox(children=(IntProgress(value=0, max=25), HTML(value='')))"
      ]
     },
     "metadata": {},
     "output_type": "display_data"
    },
    {
     "name": "stdout",
     "output_type": "stream",
     "text": [
      "\n"
     ]
    },
    {
     "data": {
      "image/png": "[encoded data removed]",
      "text/plain": [
       "<Figure size 432x288 with 1 Axes>"
      ]
     },
     "metadata": {},
     "output_type": "display_data"
    }
   ],
   "source": [
    "from tqdm import tqdm_notebook\n",
    "\n",
    "def get_cond_entropy_vs_n(rho):\n",
    "    conditional_entropy = []\n",
    "    plugin_estimate = []\n",
    "    sample_sizes = [i*200 for i in range(1, 26)]\n",
    "    for elem in tqdm_notebook(sample_sizes):\n",
    "        X, y = get_cont_sample(elem, rho)\n",
    "        plugin_estimate.append(plugin_estimate_continuous(X.reshape(-1, 1), y))\n",
    "        conditional_entropy.append(rf_entropy_estimate_bagging(X.reshape(-1, 1), y, 200, .32, depth = 30))\n",
    "    return sample_sizes, conditional_entropy, plugin_estimate\n",
    "\n",
    "sample_sizes, cond_entropy, plugin_estimate = get_cond_entropy_vs_n(0)\n",
    "sns.set(font_scale = 1.3)\n",
    "sns.set_style(\"ticks\")\n",
    "plt.rcParams[\"font.family\"] = \"Times New Roman\"\n",
    "line_plugin, = plt.plot(sample_sizes, plugin_estimate, label = \"Plugin\", linewidth = 2, color = \"#94D6C9\")\n",
    "line_est, = plt.plot(sample_sizes, cond_entropy, label = \"CEF\", linewidth = 2, color = \"red\")\n",
    "line_true = plt.axhline(y=1.41, color='#4a484c', linestyle='-', label = \"Truth\")\n",
    "plt.xlabel(\"n\")\n",
    "plt.ylabel(\"H(Y|X)\")\n",
    "plt.legend(handles=[line_est, line_true, line_plugin])\n",
    "plt.ylim(ymax = 1.6)\n",
    "plt.ylim(ymin = 0)\n",
    "plt.tight_layout()\n",
    "plt.savefig(\"cont_1d_rho0_kde.png\")\n",
    "plt.show()"
   ]
  },
  {
   "cell_type": "code",
   "execution_count": 6,
   "metadata": {},
   "outputs": [
    {
     "data": {
      "text/plain": [
       "0.012873613538383618"
      ]
     },
     "execution_count": 6,
     "metadata": {},
     "output_type": "execute_result"
    }
   ],
   "source": [
    "from sklearn.ensemble.forest import _generate_unsampled_indices\n",
    "from sklearn.ensemble import BaggingRegressor\n",
    "from sklearn.tree import DecisionTreeRegressor\n",
    "from sklearn.neighbors import KernelDensity\n",
    "import math\n",
    "\n",
    "X, y = get_cont_sample(3000, 1)\n",
    "X = np.array(X).reshape(-1, 1)\n",
    "\n",
    "def rf_entropy_estimate_bagging(X, y, n_estimators = 200, max_samples = .32, bootstrap = True, depth = 30, min_samples_leaf = 5):\n",
    "    model = BaggingRegressor(DecisionTreeRegressor(max_depth = depth, min_samples_leaf = min_samples_leaf, max_features = int(math.ceil(X.shape[1]/3))), \n",
    "                              n_estimators = n_estimators, \n",
    "                              max_samples= max_samples, \n",
    "                              bootstrap = bootstrap)\n",
    "    model.fit(X, y)\n",
    "    posterior_counts = [[] for _ in range(len(X))]\n",
    "    for tree_idx in range(n_estimators):\n",
    "        tree = model[tree_idx]\n",
    "        unsampled_indices = np.where(model.estimators_samples_[tree_idx] == False)[0]\n",
    "        total_unsampled = len(unsampled_indices)\n",
    "        np.random.shuffle(unsampled_indices)\n",
    "        prob_indices, eval_indices = unsampled_indices[:total_unsampled//2], unsampled_indices[total_unsampled//2:]\n",
    "        node_counts = tree.tree_.n_node_samples\n",
    "        leaf_elems = [[] for _ in range(len(node_counts))]\n",
    "        for prob_index in prob_indices:\n",
    "            leaf_elems[tree.apply(X[prob_index].reshape(1, -1)).item()].append(y[prob_index])\n",
    "        for eval_index in eval_indices:\n",
    "            # for every x, collect all y samples in the leaf nodes x fell into (for entire forest)\n",
    "            posterior_counts[eval_index].extend(leaf_elems[tree.apply(X[eval_index].reshape(1, -1)).item()])\n",
    "    # for every x, approximate histogram entropy\n",
    "    entropy_estimates = []\n",
    "    for sample in posterior_counts:\n",
    "        sample = np.array(sample).reshape(-1, 1)\n",
    "        std = np.std(sample)\n",
    "        bandwidth = len(sample)**(-1/3)*3.49*std\n",
    "        kde = KernelDensity(bandwidth = bandwidth)\n",
    "        kde.fit(sample)\n",
    "        density = np.exp(kde.score_samples(sample))\n",
    "        entr = 0.\n",
    "        # this can be sped up\n",
    "        for elem in density:\n",
    "            incr = -1/len(sample)*np.log(elem)\n",
    "            if np.isnan(incr) or np.isinf(incr) or incr < 0:\n",
    "                continue\n",
    "            entr += incr\n",
    "        entropy_estimates.append(entr)\n",
    "    return np.mean(entropy_estimates)\n",
    "\n",
    "np.warnings.filterwarnings('ignore')\n",
    "\n",
    "X, y = get_cont_sample(3000, 1)\n",
    "rf_entropy_estimate_bagging(np.array(X).reshape(-1, 1), y, 200, .32)\n",
    "\n"
   ]
  },
  {
   "cell_type": "code",
   "execution_count": 8,
   "metadata": {},
   "outputs": [
    {
     "data": {
      "application/vnd.jupyter.widget-view+json": {
       "model_id": "b0bf87b0ee90493d91afa33514acb758",
       "version_major": 2,
       "version_minor": 0
      },
      "text/plain": [
       "HBox(children=(IntProgress(value=0, max=25), HTML(value='')))"
      ]
     },
     "metadata": {},
     "output_type": "display_data"
    },
    {
     "ename": "KeyboardInterrupt",
     "evalue": "",
     "output_type": "error",
     "traceback": [
      "\u001b[0;31m---------------------------------------------------------------------------\u001b[0m",
      "\u001b[0;31mKeyboardInterrupt\u001b[0m                         Traceback (most recent call last)",
      "\u001b[0;32m<ipython-input-8-27b36b79bbaf>\u001b[0m in \u001b[0;36m<module>\u001b[0;34m()\u001b[0m\n\u001b[1;32m     34\u001b[0m     \u001b[0;32mreturn\u001b[0m \u001b[0mrho\u001b[0m\u001b[0;34m,\u001b[0m \u001b[0mconditional_entropy\u001b[0m\u001b[0;34m,\u001b[0m \u001b[0mplugin_estimate\u001b[0m\u001b[0;34m,\u001b[0m \u001b[0mtruth\u001b[0m\u001b[0;34m\u001b[0m\u001b[0m\n\u001b[1;32m     35\u001b[0m \u001b[0;34m\u001b[0m\u001b[0m\n\u001b[0;32m---> 36\u001b[0;31m \u001b[0mrhos\u001b[0m\u001b[0;34m,\u001b[0m \u001b[0mcond_entropy\u001b[0m\u001b[0;34m,\u001b[0m \u001b[0mplugin_estimate\u001b[0m\u001b[0;34m,\u001b[0m \u001b[0mtruth\u001b[0m \u001b[0;34m=\u001b[0m \u001b[0mget_cond_entropy_vs_mu\u001b[0m\u001b[0;34m(\u001b[0m\u001b[0;36m3000\u001b[0m\u001b[0;34m)\u001b[0m\u001b[0;34m\u001b[0m\u001b[0m\n\u001b[0m\u001b[1;32m     37\u001b[0m \u001b[0;34m\u001b[0m\u001b[0m\n\u001b[1;32m     38\u001b[0m \u001b[0msns\u001b[0m\u001b[0;34m.\u001b[0m\u001b[0mset\u001b[0m\u001b[0;34m(\u001b[0m\u001b[0mfont_scale\u001b[0m \u001b[0;34m=\u001b[0m \u001b[0;36m1.3\u001b[0m\u001b[0;34m)\u001b[0m\u001b[0;34m\u001b[0m\u001b[0m\n",
      "\u001b[0;32m<ipython-input-8-27b36b79bbaf>\u001b[0m in \u001b[0;36mget_cond_entropy_vs_mu\u001b[0;34m(n)\u001b[0m\n\u001b[1;32m     30\u001b[0m         \u001b[0mX\u001b[0m\u001b[0;34m,\u001b[0m \u001b[0my\u001b[0m \u001b[0;34m=\u001b[0m \u001b[0mget_cont_sample\u001b[0m\u001b[0;34m(\u001b[0m\u001b[0mn\u001b[0m\u001b[0;34m,\u001b[0m \u001b[0melem\u001b[0m\u001b[0;34m)\u001b[0m\u001b[0;34m\u001b[0m\u001b[0m\n\u001b[1;32m     31\u001b[0m         \u001b[0mplugin_estimate\u001b[0m\u001b[0;34m.\u001b[0m\u001b[0mappend\u001b[0m\u001b[0;34m(\u001b[0m\u001b[0mplugin_estimate_continuous\u001b[0m\u001b[0;34m(\u001b[0m\u001b[0mX\u001b[0m\u001b[0;34m.\u001b[0m\u001b[0mreshape\u001b[0m\u001b[0;34m(\u001b[0m\u001b[0;34m-\u001b[0m\u001b[0;36m1\u001b[0m\u001b[0;34m,\u001b[0m \u001b[0;36m1\u001b[0m\u001b[0;34m)\u001b[0m\u001b[0;34m,\u001b[0m \u001b[0my\u001b[0m\u001b[0;34m)\u001b[0m\u001b[0;34m)\u001b[0m\u001b[0;34m\u001b[0m\u001b[0m\n\u001b[0;32m---> 32\u001b[0;31m         \u001b[0mconditional_entropy\u001b[0m\u001b[0;34m.\u001b[0m\u001b[0mappend\u001b[0m\u001b[0;34m(\u001b[0m\u001b[0mrf_entropy_estimate_bagging\u001b[0m\u001b[0;34m(\u001b[0m\u001b[0mX\u001b[0m\u001b[0;34m.\u001b[0m\u001b[0mreshape\u001b[0m\u001b[0;34m(\u001b[0m\u001b[0;34m-\u001b[0m\u001b[0;36m1\u001b[0m\u001b[0;34m,\u001b[0m \u001b[0;36m1\u001b[0m\u001b[0;34m)\u001b[0m\u001b[0;34m,\u001b[0m \u001b[0my\u001b[0m\u001b[0;34m,\u001b[0m \u001b[0;36m300\u001b[0m\u001b[0;34m,\u001b[0m \u001b[0;36m.32\u001b[0m\u001b[0;34m,\u001b[0m \u001b[0mdepth\u001b[0m \u001b[0;34m=\u001b[0m \u001b[0;36m30\u001b[0m\u001b[0;34m)\u001b[0m\u001b[0;34m)\u001b[0m\u001b[0;34m\u001b[0m\u001b[0m\n\u001b[0m\u001b[1;32m     33\u001b[0m         \u001b[0mtruth\u001b[0m\u001b[0;34m.\u001b[0m\u001b[0mappend\u001b[0m\u001b[0;34m(\u001b[0m\u001b[0mtruth_1d\u001b[0m\u001b[0;34m(\u001b[0m\u001b[0melem\u001b[0m\u001b[0;34m)\u001b[0m\u001b[0;34m)\u001b[0m\u001b[0;34m\u001b[0m\u001b[0m\n\u001b[1;32m     34\u001b[0m     \u001b[0;32mreturn\u001b[0m \u001b[0mrho\u001b[0m\u001b[0;34m,\u001b[0m \u001b[0mconditional_entropy\u001b[0m\u001b[0;34m,\u001b[0m \u001b[0mplugin_estimate\u001b[0m\u001b[0;34m,\u001b[0m \u001b[0mtruth\u001b[0m\u001b[0;34m\u001b[0m\u001b[0m\n",
      "\u001b[0;32m<ipython-input-6-ac5b928a9411>\u001b[0m in \u001b[0;36mrf_entropy_estimate_bagging\u001b[0;34m(X, y, n_estimators, max_samples, bootstrap, depth, min_samples_leaf)\u001b[0m\n\u001b[1;32m     17\u001b[0m     \u001b[0;32mfor\u001b[0m \u001b[0mtree_idx\u001b[0m \u001b[0;32min\u001b[0m \u001b[0mrange\u001b[0m\u001b[0;34m(\u001b[0m\u001b[0mn_estimators\u001b[0m\u001b[0;34m)\u001b[0m\u001b[0;34m:\u001b[0m\u001b[0;34m\u001b[0m\u001b[0m\n\u001b[1;32m     18\u001b[0m         \u001b[0mtree\u001b[0m \u001b[0;34m=\u001b[0m \u001b[0mmodel\u001b[0m\u001b[0;34m[\u001b[0m\u001b[0mtree_idx\u001b[0m\u001b[0;34m]\u001b[0m\u001b[0;34m\u001b[0m\u001b[0m\n\u001b[0;32m---> 19\u001b[0;31m         \u001b[0munsampled_indices\u001b[0m \u001b[0;34m=\u001b[0m \u001b[0mnp\u001b[0m\u001b[0;34m.\u001b[0m\u001b[0mwhere\u001b[0m\u001b[0;34m(\u001b[0m\u001b[0mmodel\u001b[0m\u001b[0;34m.\u001b[0m\u001b[0mestimators_samples_\u001b[0m\u001b[0;34m[\u001b[0m\u001b[0mtree_idx\u001b[0m\u001b[0;34m]\u001b[0m \u001b[0;34m==\u001b[0m \u001b[0;32mFalse\u001b[0m\u001b[0;34m)\u001b[0m\u001b[0;34m[\u001b[0m\u001b[0;36m0\u001b[0m\u001b[0;34m]\u001b[0m\u001b[0;34m\u001b[0m\u001b[0m\n\u001b[0m\u001b[1;32m     20\u001b[0m         \u001b[0mtotal_unsampled\u001b[0m \u001b[0;34m=\u001b[0m \u001b[0mlen\u001b[0m\u001b[0;34m(\u001b[0m\u001b[0munsampled_indices\u001b[0m\u001b[0;34m)\u001b[0m\u001b[0;34m\u001b[0m\u001b[0m\n\u001b[1;32m     21\u001b[0m         \u001b[0mnp\u001b[0m\u001b[0;34m.\u001b[0m\u001b[0mrandom\u001b[0m\u001b[0;34m.\u001b[0m\u001b[0mshuffle\u001b[0m\u001b[0;34m(\u001b[0m\u001b[0munsampled_indices\u001b[0m\u001b[0;34m)\u001b[0m\u001b[0;34m\u001b[0m\u001b[0m\n",
      "\u001b[0;32m/usr/local/lib/python3.7/site-packages/sklearn/ensemble/bagging.py\u001b[0m in \u001b[0;36mestimators_samples_\u001b[0;34m(self)\u001b[0m\n\u001b[1;32m    421\u001b[0m         \u001b[0msample_masks\u001b[0m \u001b[0;34m=\u001b[0m \u001b[0;34m[\u001b[0m\u001b[0;34m]\u001b[0m\u001b[0;34m\u001b[0m\u001b[0m\n\u001b[1;32m    422\u001b[0m         \u001b[0;32mfor\u001b[0m \u001b[0m_\u001b[0m\u001b[0;34m,\u001b[0m \u001b[0msample_indices\u001b[0m \u001b[0;32min\u001b[0m \u001b[0mself\u001b[0m\u001b[0;34m.\u001b[0m\u001b[0m_get_estimators_indices\u001b[0m\u001b[0;34m(\u001b[0m\u001b[0;34m)\u001b[0m\u001b[0;34m:\u001b[0m\u001b[0;34m\u001b[0m\u001b[0m\n\u001b[0;32m--> 423\u001b[0;31m             \u001b[0mmask\u001b[0m \u001b[0;34m=\u001b[0m \u001b[0mindices_to_mask\u001b[0m\u001b[0;34m(\u001b[0m\u001b[0msample_indices\u001b[0m\u001b[0;34m,\u001b[0m \u001b[0mself\u001b[0m\u001b[0;34m.\u001b[0m\u001b[0m_n_samples\u001b[0m\u001b[0;34m)\u001b[0m\u001b[0;34m\u001b[0m\u001b[0m\n\u001b[0m\u001b[1;32m    424\u001b[0m             \u001b[0msample_masks\u001b[0m\u001b[0;34m.\u001b[0m\u001b[0mappend\u001b[0m\u001b[0;34m(\u001b[0m\u001b[0mmask\u001b[0m\u001b[0;34m)\u001b[0m\u001b[0;34m\u001b[0m\u001b[0m\n\u001b[1;32m    425\u001b[0m \u001b[0;34m\u001b[0m\u001b[0m\n",
      "\u001b[0;32m/usr/local/lib/python3.7/site-packages/sklearn/utils/__init__.py\u001b[0m in \u001b[0;36mindices_to_mask\u001b[0;34m(indices, mask_length)\u001b[0m\n\u001b[1;32m    500\u001b[0m         \u001b[0mBoolean\u001b[0m \u001b[0marray\u001b[0m \u001b[0mthat\u001b[0m \u001b[0;32mis\u001b[0m \u001b[0;32mTrue\u001b[0m \u001b[0mwhere\u001b[0m \u001b[0mindices\u001b[0m \u001b[0mare\u001b[0m \u001b[0mpresent\u001b[0m\u001b[0;34m,\u001b[0m \u001b[0;32melse\u001b[0m \u001b[0;32mFalse\u001b[0m\u001b[0;34m.\u001b[0m\u001b[0;34m\u001b[0m\u001b[0m\n\u001b[1;32m    501\u001b[0m     \"\"\"\n\u001b[0;32m--> 502\u001b[0;31m     \u001b[0;32mif\u001b[0m \u001b[0mmask_length\u001b[0m \u001b[0;34m<=\u001b[0m \u001b[0mnp\u001b[0m\u001b[0;34m.\u001b[0m\u001b[0mmax\u001b[0m\u001b[0;34m(\u001b[0m\u001b[0mindices\u001b[0m\u001b[0;34m)\u001b[0m\u001b[0;34m:\u001b[0m\u001b[0;34m\u001b[0m\u001b[0m\n\u001b[0m\u001b[1;32m    503\u001b[0m         \u001b[0;32mraise\u001b[0m \u001b[0mValueError\u001b[0m\u001b[0;34m(\u001b[0m\u001b[0;34m\"mask_length must be greater than max(indices)\"\u001b[0m\u001b[0;34m)\u001b[0m\u001b[0;34m\u001b[0m\u001b[0m\n\u001b[1;32m    504\u001b[0m \u001b[0;34m\u001b[0m\u001b[0m\n",
      "\u001b[0;32m/usr/local/lib/python3.7/site-packages/numpy/core/fromnumeric.py\u001b[0m in \u001b[0;36mamax\u001b[0;34m(a, axis, out, keepdims, initial)\u001b[0m\n\u001b[1;32m   2332\u001b[0m     \"\"\"\n\u001b[1;32m   2333\u001b[0m     return _wrapreduction(a, np.maximum, 'max', axis, None, out, keepdims=keepdims,\n\u001b[0;32m-> 2334\u001b[0;31m                           initial=initial)\n\u001b[0m\u001b[1;32m   2335\u001b[0m \u001b[0;34m\u001b[0m\u001b[0m\n\u001b[1;32m   2336\u001b[0m \u001b[0;34m\u001b[0m\u001b[0m\n",
      "\u001b[0;32m/usr/local/lib/python3.7/site-packages/numpy/core/fromnumeric.py\u001b[0m in \u001b[0;36m_wrapreduction\u001b[0;34m(obj, ufunc, method, axis, dtype, out, **kwargs)\u001b[0m\n\u001b[1;32m     81\u001b[0m                 \u001b[0;32mreturn\u001b[0m \u001b[0mreduction\u001b[0m\u001b[0;34m(\u001b[0m\u001b[0maxis\u001b[0m\u001b[0;34m=\u001b[0m\u001b[0maxis\u001b[0m\u001b[0;34m,\u001b[0m \u001b[0mout\u001b[0m\u001b[0;34m=\u001b[0m\u001b[0mout\u001b[0m\u001b[0;34m,\u001b[0m \u001b[0;34m**\u001b[0m\u001b[0mpasskwargs\u001b[0m\u001b[0;34m)\u001b[0m\u001b[0;34m\u001b[0m\u001b[0m\n\u001b[1;32m     82\u001b[0m \u001b[0;34m\u001b[0m\u001b[0m\n\u001b[0;32m---> 83\u001b[0;31m     \u001b[0;32mreturn\u001b[0m \u001b[0mufunc\u001b[0m\u001b[0;34m.\u001b[0m\u001b[0mreduce\u001b[0m\u001b[0;34m(\u001b[0m\u001b[0mobj\u001b[0m\u001b[0;34m,\u001b[0m \u001b[0maxis\u001b[0m\u001b[0;34m,\u001b[0m \u001b[0mdtype\u001b[0m\u001b[0;34m,\u001b[0m \u001b[0mout\u001b[0m\u001b[0;34m,\u001b[0m \u001b[0;34m**\u001b[0m\u001b[0mpasskwargs\u001b[0m\u001b[0;34m)\u001b[0m\u001b[0;34m\u001b[0m\u001b[0m\n\u001b[0m\u001b[1;32m     84\u001b[0m \u001b[0;34m\u001b[0m\u001b[0m\n\u001b[1;32m     85\u001b[0m \u001b[0;34m\u001b[0m\u001b[0m\n",
      "\u001b[0;31mKeyboardInterrupt\u001b[0m: "
     ]
    }
   ],
   "source": [
    "from tqdm import tqdm_notebook\n",
    "\n",
    "from scipy.stats import multivariate_normal\n",
    "\n",
    "\n",
    "def estimate_multivariate_entropy(X):\n",
    "    mean = np.mean(X, axis = 0)\n",
    "    covar = np.cov(X, rowvar = False)\n",
    "    return multivariate_normal.entropy(mean, covar)\n",
    "\n",
    "def plugin_estimate_continuous(X, y):\n",
    "    joint = np.concatenate((y.reshape(-1, 1), X), axis = 1)\n",
    "    joint_entropy = estimate_multivariate_entropy(joint)\n",
    "    h_x = estimate_multivariate_entropy(X)\n",
    "    cond_entr =  joint_entropy - h_x\n",
    "    if cond_entr < 0:\n",
    "        return 0\n",
    "    return cond_entr\n",
    "\n",
    "def truth_1d(rho):\n",
    "    return multivariate_normal.entropy([0, 0], np.array([[1, rho], [rho, 1]])) - multivariate_normal.entropy([0], [1]) \n",
    "\n",
    "\n",
    "def get_cond_entropy_vs_mu(n):\n",
    "    conditional_entropy = []\n",
    "    plugin_estimate = []\n",
    "    truth = []\n",
    "    rho = [i*.04 for i in range(0, 25)]\n",
    "    for elem in tqdm_notebook(rho):\n",
    "        X, y = get_cont_sample(n, elem)\n",
    "        plugin_estimate.append(plugin_estimate_continuous(X.reshape(-1, 1), y))\n",
    "        conditional_entropy.append(rf_entropy_estimate_bagging(X.reshape(-1, 1), y, 300, .32, depth = 30))\n",
    "        truth.append(truth_1d(elem))\n",
    "    return rho, conditional_entropy, plugin_estimate, truth\n",
    "\n",
    "rhos, cond_entropy, plugin_estimate, truth = get_cond_entropy_vs_mu(3000)\n",
    "\n",
    "sns.set(font_scale = 1.3)\n",
    "sns.set_style(\"ticks\")\n",
    "plt.rcParams[\"font.family\"] = \"Times New Roman\"\n",
    "line_est, = plt.plot(rhos, cond_entropy, label = \"CEF\", linewidth = 2, color = \"red\")\n",
    "line_plugin, = plt.plot(rhos, plugin_estimate, label = \"Plugin\", linewidth = 3, color = \"#94D6C9\")\n",
    "line_truth, = plt.plot(rhos, truth, label = \"Truth\", linewidth = 2, color = \"#4a484c\")\n",
    "\n",
    "plt.ylim(ymin = -.05)\n",
    "plt.ylim(ymax = 1.6)\n",
    "plt.legend(handles=[line_est, line_truth, line_plugin])\n",
    "plt.xlabel(u\"\\u03C1\")\n",
    "plt.ylabel(\"H(Y|X)\")\n",
    "plt.tight_layout()\n",
    "plt.savefig(\"cont_1d_n3000_conv0_scott.png\")\n",
    "plt.show()"
   ]
  },
  {
   "cell_type": "code",
   "execution_count": null,
   "metadata": {},
   "outputs": [],
   "source": []
  }
 ],
 "metadata": {
  "kernelspec": {
   "display_name": "Python 3",
   "language": "python",
   "name": "python3"
  },
  "language_info": {
   "codemirror_mode": {
    "name": "ipython",
    "version": 3
   },
   "file_extension": ".py",
   "mimetype": "text/x-python",
   "name": "python",
   "nbconvert_exporter": "python",
   "pygments_lexer": "ipython3",
   "version": "3.7.0"
  }
 },
 "nbformat": 4,
 "nbformat_minor": 2
}
